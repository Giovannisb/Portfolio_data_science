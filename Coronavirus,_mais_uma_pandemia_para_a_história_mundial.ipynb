{
  "nbformat": 4,
  "nbformat_minor": 0,
  "metadata": {
    "colab": {
      "name": "Coronavirus, mais uma pandemia para a história mundial.ipynb",
      "provenance": [],
      "authorship_tag": "ABX9TyNgsWzX/WMtSlIw7KLnbJZI",
      "include_colab_link": true
    },
    "kernelspec": {
      "name": "python3",
      "display_name": "Python 3"
    }
  },
  "cells": [
    {
      "cell_type": "markdown",
      "metadata": {
        "id": "view-in-github",
        "colab_type": "text"
      },
      "source": [
        "<a href=\"https://colab.research.google.com/github/Giovannisb/Portfolio_data_science/blob/master/Coronavirus%2C_mais_uma_pandemia_para_a_hist%C3%B3ria_mundial.ipynb\" target=\"_parent\"><img src=\"https://colab.research.google.com/assets/colab-badge.svg\" alt=\"Open In Colab\"/></a>"
      ]
    },
    {
      "cell_type": "markdown",
      "metadata": {
        "id": "-SKLEuXraznr",
        "colab_type": "text"
      },
      "source": [
        "\n",
        "<center><img alt=\"Colaboratory logo\" src=\"https://image.freepik.com/vetores-gratis/coronavirus-2019-ncov-e-fundo-de-virus-com-celulas-da-doenca-surto-de-virus-covid-19-corona-e-conceito-de-risco-medico-para-a-pandemia_139523-181.jpg\"></center>\n",
        "\n",
        "##Pandemias\n",
        "Segundo a OMS, uma pandemia é a disseminação mundial de uma nova doença. O que indica que uma determinada doença se espalhou de forma rápida por vários continentes e como meio de transmissão de pessoa para pessoa.\n",
        "\n",
        "Não é de hoje que o mundo sofre com pandemias, desde os anos de 541, onde no Egito se iniciou a *Peste de Justiniano* e se espalhou até chegar no *Império Bizantino*. Era provocada pela *Peste Bubônica* e transmitida por pulgas em ratos contaminados, chegando a matar entre 500 mil e 1 milhão de pessoas em Constantinopla.\n",
        "\n",
        "Em seguida, nos anos de 1343, tivemos umas das mais famosas pandemias, a *Peste Negra*, que assolou os continentes asiático e europeu. A peste teve seu auge nos anos de 1353, chegando a matar entre 75 a 200 milhões de pessoas.\n",
        "\n",
        "Em 1580, tivemos a *Gripe Russas* foi a primeira a ser documentada com detalhes, com proliferação inicial de duas semanas sobre o Império Russo e chegando até o Rio de Janeiro. Ao todo, 1 milhão de pessoas morreram por conta de um subtipo da Influenza A. \n",
        "\n",
        "A mais recente pandemia que tivemos ocorreu no ano de 1918, a *Gripe Espanhola*, causando a morte de 20 a 50 milhões de pessoas. Como o nome sugere, a gripe espanhola não ocorreu apenas na Espanha, não se sabe ao certo a sua origem mas sabe-se que ela se originou de uma mutação do virus *Influenza*. Os primeiros casos foram registrados nos Estados Unidos. A gripe espanhola se espalhou pelo mundo principalmente, por conta da movimentação de tropas no período da Primeira Guerra Mundial, tendo um impacto direto nos países que participavam desse conflito."
      ]
    },
    {
      "cell_type": "markdown",
      "metadata": {
        "id": "TRJgEwOCew_v",
        "colab_type": "text"
      },
      "source": [
        "#Coronavírus\n",
        "\n",
        "<center><img alt=\"Colaboratory logo\" src=\"https://image.freepik.com/vetores-gratis/coronavirus-covarde-no-conceito-de-ilustracao-3d-real-para-descrever-a-anatomia-e-o-tipo-do-virus-corona_17005-733.jpg\"></center>\n",
        "\n",
        "Os primeiros casos do coronavírus (Covid-19) foram registrados no mercado de frutos do mar da cidade de Wuhan na China, as primeiras ocorrências foram relatadas na virada do ano de 2019 e o registro de casos suspeitos foram aumentando de maneira exponencial nas primeiras semanas. Acredita-se que o vírus tenha como hospedeiro o pangolim, um animal exótico consumido em algumas regiões da China.\n",
        "\n",
        "Transmitido principalmente por meio de gotículas provenientes de tosses ou espirros de pessoas infectadas, a gravidade dos sintomas varia muito de pessoa para pessoa. Fato é, não se sabe muita coisa a respeito do COVID-19. Estudos estão sendo realizados no mundo todo, porém os resultados ainda não são conclusivos e definitivos.\n",
        "\n",
        "Até o presente momento, observa-se que cerca de 80% dos casos confirmados são assintomáticos e rápidos. A maioria das pessoas que se encaixam nesse grupo, se recupera sem nenhuma sequela.\n",
        "\n",
        "No entanto, 15% das pessoas terão infecções graves e precisarão de oxigênio. O restante das pessoas, que representam 5%, serão classificadas como infecções muito graves e precisarão de ventilação assistida, por meio de respiradores mecânicos em ambiente hospitalar.\n",
        "\n",
        "Com o objetivo de elevar a consciência situacional a respeito do COVID-19 no Brasil, irei realizar uma análise sobre os dados públicos da doença."
      ]
    },
    {
      "cell_type": "markdown",
      "metadata": {
        "id": "HQ8h_LI0v8bo",
        "colab_type": "text"
      },
      "source": [
        "#Panorama do Coronavirus\n"
      ]
    },
    {
      "cell_type": "markdown",
      "metadata": {
        "id": "1O6ToH7F3cjW",
        "colab_type": "text"
      },
      "source": [
        "###Obtenção dos dados\n",
        "\n",
        "É difícil fazer uma análise mais aprofundada da doença, já que todos os dias são atualizados os dados e não temos como prever de forma 100% correta os dados futuros pois, os números são decorrentes de vários fatores como: Política de saúde de cada região, medidas de segurança, conciência de cada cidadão e outras variáveis.\n",
        "\n",
        "Obtive os dados a partir do repositório do Github do `Our World in Data`, lá pode tem os dados a nível global atualizados diariamente.\n"
      ]
    },
    {
      "cell_type": "code",
      "metadata": {
        "id": "hM9zUETw3QjG",
        "colab_type": "code",
        "colab": {
          "base_uri": "https://localhost:8080/",
          "height": 71
        },
        "outputId": "9ac32b47-c699-4db6-aaf0-716e952663e0"
      },
      "source": [
        "#importando as bibliotecas necessárias\n",
        "import pandas as pd\n",
        "import matplotlib.pyplot as plt\n",
        "import seaborn as sns\n",
        "\n",
        "%matplotlib inline\n",
        "#importando os dados do Github\n",
        "DATA_PATH = 'https://raw.githubusercontent.com/owid/covid-19-data/master/public/data/owid-covid-data.csv'\n",
        "\n",
        "#Criando nosso DataFrame\n",
        "df = pd.read_csv(DATA_PATH)"
      ],
      "execution_count": null,
      "outputs": [
        {
          "output_type": "stream",
          "text": [
            "/usr/local/lib/python3.6/dist-packages/statsmodels/tools/_testing.py:19: FutureWarning: pandas.util.testing is deprecated. Use the functions in the public API at pandas.testing instead.\n",
            "  import pandas.util.testing as tm\n"
          ],
          "name": "stderr"
        }
      ]
    },
    {
      "cell_type": "markdown",
      "metadata": {
        "id": "gnEd3isPJh2h",
        "colab_type": "text"
      },
      "source": [
        "Para conferir-mos as primeiras entradas e ver se há algum erro, utilizo a função `head`. O `DataFrame` é ordenado por continente, país e data. Como podemos observar em seguida, não há casos registrados nos 4 primeiros dias do ano de 2020 no Afeganistão"
      ]
    },
    {
      "cell_type": "code",
      "metadata": {
        "id": "vZudnqUrg9kr",
        "colab_type": "code",
        "colab": {
          "base_uri": "https://localhost:8080/",
          "height": 309
        },
        "outputId": "5471c032-8472-4ee9-c3cb-b2a9babc6b93"
      },
      "source": [
        "df.head()"
      ],
      "execution_count": null,
      "outputs": [
        {
          "output_type": "execute_result",
          "data": {
            "text/html": [
              "<div>\n",
              "<style scoped>\n",
              "    .dataframe tbody tr th:only-of-type {\n",
              "        vertical-align: middle;\n",
              "    }\n",
              "\n",
              "    .dataframe tbody tr th {\n",
              "        vertical-align: top;\n",
              "    }\n",
              "\n",
              "    .dataframe thead th {\n",
              "        text-align: right;\n",
              "    }\n",
              "</style>\n",
              "<table border=\"1\" class=\"dataframe\">\n",
              "  <thead>\n",
              "    <tr style=\"text-align: right;\">\n",
              "      <th></th>\n",
              "      <th>iso_code</th>\n",
              "      <th>continent</th>\n",
              "      <th>location</th>\n",
              "      <th>date</th>\n",
              "      <th>total_cases</th>\n",
              "      <th>new_cases</th>\n",
              "      <th>total_deaths</th>\n",
              "      <th>new_deaths</th>\n",
              "      <th>total_cases_per_million</th>\n",
              "      <th>new_cases_per_million</th>\n",
              "      <th>total_deaths_per_million</th>\n",
              "      <th>new_deaths_per_million</th>\n",
              "      <th>total_tests</th>\n",
              "      <th>new_tests</th>\n",
              "      <th>total_tests_per_thousand</th>\n",
              "      <th>new_tests_per_thousand</th>\n",
              "      <th>new_tests_smoothed</th>\n",
              "      <th>new_tests_smoothed_per_thousand</th>\n",
              "      <th>tests_units</th>\n",
              "      <th>stringency_index</th>\n",
              "      <th>population</th>\n",
              "      <th>population_density</th>\n",
              "      <th>median_age</th>\n",
              "      <th>aged_65_older</th>\n",
              "      <th>aged_70_older</th>\n",
              "      <th>gdp_per_capita</th>\n",
              "      <th>extreme_poverty</th>\n",
              "      <th>cvd_death_rate</th>\n",
              "      <th>diabetes_prevalence</th>\n",
              "      <th>female_smokers</th>\n",
              "      <th>male_smokers</th>\n",
              "      <th>handwashing_facilities</th>\n",
              "      <th>hospital_beds_per_thousand</th>\n",
              "      <th>life_expectancy</th>\n",
              "    </tr>\n",
              "  </thead>\n",
              "  <tbody>\n",
              "    <tr>\n",
              "      <th>0</th>\n",
              "      <td>AFG</td>\n",
              "      <td>Asia</td>\n",
              "      <td>Afghanistan</td>\n",
              "      <td>2019-12-31</td>\n",
              "      <td>0.0</td>\n",
              "      <td>0.0</td>\n",
              "      <td>0.0</td>\n",
              "      <td>0.0</td>\n",
              "      <td>0.0</td>\n",
              "      <td>0.0</td>\n",
              "      <td>0.0</td>\n",
              "      <td>0.0</td>\n",
              "      <td>NaN</td>\n",
              "      <td>NaN</td>\n",
              "      <td>NaN</td>\n",
              "      <td>NaN</td>\n",
              "      <td>NaN</td>\n",
              "      <td>NaN</td>\n",
              "      <td>NaN</td>\n",
              "      <td>NaN</td>\n",
              "      <td>38928341.0</td>\n",
              "      <td>54.422</td>\n",
              "      <td>18.6</td>\n",
              "      <td>2.581</td>\n",
              "      <td>1.337</td>\n",
              "      <td>1803.987</td>\n",
              "      <td>NaN</td>\n",
              "      <td>597.029</td>\n",
              "      <td>9.59</td>\n",
              "      <td>NaN</td>\n",
              "      <td>NaN</td>\n",
              "      <td>37.746</td>\n",
              "      <td>0.5</td>\n",
              "      <td>64.83</td>\n",
              "    </tr>\n",
              "    <tr>\n",
              "      <th>1</th>\n",
              "      <td>AFG</td>\n",
              "      <td>Asia</td>\n",
              "      <td>Afghanistan</td>\n",
              "      <td>2020-01-01</td>\n",
              "      <td>0.0</td>\n",
              "      <td>0.0</td>\n",
              "      <td>0.0</td>\n",
              "      <td>0.0</td>\n",
              "      <td>0.0</td>\n",
              "      <td>0.0</td>\n",
              "      <td>0.0</td>\n",
              "      <td>0.0</td>\n",
              "      <td>NaN</td>\n",
              "      <td>NaN</td>\n",
              "      <td>NaN</td>\n",
              "      <td>NaN</td>\n",
              "      <td>NaN</td>\n",
              "      <td>NaN</td>\n",
              "      <td>NaN</td>\n",
              "      <td>0.0</td>\n",
              "      <td>38928341.0</td>\n",
              "      <td>54.422</td>\n",
              "      <td>18.6</td>\n",
              "      <td>2.581</td>\n",
              "      <td>1.337</td>\n",
              "      <td>1803.987</td>\n",
              "      <td>NaN</td>\n",
              "      <td>597.029</td>\n",
              "      <td>9.59</td>\n",
              "      <td>NaN</td>\n",
              "      <td>NaN</td>\n",
              "      <td>37.746</td>\n",
              "      <td>0.5</td>\n",
              "      <td>64.83</td>\n",
              "    </tr>\n",
              "    <tr>\n",
              "      <th>2</th>\n",
              "      <td>AFG</td>\n",
              "      <td>Asia</td>\n",
              "      <td>Afghanistan</td>\n",
              "      <td>2020-01-02</td>\n",
              "      <td>0.0</td>\n",
              "      <td>0.0</td>\n",
              "      <td>0.0</td>\n",
              "      <td>0.0</td>\n",
              "      <td>0.0</td>\n",
              "      <td>0.0</td>\n",
              "      <td>0.0</td>\n",
              "      <td>0.0</td>\n",
              "      <td>NaN</td>\n",
              "      <td>NaN</td>\n",
              "      <td>NaN</td>\n",
              "      <td>NaN</td>\n",
              "      <td>NaN</td>\n",
              "      <td>NaN</td>\n",
              "      <td>NaN</td>\n",
              "      <td>0.0</td>\n",
              "      <td>38928341.0</td>\n",
              "      <td>54.422</td>\n",
              "      <td>18.6</td>\n",
              "      <td>2.581</td>\n",
              "      <td>1.337</td>\n",
              "      <td>1803.987</td>\n",
              "      <td>NaN</td>\n",
              "      <td>597.029</td>\n",
              "      <td>9.59</td>\n",
              "      <td>NaN</td>\n",
              "      <td>NaN</td>\n",
              "      <td>37.746</td>\n",
              "      <td>0.5</td>\n",
              "      <td>64.83</td>\n",
              "    </tr>\n",
              "    <tr>\n",
              "      <th>3</th>\n",
              "      <td>AFG</td>\n",
              "      <td>Asia</td>\n",
              "      <td>Afghanistan</td>\n",
              "      <td>2020-01-03</td>\n",
              "      <td>0.0</td>\n",
              "      <td>0.0</td>\n",
              "      <td>0.0</td>\n",
              "      <td>0.0</td>\n",
              "      <td>0.0</td>\n",
              "      <td>0.0</td>\n",
              "      <td>0.0</td>\n",
              "      <td>0.0</td>\n",
              "      <td>NaN</td>\n",
              "      <td>NaN</td>\n",
              "      <td>NaN</td>\n",
              "      <td>NaN</td>\n",
              "      <td>NaN</td>\n",
              "      <td>NaN</td>\n",
              "      <td>NaN</td>\n",
              "      <td>0.0</td>\n",
              "      <td>38928341.0</td>\n",
              "      <td>54.422</td>\n",
              "      <td>18.6</td>\n",
              "      <td>2.581</td>\n",
              "      <td>1.337</td>\n",
              "      <td>1803.987</td>\n",
              "      <td>NaN</td>\n",
              "      <td>597.029</td>\n",
              "      <td>9.59</td>\n",
              "      <td>NaN</td>\n",
              "      <td>NaN</td>\n",
              "      <td>37.746</td>\n",
              "      <td>0.5</td>\n",
              "      <td>64.83</td>\n",
              "    </tr>\n",
              "    <tr>\n",
              "      <th>4</th>\n",
              "      <td>AFG</td>\n",
              "      <td>Asia</td>\n",
              "      <td>Afghanistan</td>\n",
              "      <td>2020-01-04</td>\n",
              "      <td>0.0</td>\n",
              "      <td>0.0</td>\n",
              "      <td>0.0</td>\n",
              "      <td>0.0</td>\n",
              "      <td>0.0</td>\n",
              "      <td>0.0</td>\n",
              "      <td>0.0</td>\n",
              "      <td>0.0</td>\n",
              "      <td>NaN</td>\n",
              "      <td>NaN</td>\n",
              "      <td>NaN</td>\n",
              "      <td>NaN</td>\n",
              "      <td>NaN</td>\n",
              "      <td>NaN</td>\n",
              "      <td>NaN</td>\n",
              "      <td>0.0</td>\n",
              "      <td>38928341.0</td>\n",
              "      <td>54.422</td>\n",
              "      <td>18.6</td>\n",
              "      <td>2.581</td>\n",
              "      <td>1.337</td>\n",
              "      <td>1803.987</td>\n",
              "      <td>NaN</td>\n",
              "      <td>597.029</td>\n",
              "      <td>9.59</td>\n",
              "      <td>NaN</td>\n",
              "      <td>NaN</td>\n",
              "      <td>37.746</td>\n",
              "      <td>0.5</td>\n",
              "      <td>64.83</td>\n",
              "    </tr>\n",
              "  </tbody>\n",
              "</table>\n",
              "</div>"
            ],
            "text/plain": [
              "  iso_code continent  ... hospital_beds_per_thousand life_expectancy\n",
              "0      AFG      Asia  ...                        0.5           64.83\n",
              "1      AFG      Asia  ...                        0.5           64.83\n",
              "2      AFG      Asia  ...                        0.5           64.83\n",
              "3      AFG      Asia  ...                        0.5           64.83\n",
              "4      AFG      Asia  ...                        0.5           64.83\n",
              "\n",
              "[5 rows x 34 columns]"
            ]
          },
          "metadata": {
            "tags": []
          },
          "execution_count": 15
        }
      ]
    },
    {
      "cell_type": "code",
      "metadata": {
        "id": "j8mNqUMrii9D",
        "colab_type": "code",
        "colab": {
          "base_uri": "https://localhost:8080/",
          "height": 34
        },
        "outputId": "be67cd31-4efb-43c9-b0d1-18337568f57b"
      },
      "source": [
        "print(\"Nosso DataFrame é composto por {}\".format(df.shape[0]), \"entradas e {}\".format(df.shape[1]), \"colunas.\")"
      ],
      "execution_count": null,
      "outputs": [
        {
          "output_type": "stream",
          "text": [
            "Nosso DataFrame é composto por 24443 entradas e 34 colunas.\n"
          ],
          "name": "stdout"
        }
      ]
    },
    {
      "cell_type": "code",
      "metadata": {
        "id": "jhA2KPwGrWTf",
        "colab_type": "code",
        "colab": {
          "base_uri": "https://localhost:8080/",
          "height": 612
        },
        "outputId": "2cbf668a-0409-43b2-f6df-9251fc38b387"
      },
      "source": [
        "df.dtypes"
      ],
      "execution_count": null,
      "outputs": [
        {
          "output_type": "execute_result",
          "data": {
            "text/plain": [
              "iso_code                                   object\n",
              "continent                                  object\n",
              "location                                   object\n",
              "date                               datetime64[ns]\n",
              "total_cases                               float64\n",
              "new_cases                                 float64\n",
              "total_deaths                              float64\n",
              "new_deaths                                float64\n",
              "total_cases_per_million                   float64\n",
              "new_cases_per_million                     float64\n",
              "total_deaths_per_million                  float64\n",
              "new_deaths_per_million                    float64\n",
              "total_tests                               float64\n",
              "new_tests                                 float64\n",
              "total_tests_per_thousand                  float64\n",
              "new_tests_per_thousand                    float64\n",
              "new_tests_smoothed                        float64\n",
              "new_tests_smoothed_per_thousand           float64\n",
              "tests_units                                object\n",
              "stringency_index                          float64\n",
              "population                                float64\n",
              "population_density                        float64\n",
              "median_age                                float64\n",
              "aged_65_older                             float64\n",
              "aged_70_older                             float64\n",
              "gdp_per_capita                            float64\n",
              "extreme_poverty                           float64\n",
              "cvd_death_rate                            float64\n",
              "diabetes_prevalence                       float64\n",
              "female_smokers                            float64\n",
              "male_smokers                              float64\n",
              "handwashing_facilities                    float64\n",
              "hospital_beds_per_thousand                float64\n",
              "life_expectancy                           float64\n",
              "dtype: object"
            ]
          },
          "metadata": {
            "tags": []
          },
          "execution_count": 7
        }
      ]
    },
    {
      "cell_type": "markdown",
      "metadata": {
        "id": "fSzzBOXuNTgx",
        "colab_type": "text"
      },
      "source": [
        "Os tipos dos dados em sua maioria são numéricos com algumas exceções, como por exemplo `continente`, `localidade` e `data`"
      ]
    },
    {
      "cell_type": "code",
      "metadata": {
        "id": "27VYk8-mrbZ3",
        "colab_type": "code",
        "colab": {
          "base_uri": "https://localhost:8080/",
          "height": 612
        },
        "outputId": "eddc28cf-2aa9-4b2f-de0a-8c4b065c2720"
      },
      "source": [
        "(df.isnull().sum() / df.shape[0]) * 100"
      ],
      "execution_count": null,
      "outputs": [
        {
          "output_type": "execute_result",
          "data": {
            "text/plain": [
              "iso_code                            0.261834\n",
              "continent                           0.957329\n",
              "location                            0.000000\n",
              "date                                0.000000\n",
              "total_cases                         0.891871\n",
              "new_cases                           0.891871\n",
              "total_deaths                        0.891871\n",
              "new_deaths                          0.891871\n",
              "total_cases_per_million             1.153705\n",
              "new_cases_per_million               1.153705\n",
              "total_deaths_per_million            1.153705\n",
              "new_deaths_per_million              1.153705\n",
              "total_tests                        72.290635\n",
              "new_tests                          75.039889\n",
              "total_tests_per_thousand           72.290635\n",
              "new_tests_per_thousand             75.039889\n",
              "new_tests_smoothed                 70.101870\n",
              "new_tests_smoothed_per_thousand    70.101870\n",
              "tests_units                        67.602176\n",
              "stringency_index                   20.373931\n",
              "population                          0.261834\n",
              "population_density                  4.271161\n",
              "median_age                          9.487379\n",
              "aged_65_older                      10.751544\n",
              "aged_70_older                       9.949679\n",
              "gdp_per_capita                     10.473346\n",
              "extreme_poverty                    40.195557\n",
              "cvd_death_rate                      9.397373\n",
              "diabetes_prevalence                 6.472201\n",
              "female_smokers                     27.054781\n",
              "male_smokers                       27.881193\n",
              "handwashing_facilities             59.567156\n",
              "hospital_beds_per_thousand         16.953729\n",
              "life_expectancy                     1.382809\n",
              "dtype: float64"
            ]
          },
          "metadata": {
            "tags": []
          },
          "execution_count": 22
        }
      ]
    },
    {
      "cell_type": "markdown",
      "metadata": {
        "id": "QtE-zHs0NyCY",
        "colab_type": "text"
      },
      "source": [
        "Há uma grande quantidade de dados nulos no DataFrame, como por exemplo, dados como: `total de testes`, `novos testes`, `testes a cada 100 pessoas`, cada um com mais de 70% dos dados faltantes. possivelmente isso ocorreu devido ao atraso nas políticas de saúde de cada região para testar a população, o aparecimento de sintomas na população e o isolamento social."
      ]
    },
    {
      "cell_type": "code",
      "metadata": {
        "id": "4jYrsLekrrEH",
        "colab_type": "code",
        "colab": {}
      },
      "source": [
        "df.date = pd.to_datetime(df.date)"
      ],
      "execution_count": null,
      "outputs": []
    },
    {
      "cell_type": "markdown",
      "metadata": {
        "id": "MIexVfje3v8s",
        "colab_type": "text"
      },
      "source": [
        "#Olhando para o Brasil"
      ]
    },
    {
      "cell_type": "code",
      "metadata": {
        "id": "MBi_G_7hBVbB",
        "colab_type": "code",
        "colab": {
          "base_uri": "https://localhost:8080/",
          "height": 204
        },
        "outputId": "52484ee5-6e80-4472-e7b8-19636e1db69a"
      },
      "source": [
        "df_cases =  df.loc[df.date == '2020-06-17', ['location', 'total_cases']].sort_values(by=\"total_cases\", ascending=False)[1:6].copy()\n",
        "df_cases"
      ],
      "execution_count": null,
      "outputs": [
        {
          "output_type": "execute_result",
          "data": {
            "text/html": [
              "<div>\n",
              "<style scoped>\n",
              "    .dataframe tbody tr th:only-of-type {\n",
              "        vertical-align: middle;\n",
              "    }\n",
              "\n",
              "    .dataframe tbody tr th {\n",
              "        vertical-align: top;\n",
              "    }\n",
              "\n",
              "    .dataframe thead th {\n",
              "        text-align: right;\n",
              "    }\n",
              "</style>\n",
              "<table border=\"1\" class=\"dataframe\">\n",
              "  <thead>\n",
              "    <tr style=\"text-align: right;\">\n",
              "      <th></th>\n",
              "      <th>location</th>\n",
              "      <th>total_cases</th>\n",
              "    </tr>\n",
              "  </thead>\n",
              "  <tbody>\n",
              "    <tr>\n",
              "      <th>23272</th>\n",
              "      <td>United States</td>\n",
              "      <td>2137731.0</td>\n",
              "    </tr>\n",
              "    <tr>\n",
              "      <th>3320</th>\n",
              "      <td>Brazil</td>\n",
              "      <td>923189.0</td>\n",
              "    </tr>\n",
              "    <tr>\n",
              "      <th>18485</th>\n",
              "      <td>Russia</td>\n",
              "      <td>545458.0</td>\n",
              "    </tr>\n",
              "    <tr>\n",
              "      <th>10321</th>\n",
              "      <td>India</td>\n",
              "      <td>354065.0</td>\n",
              "    </tr>\n",
              "    <tr>\n",
              "      <th>23102</th>\n",
              "      <td>United Kingdom</td>\n",
              "      <td>298136.0</td>\n",
              "    </tr>\n",
              "  </tbody>\n",
              "</table>\n",
              "</div>"
            ],
            "text/plain": [
              "             location  total_cases\n",
              "23272   United States    2137731.0\n",
              "3320           Brazil     923189.0\n",
              "18485          Russia     545458.0\n",
              "10321           India     354065.0\n",
              "23102  United Kingdom     298136.0"
            ]
          },
          "metadata": {
            "tags": []
          },
          "execution_count": 20
        }
      ]
    },
    {
      "cell_type": "code",
      "metadata": {
        "id": "Hs0aXVcXFg9v",
        "colab_type": "code",
        "colab": {
          "base_uri": "https://localhost:8080/",
          "height": 204
        },
        "outputId": "c7109e12-97a4-4f9c-938f-81b8941c462e"
      },
      "source": [
        "df_death = df.loc[df.date == '2020-06-17', ['location', 'total_deaths']].sort_values(by=\"total_deaths\", ascending=False)[1:6].copy()\n",
        "df_death"
      ],
      "execution_count": null,
      "outputs": [
        {
          "output_type": "execute_result",
          "data": {
            "text/html": [
              "<div>\n",
              "<style scoped>\n",
              "    .dataframe tbody tr th:only-of-type {\n",
              "        vertical-align: middle;\n",
              "    }\n",
              "\n",
              "    .dataframe tbody tr th {\n",
              "        vertical-align: top;\n",
              "    }\n",
              "\n",
              "    .dataframe thead th {\n",
              "        text-align: right;\n",
              "    }\n",
              "</style>\n",
              "<table border=\"1\" class=\"dataframe\">\n",
              "  <thead>\n",
              "    <tr style=\"text-align: right;\">\n",
              "      <th></th>\n",
              "      <th>location</th>\n",
              "      <th>total_deaths</th>\n",
              "    </tr>\n",
              "  </thead>\n",
              "  <tbody>\n",
              "    <tr>\n",
              "      <th>23272</th>\n",
              "      <td>United States</td>\n",
              "      <td>116963.0</td>\n",
              "    </tr>\n",
              "    <tr>\n",
              "      <th>3320</th>\n",
              "      <td>Brazil</td>\n",
              "      <td>45241.0</td>\n",
              "    </tr>\n",
              "    <tr>\n",
              "      <th>23102</th>\n",
              "      <td>United Kingdom</td>\n",
              "      <td>41969.0</td>\n",
              "    </tr>\n",
              "    <tr>\n",
              "      <th>11420</th>\n",
              "      <td>Italy</td>\n",
              "      <td>34405.0</td>\n",
              "    </tr>\n",
              "    <tr>\n",
              "      <th>7978</th>\n",
              "      <td>France</td>\n",
              "      <td>29547.0</td>\n",
              "    </tr>\n",
              "  </tbody>\n",
              "</table>\n",
              "</div>"
            ],
            "text/plain": [
              "             location  total_deaths\n",
              "23272   United States      116963.0\n",
              "3320           Brazil       45241.0\n",
              "23102  United Kingdom       41969.0\n",
              "11420           Italy       34405.0\n",
              "7978           France       29547.0"
            ]
          },
          "metadata": {
            "tags": []
          },
          "execution_count": 36
        }
      ]
    },
    {
      "cell_type": "code",
      "metadata": {
        "id": "GOAJqFcrsB7p",
        "colab_type": "code",
        "colab": {
          "base_uri": "https://localhost:8080/",
          "height": 585
        },
        "outputId": "c1f7ae0f-5f74-40e6-fcf2-2e8ed5899af4"
      },
      "source": [
        "x = df_death.location\n",
        "y = df_death.total_deaths\n",
        "\n",
        "fig, ax = plt.subplots(nrows=1, ncols=2, figsize=(16,8))\n",
        "\n",
        "# Gráfico 1\n",
        "\n",
        "ax[0].grid(linestyle=\"--\", linewidth=0.5, color='.25', zorder=-10)\n",
        "ax[0].bar(x, y)\n",
        "ax[0].set_title(\"Total de óbtos\")\n",
        "ax[0].set_xlabel(\"Países\")\n",
        "ax[0].set_ylabel(\"Acumulado\")\n",
        "\n",
        "#Gráfico 2\n",
        "\n",
        "x1 = df_cases.location\n",
        "y2 = df_cases.total_cases\n",
        "\n",
        "ax[1].grid(linestyle=\"--\", linewidth=0.5, color='.25', zorder=-10)\n",
        "ax[1].bar(x1, y1)\n",
        "ax[1].set_title(\"Total de casos confirmados\")\n",
        "ax[1].set_xlabel(\"Países\")\n",
        "ax[1].set_ylabel(\"Acumulado\")\n",
        "\n",
        "plt.tight_layout()"
      ],
      "execution_count": null,
      "outputs": [
        {
          "output_type": "display_data",
          "data": {
            "image/png": "[encoded data removed]",
            "text/plain": [
              "<Figure size 1152x576 with 2 Axes>"
            ]
          },
          "metadata": {
            "tags": [],
            "needs_background": "light"
          }
        }
      ]
    },
    {
      "cell_type": "markdown",
      "metadata": {
        "id": "yc7OkomURulv",
        "colab_type": "text"
      },
      "source": [
        "Até o dia 17/06, o Brasil é o segundo pais com mais indice de óbitos por coronavirus, atrás apenas dos Estados Unidos como mostram os gráficos. São mais de `40.000` mortes confirmadas. Em seguida vem Reino unido, Itália e França.\n",
        "\n",
        "Nos números de casos confirmados não é diferente, ficando atrás também dos Estados Unidos com um pouco mais de `900.000` casos confirmados. Em seguida vem Rússia, India e Reino Unido."
      ]
    },
    {
      "cell_type": "code",
      "metadata": {
        "id": "IIBx4oegTsz_",
        "colab_type": "code",
        "colab": {
          "base_uri": "https://localhost:8080/",
          "height": 265
        },
        "outputId": "1df6afd3-16af-4ec9-f79b-13c3f08b5e44"
      },
      "source": [
        "df_evol = df.loc[df.location == \"World\", \"total_deaths\"].reset_index(drop=True).plot()\n",
        "df_evol;"
      ],
      "execution_count": null,
      "outputs": [
        {
          "output_type": "display_data",
          "data": {
            "image/png": "[encoded data removed]",
            "text/plain": [
              "<Figure size 432x288 with 1 Axes>"
            ]
          },
          "metadata": {
            "tags": [],
            "needs_background": "light"
          }
        }
      ]
    },
    {
      "cell_type": "code",
      "metadata": {
        "id": "1zAUScXQHeXX",
        "colab_type": "code",
        "colab": {
          "base_uri": "https://localhost:8080/",
          "height": 51
        },
        "outputId": "48c5c83d-8f87-4415-f9fb-5b0ce70e605f"
      },
      "source": [
        "df_d = df.loc[df.date == '2020-06-17', ['location', 'total_deaths']].sort_values(by=\"total_deaths\", ascending=False)[0:1].copy()\n",
        "df_c = df.loc[df.date == '2020-06-17', ['location', 'total_cases']].sort_values(by=\"total_cases\", ascending=False)[0:1].copy()\n",
        "\n",
        "indice = (df_d.total_deaths / df_c.total_cases) * 100\n",
        "indice"
      ],
      "execution_count": null,
      "outputs": [
        {
          "output_type": "execute_result",
          "data": {
            "text/plain": [
              "24378    5.446831\n",
              "dtype: float64"
            ]
          },
          "metadata": {
            "tags": []
          },
          "execution_count": 57
        }
      ]
    },
    {
      "cell_type": "markdown",
      "metadata": {
        "id": "clkANTivHIOQ",
        "colab_type": "text"
      },
      "source": [
        "A nível mundo, o coronavírus cresceu de forma bastante rápida. São mais de `400.000` mortes confirmadas, isso nos dá um indice de mortalidade de 5.44%"
      ]
    },
    {
      "cell_type": "markdown",
      "metadata": {
        "id": "_XyLxwaTKmjk",
        "colab_type": "text"
      },
      "source": [
        "##Conclusão\n",
        "\n",
        "Ocorona virus vem avançando bastante rápido, poucos países coneguiram controlar seu avanço, são muitos fatores que podem influenciar as ações para contê-lo. Políticas de saúde, isolamento social, conciência da população, higiene. Independente de qual país seja, se todos fizerem sua parte, logo essa doença irá sser controlada."
      ]
    }
  ]
}