{
  "nbformat": 4,
  "nbformat_minor": 0,
  "metadata": {
    "colab": {
      "name": "Analisando_os_Dados_do_Airbnb_Los_Angeles.ipynb",
      "provenance": [],
      "collapsed_sections": [],
      "include_colab_link": true
    },
    "kernelspec": {
      "name": "python3",
      "display_name": "Python 3"
    }
  },
  "cells": [
    {
      "cell_type": "markdown",
      "metadata": {
        "id": "view-in-github",
        "colab_type": "text"
      },
      "source": [
        "<a href=\"https://colab.research.google.com/github/Giovannisb/Portifolio_data_science/blob/master/Analisando_os_Dados_do_Airbnb_Los_Angeles.ipynb\" target=\"_parent\"><img src=\"https://colab.research.google.com/assets/colab-badge.svg\" alt=\"Open In Colab\"/></a>"
      ]
    },
    {
      "cell_type": "markdown",
      "metadata": {
        "id": "kLI0gJtzDGuQ",
        "colab_type": "text"
      },
      "source": [
        "\n",
        "# Análise dos Dados do Airbnb - *Los Angeles*\n",
        "\n",
        "O [Airbnb](https://www.airbnb.com.br/) já é considerado como sendo a **maior empresa hoteleira da atualidade**. Ah, o detalhe é que ele **não possui nenhum hotel**!\n",
        "\n",
        "Conectando pessoas que querem viajar (e se hospedar) com anfitriões que querem alugar seus imóveis de maneira prática, o Airbnb fornece uma plataforma inovadora para tornar essa hospedagem alternativa.\n",
        "\n",
        "No final de 2018, a Startup fundada 10 anos atrás, já havia **hospedado mais de 300 milhões** de pessoas ao redor de todo o mundo, desafiando as redes hoteleiras tradicionais.\n",
        "\n",
        "Uma das iniciativas do Airbnb é disponibilizar dados do site, para algumas das principais cidades do mundo. Por meio do portal [Inside Airbnb](http://insideairbnb.com/get-the-data.html), é possível baixar uma grande quantidade de dados para desenvolver projetos e soluções de *Data Science*.\n",
        "\n",
        "<center><img alt=\"Analisando Airbnb\" width=\"10%\" src=\"https://www.area360.com.au/wp-content/uploads/2017/09/airbnb-logo.jpg\"></center>\n",
        "\n",
        "**Neste *notebook*, iremos analisar os dados referentes à cidade de Los Angeles - California, e ver quais insights podem ser extraídos a partir de dados brutos.**"
      ]
    },
    {
      "cell_type": "markdown",
      "metadata": {
        "id": "0zxQHhIUDF_2",
        "colab_type": "text"
      },
      "source": [
        "## Obtenção dos Dados\n"
      ]
    },
    {
      "cell_type": "markdown",
      "metadata": {
        "id": "04MYXK2Lt3pG",
        "colab_type": "text"
      },
      "source": [
        "##Pacotes de bibliotecas\n",
        "\n",
        "Irei importar algumas bibliotecas que serão necessárias para auxiliar na análise dos dados, como o pandas, matplotlib e o seaborn.\n",
        "\n",
        "**Pandas** é uma biblioteca desenvolvida para manipulação e análise de dados. Ela irá me auxiliar na estruturação e manipulação das tabelas numéricas dos dados, além de filtrar e limpar os dados desnecessários.\n",
        "\n",
        "**Matplotlib** será usada na criação e visualização dos dados em geral, auxiliando no melhor entendimento das pessoas do que esses dados representam.\n",
        "\n",
        "**Seaborn** também é uma biblioteca gráfica porém, um grau a cima da Matplotlib. Ela é aplicada para o entendimento de distribuição e correlações criando gráficos."
      ]
    },
    {
      "cell_type": "code",
      "metadata": {
        "id": "Vhp2wMPgJ6zX",
        "colab_type": "code",
        "colab": {
          "base_uri": "https://localhost:8080/",
          "height": 71
        },
        "outputId": "3aa2b0a9-646d-4a52-aa2f-bd54d53a1460"
      },
      "source": [
        "# importar os pacotes necessarios\n",
        "import pandas as pd\n",
        "import matplotlib.pyplot as plt\n",
        "import seaborn as sns\n",
        "\n",
        "%matplotlib inline"
      ],
      "execution_count": 1,
      "outputs": [
        {
          "output_type": "stream",
          "text": [
            "/usr/local/lib/python3.6/dist-packages/statsmodels/tools/_testing.py:19: FutureWarning: pandas.util.testing is deprecated. Use the functions in the public API at pandas.testing instead.\n",
            "  import pandas.util.testing as tm\n"
          ],
          "name": "stderr"
        }
      ]
    },
    {
      "cell_type": "markdown",
      "metadata": {
        "id": "OR5Mk-x4vtyf",
        "colab_type": "text"
      },
      "source": [
        "Irei importar os dados para o colab utilizando uma função do **Pandas** para ler arquivos csv. Nesse caso irei importar a partir de uma url e criarei o que chamamos de *Dataframe*, que será nossa tabela com os dados. \n",
        "\n",
        "Estarei utilizando a forma mais simples dos dados disponibilizados pelo Airbnb, que se chama \"listings.csv\" pois, não será necessário utilizar um dataframe complexo com muitos dados, apenas o essencial."
      ]
    },
    {
      "cell_type": "code",
      "metadata": {
        "id": "tUmoAT8DLQ5T",
        "colab_type": "code",
        "colab": {}
      },
      "source": [
        "# importar o arquivo listings.csv para um DataFrame\n",
        "df = pd.read_csv(\"http://data.insideairbnb.com/united-states/ca/los-angeles/2020-05-08/visualisations/listings.csv\")\n"
      ],
      "execution_count": 0,
      "outputs": []
    },
    {
      "cell_type": "markdown",
      "metadata": {
        "id": "qb5By2nIMS6m",
        "colab_type": "text"
      },
      "source": [
        "## Análise dos Dados\n"
      ]
    },
    {
      "cell_type": "markdown",
      "metadata": {
        "id": "RYgvuebKNg8-",
        "colab_type": "text"
      },
      "source": [
        "**Dicionário das variáveis**\n",
        "\n",
        "* `id` - número de id gerado para identificar o imóvel\n",
        "* `name` - nome da propriedade anunciada\n",
        "* `host_id` - número de id do proprietário (anfitrião) da propriedade\n",
        "* `host_name` - Nome do anfitrião\n",
        "* `neighbourhood_group` - esta coluna não contém nenhum valor válido\n",
        "* `neighbourhood` - nome do bairro\n",
        "* `latitude` - coordenada da latitude da propriedade\n",
        "* `longitude` - coordenada da longitude da propriedade\n",
        "* `room_type` - informa o tipo de quarto que é oferecido\n",
        "* `price` - preço para alugar o imóvel\n",
        "* `minimum_nights` - quantidade mínima de noites para reservar\n",
        "* `number_of_reviews` - número de reviews que a propriedade possui\n",
        "* `last_review` - data do último review\n",
        "* `reviews_per_month` - quantidade de reviews por mês\n",
        "* `calculated_host_listings_count` - quantidade de imóveis do mesmo anfitrião\n",
        "* `availability_365` - número de dias de disponibilidade dentro de 365 dias\n",
        "\n",
        "Antes de iniciar qualquer análise, vamos verificar a cara do nosso *dataset*, analisando as 5 primeiras entradas."
      ]
    },
    {
      "cell_type": "code",
      "metadata": {
        "id": "2iS_dae7YQtO",
        "colab_type": "code",
        "colab": {
          "base_uri": "https://localhost:8080/",
          "height": 428
        },
        "outputId": "31b0fdcd-6039-4f5a-fa31-a0bacc8cbacf"
      },
      "source": [
        "# mostrar as 5 primeiras entradas\n",
        "df.head()"
      ],
      "execution_count": 4,
      "outputs": [
        {
          "output_type": "execute_result",
          "data": {
            "text/html": [
              "<div>\n",
              "<style scoped>\n",
              "    .dataframe tbody tr th:only-of-type {\n",
              "        vertical-align: middle;\n",
              "    }\n",
              "\n",
              "    .dataframe tbody tr th {\n",
              "        vertical-align: top;\n",
              "    }\n",
              "\n",
              "    .dataframe thead th {\n",
              "        text-align: right;\n",
              "    }\n",
              "</style>\n",
              "<table border=\"1\" class=\"dataframe\">\n",
              "  <thead>\n",
              "    <tr style=\"text-align: right;\">\n",
              "      <th></th>\n",
              "      <th>id</th>\n",
              "      <th>name</th>\n",
              "      <th>host_id</th>\n",
              "      <th>host_name</th>\n",
              "      <th>neighbourhood_group</th>\n",
              "      <th>neighbourhood</th>\n",
              "      <th>latitude</th>\n",
              "      <th>longitude</th>\n",
              "      <th>room_type</th>\n",
              "      <th>price</th>\n",
              "      <th>minimum_nights</th>\n",
              "      <th>number_of_reviews</th>\n",
              "      <th>last_review</th>\n",
              "      <th>reviews_per_month</th>\n",
              "      <th>calculated_host_listings_count</th>\n",
              "      <th>availability_365</th>\n",
              "    </tr>\n",
              "  </thead>\n",
              "  <tbody>\n",
              "    <tr>\n",
              "      <th>0</th>\n",
              "      <td>109</td>\n",
              "      <td>Amazing bright elegant condo park front *UPGRA...</td>\n",
              "      <td>521</td>\n",
              "      <td>Paolo</td>\n",
              "      <td>Other Cities</td>\n",
              "      <td>Culver City</td>\n",
              "      <td>33.98209</td>\n",
              "      <td>-118.38494</td>\n",
              "      <td>Entire home/apt</td>\n",
              "      <td>122</td>\n",
              "      <td>30</td>\n",
              "      <td>2</td>\n",
              "      <td>2016-05-15</td>\n",
              "      <td>0.02</td>\n",
              "      <td>1</td>\n",
              "      <td>38</td>\n",
              "    </tr>\n",
              "    <tr>\n",
              "      <th>1</th>\n",
              "      <td>344</td>\n",
              "      <td>Family perfect;Pool;Near Studios!</td>\n",
              "      <td>767</td>\n",
              "      <td>Melissa</td>\n",
              "      <td>Other Cities</td>\n",
              "      <td>Burbank</td>\n",
              "      <td>34.16562</td>\n",
              "      <td>-118.33458</td>\n",
              "      <td>Entire home/apt</td>\n",
              "      <td>168</td>\n",
              "      <td>2</td>\n",
              "      <td>8</td>\n",
              "      <td>2019-10-19</td>\n",
              "      <td>0.17</td>\n",
              "      <td>1</td>\n",
              "      <td>97</td>\n",
              "    </tr>\n",
              "    <tr>\n",
              "      <th>2</th>\n",
              "      <td>2708</td>\n",
              "      <td>Mirrored Mini-Suite with Fireplace - W. Hollywood</td>\n",
              "      <td>3008</td>\n",
              "      <td>Chas.</td>\n",
              "      <td>City of Los Angeles</td>\n",
              "      <td>Hollywood</td>\n",
              "      <td>34.09768</td>\n",
              "      <td>-118.34602</td>\n",
              "      <td>Private room</td>\n",
              "      <td>79</td>\n",
              "      <td>30</td>\n",
              "      <td>24</td>\n",
              "      <td>2020-03-17</td>\n",
              "      <td>0.33</td>\n",
              "      <td>2</td>\n",
              "      <td>281</td>\n",
              "    </tr>\n",
              "    <tr>\n",
              "      <th>3</th>\n",
              "      <td>2732</td>\n",
              "      <td>Zen Life at the Beach</td>\n",
              "      <td>3041</td>\n",
              "      <td>Yoga Priestess</td>\n",
              "      <td>Other Cities</td>\n",
              "      <td>Santa Monica</td>\n",
              "      <td>34.00475</td>\n",
              "      <td>-118.48127</td>\n",
              "      <td>Private room</td>\n",
              "      <td>155</td>\n",
              "      <td>1</td>\n",
              "      <td>21</td>\n",
              "      <td>2019-12-27</td>\n",
              "      <td>0.19</td>\n",
              "      <td>2</td>\n",
              "      <td>365</td>\n",
              "    </tr>\n",
              "    <tr>\n",
              "      <th>4</th>\n",
              "      <td>2864</td>\n",
              "      <td>* Beautiful Master Suite/Jacuzzi Tub/*</td>\n",
              "      <td>3207</td>\n",
              "      <td>Bernadine</td>\n",
              "      <td>Other Cities</td>\n",
              "      <td>Bellflower</td>\n",
              "      <td>33.87619</td>\n",
              "      <td>-118.11397</td>\n",
              "      <td>Entire home/apt</td>\n",
              "      <td>80</td>\n",
              "      <td>14</td>\n",
              "      <td>0</td>\n",
              "      <td>NaN</td>\n",
              "      <td>NaN</td>\n",
              "      <td>1</td>\n",
              "      <td>0</td>\n",
              "    </tr>\n",
              "  </tbody>\n",
              "</table>\n",
              "</div>"
            ],
            "text/plain": [
              "     id  ... availability_365\n",
              "0   109  ...               38\n",
              "1   344  ...               97\n",
              "2  2708  ...              281\n",
              "3  2732  ...              365\n",
              "4  2864  ...                0\n",
              "\n",
              "[5 rows x 16 columns]"
            ]
          },
          "metadata": {
            "tags": []
          },
          "execution_count": 4
        }
      ]
    },
    {
      "cell_type": "markdown",
      "metadata": {
        "id": "6-B_qtEaYEd-",
        "colab_type": "text"
      },
      "source": [
        "### **Q1. Quantos atributos (variáveis) e quantas entradas o nosso conjunto de dados possui? Quais os tipos das variáveis?**"
      ]
    },
    {
      "cell_type": "markdown",
      "metadata": {
        "id": "XsoV8iDFxKqk",
        "colab_type": "text"
      },
      "source": [
        "Iremos dar início as análises desses dados com a identificação das quantidades de entradas e variáveis, além de ver os tipos de cada coluna.\n",
        "\n",
        "Como eu citei no começo, esse *Dataset* é uma versão resumida dos dados disponibilizados pelo Airbnb.  Na mesma página que baixamos o arquivo `listings.csv`. Há uma versão mais completa com mais entradas e variáveis (`listings.csv.gz`)."
      ]
    },
    {
      "cell_type": "code",
      "metadata": {
        "id": "TFRK0tniLV-G",
        "colab_type": "code",
        "colab": {
          "base_uri": "https://localhost:8080/",
          "height": 357
        },
        "outputId": "361284dd-77b2-4f6d-c444-b6ce876ca516"
      },
      "source": [
        "# identificar o volume de dados do DataFrame\n",
        "print(\"Entradas:\\t {}\".format(df.shape[0]))\n",
        "print(\"Variáveis:\\t {}\\n\".format(df.shape[1]))\n",
        "# verificar as 5 primeiras entradas do dataset\n",
        "display(df.dtypes)"
      ],
      "execution_count": 5,
      "outputs": [
        {
          "output_type": "stream",
          "text": [
            "Entradas:\t 37048\n",
            "Variáveis:\t 16\n",
            "\n"
          ],
          "name": "stdout"
        },
        {
          "output_type": "display_data",
          "data": {
            "text/plain": [
              "id                                  int64\n",
              "name                               object\n",
              "host_id                             int64\n",
              "host_name                          object\n",
              "neighbourhood_group                object\n",
              "neighbourhood                      object\n",
              "latitude                          float64\n",
              "longitude                         float64\n",
              "room_type                          object\n",
              "price                               int64\n",
              "minimum_nights                      int64\n",
              "number_of_reviews                   int64\n",
              "last_review                        object\n",
              "reviews_per_month                 float64\n",
              "calculated_host_listings_count      int64\n",
              "availability_365                    int64\n",
              "dtype: object"
            ]
          },
          "metadata": {
            "tags": []
          }
        }
      ]
    },
    {
      "cell_type": "markdown",
      "metadata": {
        "id": "OKXT9K1Fx_zc",
        "colab_type": "text"
      },
      "source": [
        "No nosso caso, nosso *Dataset* tem **37048 entradas** e **16 variáveis**. Bastante coisa para analisar-mos\n"
      ]
    },
    {
      "cell_type": "markdown",
      "metadata": {
        "id": "yz1urSUGW9iE",
        "colab_type": "text"
      },
      "source": [
        "### **Q2. Qual a porcentagem de valores ausentes no *dataset*?**"
      ]
    },
    {
      "cell_type": "markdown",
      "metadata": {
        "id": "Vtl1VXTByURv",
        "colab_type": "text"
      },
      "source": [
        "A qualidade de um *Dataset* está diretamente relacionada à quantidade de valores ausentes. É importante entender logo no início se esses valores nulos são significativos comparados ao total de entradas."
      ]
    },
    {
      "cell_type": "code",
      "metadata": {
        "id": "plk2FjbCXOqP",
        "colab_type": "code",
        "colab": {
          "base_uri": "https://localhost:8080/",
          "height": 306
        },
        "outputId": "bb0726ef-a38b-4217-e0df-2dd5a72f296e"
      },
      "source": [
        "# ordenar em ordem decrescente as variáveis por seus valores ausentes\n",
        "(df.isnull().sum() / df.shape[0]).sort_values(ascending=False)"
      ],
      "execution_count": 7,
      "outputs": [
        {
          "output_type": "execute_result",
          "data": {
            "text/plain": [
              "reviews_per_month                 0.206084\n",
              "last_review                       0.206084\n",
              "host_name                         0.000135\n",
              "name                              0.000054\n",
              "availability_365                  0.000000\n",
              "calculated_host_listings_count    0.000000\n",
              "number_of_reviews                 0.000000\n",
              "minimum_nights                    0.000000\n",
              "price                             0.000000\n",
              "room_type                         0.000000\n",
              "longitude                         0.000000\n",
              "latitude                          0.000000\n",
              "neighbourhood                     0.000000\n",
              "neighbourhood_group               0.000000\n",
              "host_id                           0.000000\n",
              "id                                0.000000\n",
              "dtype: float64"
            ]
          },
          "metadata": {
            "tags": []
          },
          "execution_count": 7
        }
      ]
    },
    {
      "cell_type": "markdown",
      "metadata": {
        "id": "d1-oXAahyjWI",
        "colab_type": "text"
      },
      "source": [
        "Com uma breve análise das variáveis do nosso *Dataset*, podemos identificar que:\n",
        "\n",
        "* As variáveis `reviews_per_month` e `last_review` possuem valores nulos em aproximadamente 20% dos seus valores.\n",
        "* As variáveis `name` e `host_name` têm menos de 0,1% dos valores nulos."
      ]
    },
    {
      "cell_type": "markdown",
      "metadata": {
        "id": "iHXvvHIxaoNc",
        "colab_type": "text"
      },
      "source": [
        "### **Q3. Qual o tipo de distribuição das variáveis?** "
      ]
    },
    {
      "cell_type": "markdown",
      "metadata": {
        "id": "ZmmQsi9Az7i_",
        "colab_type": "text"
      },
      "source": [
        "Para poder-mos visualizar melhor esses dados, irei plotar um *histograma* de cada variável numérica do *Dataset*. Dessa forma iremos compreender como está a distribuição desses valores."
      ]
    },
    {
      "cell_type": "code",
      "metadata": {
        "id": "q2wWSfeRbmBo",
        "colab_type": "code",
        "colab": {
          "base_uri": "https://localhost:8080/",
          "height": 607
        },
        "outputId": "8539a11a-4be4-49be-fe91-aa47d81a704c"
      },
      "source": [
        "# plotar o histograma das variáveis numéricas\n",
        "df.hist(bins=20, figsize=(15,10));"
      ],
      "execution_count": 12,
      "outputs": [
        {
          "output_type": "display_data",
          "data": {
            "image/png": "[encoded data removed]",
            "text/plain": [
              "<Figure size 1080x720 with 12 Axes>"
            ]
          },
          "metadata": {
            "tags": [],
            "needs_background": "light"
          }
        }
      ]
    },
    {
      "cell_type": "markdown",
      "metadata": {
        "id": "6UZolH9U0bEN",
        "colab_type": "text"
      },
      "source": [
        "Com esses gráficos, ja podemos identificar algumas coisas como:\n",
        "\n",
        "* A variável `price`, a maioria dos seus valores é bem abaixo de $5.000.\n",
        "* As variáveis `availability_365` tem valores bem variáveis, distribuidos ao longo do gráfico."
      ]
    },
    {
      "cell_type": "markdown",
      "metadata": {
        "id": "Xvs8gt3Y1nld",
        "colab_type": "text"
      },
      "source": [
        "###**Q4. Há outliers presentes?** ###"
      ]
    },
    {
      "cell_type": "markdown",
      "metadata": {
        "id": "gqhREWOg141F",
        "colab_type": "text"
      },
      "source": [
        "Pela distribuição do histograma, é possível verificar indícios da presença de *outliers*. Olhe por exemplo as variáveis `price`, `minimum_nights` e `calculated_host_listings_count`.\n",
        "\n",
        "Os valores tem pontos discrepantes, e distorcem a representação gráfica. Para confirmar, há duas maneiras rápidas que auxiliam a detecção de *outliers*. São elas:\n",
        "\n",
        "* Resumo estatístico por meio do método `describe()`\n",
        "* Plotar `boxplots` para a variável."
      ]
    },
    {
      "cell_type": "code",
      "metadata": {
        "id": "eFiWLRMF12h0",
        "colab_type": "code",
        "colab": {
          "base_uri": "https://localhost:8080/",
          "height": 297
        },
        "outputId": "14ca4dd7-bea1-4641-a130-68c27b5b2764"
      },
      "source": [
        "# ver o resumo estatístico das variáveis numéricas\n",
        "df[['price', 'minimum_nights', 'number_of_reviews', 'reviews_per_month',\n",
        "    'calculated_host_listings_count', 'availability_365']].describe()"
      ],
      "execution_count": 13,
      "outputs": [
        {
          "output_type": "execute_result",
          "data": {
            "text/html": [
              "<div>\n",
              "<style scoped>\n",
              "    .dataframe tbody tr th:only-of-type {\n",
              "        vertical-align: middle;\n",
              "    }\n",
              "\n",
              "    .dataframe tbody tr th {\n",
              "        vertical-align: top;\n",
              "    }\n",
              "\n",
              "    .dataframe thead th {\n",
              "        text-align: right;\n",
              "    }\n",
              "</style>\n",
              "<table border=\"1\" class=\"dataframe\">\n",
              "  <thead>\n",
              "    <tr style=\"text-align: right;\">\n",
              "      <th></th>\n",
              "      <th>price</th>\n",
              "      <th>minimum_nights</th>\n",
              "      <th>number_of_reviews</th>\n",
              "      <th>reviews_per_month</th>\n",
              "      <th>calculated_host_listings_count</th>\n",
              "      <th>availability_365</th>\n",
              "    </tr>\n",
              "  </thead>\n",
              "  <tbody>\n",
              "    <tr>\n",
              "      <th>count</th>\n",
              "      <td>37048.000000</td>\n",
              "      <td>37048.000000</td>\n",
              "      <td>37048.000000</td>\n",
              "      <td>29413.000000</td>\n",
              "      <td>37048.000000</td>\n",
              "      <td>37048.000000</td>\n",
              "    </tr>\n",
              "    <tr>\n",
              "      <th>mean</th>\n",
              "      <td>227.916379</td>\n",
              "      <td>12.715369</td>\n",
              "      <td>35.201387</td>\n",
              "      <td>1.605461</td>\n",
              "      <td>8.125513</td>\n",
              "      <td>168.061353</td>\n",
              "    </tr>\n",
              "    <tr>\n",
              "      <th>std</th>\n",
              "      <td>685.160627</td>\n",
              "      <td>26.759290</td>\n",
              "      <td>64.277015</td>\n",
              "      <td>1.750648</td>\n",
              "      <td>23.030745</td>\n",
              "      <td>142.799526</td>\n",
              "    </tr>\n",
              "    <tr>\n",
              "      <th>min</th>\n",
              "      <td>0.000000</td>\n",
              "      <td>1.000000</td>\n",
              "      <td>0.000000</td>\n",
              "      <td>0.010000</td>\n",
              "      <td>1.000000</td>\n",
              "      <td>0.000000</td>\n",
              "    </tr>\n",
              "    <tr>\n",
              "      <th>25%</th>\n",
              "      <td>69.000000</td>\n",
              "      <td>1.000000</td>\n",
              "      <td>1.000000</td>\n",
              "      <td>0.300000</td>\n",
              "      <td>1.000000</td>\n",
              "      <td>5.000000</td>\n",
              "    </tr>\n",
              "    <tr>\n",
              "      <th>50%</th>\n",
              "      <td>109.000000</td>\n",
              "      <td>3.000000</td>\n",
              "      <td>8.000000</td>\n",
              "      <td>0.960000</td>\n",
              "      <td>2.000000</td>\n",
              "      <td>153.000000</td>\n",
              "    </tr>\n",
              "    <tr>\n",
              "      <th>75%</th>\n",
              "      <td>185.000000</td>\n",
              "      <td>30.000000</td>\n",
              "      <td>40.000000</td>\n",
              "      <td>2.410000</td>\n",
              "      <td>5.000000</td>\n",
              "      <td>336.000000</td>\n",
              "    </tr>\n",
              "    <tr>\n",
              "      <th>max</th>\n",
              "      <td>25000.000000</td>\n",
              "      <td>1125.000000</td>\n",
              "      <td>822.000000</td>\n",
              "      <td>17.230000</td>\n",
              "      <td>206.000000</td>\n",
              "      <td>365.000000</td>\n",
              "    </tr>\n",
              "  </tbody>\n",
              "</table>\n",
              "</div>"
            ],
            "text/plain": [
              "              price  ...  availability_365\n",
              "count  37048.000000  ...      37048.000000\n",
              "mean     227.916379  ...        168.061353\n",
              "std      685.160627  ...        142.799526\n",
              "min        0.000000  ...          0.000000\n",
              "25%       69.000000  ...          5.000000\n",
              "50%      109.000000  ...        153.000000\n",
              "75%      185.000000  ...        336.000000\n",
              "max    25000.000000  ...        365.000000\n",
              "\n",
              "[8 rows x 6 columns]"
            ]
          },
          "metadata": {
            "tags": []
          },
          "execution_count": 13
        }
      ]
    },
    {
      "cell_type": "markdown",
      "metadata": {
        "id": "ncCP-f_J2uqM",
        "colab_type": "text"
      },
      "source": [
        "Olhando o resumo estatístico acima, podemos confirmar algumas hipóteses como:\n",
        "\n",
        "* A variável `price` possui 75% do valor abaixo de 185, porém seu valor máximo é 25000.\n",
        "* A quantidade mínima de noites (`minimum_nights`) tem 75% dos seus valores até 30 porém, seu valor máximo chega a 1125, que equivale a pouco mais de 3 anos. Valor bastante discrepante."
      ]
    },
    {
      "cell_type": "markdown",
      "metadata": {
        "id": "v63iLCXN3mTF",
        "colab_type": "text"
      },
      "source": [
        "Iremos plotar um gráfico chamado *Boxplot*. Ese gráfico permite que visualizamos melhor os *outliers*, que são os pontos discrepantes das nossa análise."
      ]
    },
    {
      "cell_type": "markdown",
      "metadata": {
        "id": "kiOFTJ__4BAx",
        "colab_type": "text"
      },
      "source": [
        "#### Boxplot para minimum_nights"
      ]
    },
    {
      "cell_type": "code",
      "metadata": {
        "id": "jEaY14hD3iin",
        "colab_type": "code",
        "colab": {
          "base_uri": "https://localhost:8080/",
          "height": 262
        },
        "outputId": "7fd1383c-3737-4e2e-ed68-f68ba1cdd37a"
      },
      "source": [
        "# minimum_nights\n",
        "df.minimum_nights.plot(kind='box', vert=False, figsize=(15, 3))\n",
        "plt.show()\n",
        "\n",
        "# ver quantidade de valores acima de 30 dias para minimum_nights\n",
        "print(\"minimum_nights: valores acima de 30:\")\n",
        "print(\"{} entradas\".format(len(df[df.minimum_nights > 30])))\n",
        "print(\"{:.4f}%\".format((len(df[df.minimum_nights > 30]) / df.shape[0])*100))"
      ],
      "execution_count": 15,
      "outputs": [
        {
          "output_type": "display_data",
          "data": {
            "image/png": "[encoded data removed]",
            "text/plain": [
              "<Figure size 1080x216 with 1 Axes>"
            ]
          },
          "metadata": {
            "tags": [],
            "needs_background": "light"
          }
        },
        {
          "output_type": "stream",
          "text": [
            "minimum_nights: valores acima de 30:\n",
            "2672 entradas\n",
            "7.2123%\n"
          ],
          "name": "stdout"
        }
      ]
    },
    {
      "cell_type": "markdown",
      "metadata": {
        "id": "yY7TWpx04KXo",
        "colab_type": "text"
      },
      "source": [
        "#### Boxplot para price"
      ]
    },
    {
      "cell_type": "code",
      "metadata": {
        "id": "Zx3NGa2h4VxM",
        "colab_type": "code",
        "colab": {
          "base_uri": "https://localhost:8080/",
          "height": 279
        },
        "outputId": "44edbc9c-852e-4ae8-ed1d-559d477bc899"
      },
      "source": [
        "# price\n",
        "df.price.plot(kind='box', vert=False, figsize=(15, 3),)\n",
        "plt.show()\n",
        "\n",
        "# ver quantidade de valores acima de 5000 para price\n",
        "print(\"\\nprice: valores acima de 462\")\n",
        "print(\"{} entradas\".format(len(df[df.price > 462])))\n",
        "print(\"{:.4f}%\".format((len(df[df.price > 462]) / df.shape[0])*100))"
      ],
      "execution_count": 44,
      "outputs": [
        {
          "output_type": "display_data",
          "data": {
            "image/png": "[encoded data removed]",
            "text/plain": [
              "<Figure size 1080x216 with 1 Axes>"
            ]
          },
          "metadata": {
            "tags": [],
            "needs_background": "light"
          }
        },
        {
          "output_type": "stream",
          "text": [
            "\n",
            "price: valores acima de 462\n",
            "2603 entradas\n",
            "7.0260%\n"
          ],
          "name": "stdout"
        }
      ]
    },
    {
      "cell_type": "markdown",
      "metadata": {
        "id": "kpBdUTDF7Of8",
        "colab_type": "text"
      },
      "source": [
        "Estipulamos um valor aproximadamente de 2,5x o valor de 75% das entradas para podermos filtrar, que será de 462."
      ]
    },
    {
      "cell_type": "markdown",
      "metadata": {
        "id": "cXpYsHX9465f",
        "colab_type": "text"
      },
      "source": [
        "#### Histogramas sem *outliers*\n",
        "\n",
        "Já que identificamos *outliers* nas variáveis `price` e `minimum_nights`, vamos agora limpar o *DataFrame* delas e plotar novamente o histograma."
      ]
    },
    {
      "cell_type": "code",
      "metadata": {
        "id": "stgmu4fm4-gK",
        "colab_type": "code",
        "colab": {
          "base_uri": "https://localhost:8080/",
          "height": 607
        },
        "outputId": "f5949a20-d1b4-4077-e136-db3ba40a4c28"
      },
      "source": [
        "# remover os *outliers* em um novo DataFrame\n",
        "df_clean = df.copy()\n",
        "df_clean.drop(df_clean[df_clean.price > 462].index, axis=0, inplace=True)\n",
        "df_clean.drop(df_clean[df_clean.minimum_nights > 30].index, axis=0, inplace=True)\n",
        "\n",
        "# plotar o histograma para as variáveis numéricas\n",
        "df_clean.hist(bins=15, figsize=(15,10));"
      ],
      "execution_count": 46,
      "outputs": [
        {
          "output_type": "display_data",
          "data": {
            "image/png": "[encoded data removed]",
            "text/plain": [
              "<Figure size 1080x720 with 12 Axes>"
            ]
          },
          "metadata": {
            "tags": [],
            "needs_background": "light"
          }
        }
      ]
    },
    {
      "cell_type": "markdown",
      "metadata": {
        "id": "jQ_FXqJt9E0i",
        "colab_type": "text"
      },
      "source": [
        "Agora temos valores mais realistas para esses dados."
      ]
    },
    {
      "cell_type": "markdown",
      "metadata": {
        "id": "7x4aw1j5wNmn",
        "colab_type": "text"
      },
      "source": [
        "### **Q5. Qual a média dos preços de aluguel?**"
      ]
    },
    {
      "cell_type": "code",
      "metadata": {
        "id": "ff-8gUahLk-C",
        "colab_type": "code",
        "colab": {
          "base_uri": "https://localhost:8080/",
          "height": 297
        },
        "outputId": "c07042ce-3d37-4523-9d80-7e0e2cbfb36b"
      },
      "source": [
        "# ver a média da coluna `price``\n",
        "df[['price']].describe()"
      ],
      "execution_count": 47,
      "outputs": [
        {
          "output_type": "execute_result",
          "data": {
            "text/html": [
              "<div>\n",
              "<style scoped>\n",
              "    .dataframe tbody tr th:only-of-type {\n",
              "        vertical-align: middle;\n",
              "    }\n",
              "\n",
              "    .dataframe tbody tr th {\n",
              "        vertical-align: top;\n",
              "    }\n",
              "\n",
              "    .dataframe thead th {\n",
              "        text-align: right;\n",
              "    }\n",
              "</style>\n",
              "<table border=\"1\" class=\"dataframe\">\n",
              "  <thead>\n",
              "    <tr style=\"text-align: right;\">\n",
              "      <th></th>\n",
              "      <th>price</th>\n",
              "    </tr>\n",
              "  </thead>\n",
              "  <tbody>\n",
              "    <tr>\n",
              "      <th>count</th>\n",
              "      <td>37048.000000</td>\n",
              "    </tr>\n",
              "    <tr>\n",
              "      <th>mean</th>\n",
              "      <td>227.916379</td>\n",
              "    </tr>\n",
              "    <tr>\n",
              "      <th>std</th>\n",
              "      <td>685.160627</td>\n",
              "    </tr>\n",
              "    <tr>\n",
              "      <th>min</th>\n",
              "      <td>0.000000</td>\n",
              "    </tr>\n",
              "    <tr>\n",
              "      <th>25%</th>\n",
              "      <td>69.000000</td>\n",
              "    </tr>\n",
              "    <tr>\n",
              "      <th>50%</th>\n",
              "      <td>109.000000</td>\n",
              "    </tr>\n",
              "    <tr>\n",
              "      <th>75%</th>\n",
              "      <td>185.000000</td>\n",
              "    </tr>\n",
              "    <tr>\n",
              "      <th>max</th>\n",
              "      <td>25000.000000</td>\n",
              "    </tr>\n",
              "  </tbody>\n",
              "</table>\n",
              "</div>"
            ],
            "text/plain": [
              "              price\n",
              "count  37048.000000\n",
              "mean     227.916379\n",
              "std      685.160627\n",
              "min        0.000000\n",
              "25%       69.000000\n",
              "50%      109.000000\n",
              "75%      185.000000\n",
              "max    25000.000000"
            ]
          },
          "metadata": {
            "tags": []
          },
          "execution_count": 47
        }
      ]
    },
    {
      "cell_type": "markdown",
      "metadata": {
        "id": "kWh-rln7-S5j",
        "colab_type": "text"
      },
      "source": [
        "Com os dados da coluna `price` limpos de *outliers*, podemos identificar que a média dos preços dos imóveis está em $227,91."
      ]
    },
    {
      "cell_type": "markdown",
      "metadata": {
        "id": "IXn2oIo5qx-w",
        "colab_type": "text"
      },
      "source": [
        "### **Q6. Qual a correlação existente entre as variáveis**\n",
        "\n",
        "Correlação significa que existe uma relação entre duas coisas. No nosso contexto, estamos buscando relação ou semelhança entre duas variáveis.\n",
        "\n",
        "Essa relação pode ser medida, e é função do coeficiente de correlação estabelecer qual a intensidade dela. Para identificar as correlações existentes entre as variáveis de interesse, vou:\n",
        "\n",
        "* Criar uma matriz de correlação\n",
        "* Gerar um *heatmap* a partir dessa matriz, usando a biblioteca `seaborn`"
      ]
    },
    {
      "cell_type": "code",
      "metadata": {
        "id": "x2ayzBajqxyd",
        "colab_type": "code",
        "colab": {
          "base_uri": "https://localhost:8080/",
          "height": 235
        },
        "outputId": "4ec6faaf-e223-44da-fc5b-53f04832bbe4"
      },
      "source": [
        "# criar uma matriz de correlação\n",
        "corr = df_clean[['price', 'minimum_nights', 'number_of_reviews', 'reviews_per_month',\n",
        "    'calculated_host_listings_count', 'availability_365']].corr()\n",
        "\n",
        "# mostrar a matriz de correlação\n",
        "display(corr)"
      ],
      "execution_count": 49,
      "outputs": [
        {
          "output_type": "display_data",
          "data": {
            "text/html": [
              "<div>\n",
              "<style scoped>\n",
              "    .dataframe tbody tr th:only-of-type {\n",
              "        vertical-align: middle;\n",
              "    }\n",
              "\n",
              "    .dataframe tbody tr th {\n",
              "        vertical-align: top;\n",
              "    }\n",
              "\n",
              "    .dataframe thead th {\n",
              "        text-align: right;\n",
              "    }\n",
              "</style>\n",
              "<table border=\"1\" class=\"dataframe\">\n",
              "  <thead>\n",
              "    <tr style=\"text-align: right;\">\n",
              "      <th></th>\n",
              "      <th>price</th>\n",
              "      <th>minimum_nights</th>\n",
              "      <th>number_of_reviews</th>\n",
              "      <th>reviews_per_month</th>\n",
              "      <th>calculated_host_listings_count</th>\n",
              "      <th>availability_365</th>\n",
              "    </tr>\n",
              "  </thead>\n",
              "  <tbody>\n",
              "    <tr>\n",
              "      <th>price</th>\n",
              "      <td>1.000000</td>\n",
              "      <td>-0.005824</td>\n",
              "      <td>-0.039147</td>\n",
              "      <td>-0.048502</td>\n",
              "      <td>0.019636</td>\n",
              "      <td>0.054538</td>\n",
              "    </tr>\n",
              "    <tr>\n",
              "      <th>minimum_nights</th>\n",
              "      <td>-0.005824</td>\n",
              "      <td>1.000000</td>\n",
              "      <td>-0.115422</td>\n",
              "      <td>-0.217271</td>\n",
              "      <td>0.218944</td>\n",
              "      <td>0.068474</td>\n",
              "    </tr>\n",
              "    <tr>\n",
              "      <th>number_of_reviews</th>\n",
              "      <td>-0.039147</td>\n",
              "      <td>-0.115422</td>\n",
              "      <td>1.000000</td>\n",
              "      <td>0.711768</td>\n",
              "      <td>-0.086194</td>\n",
              "      <td>0.092700</td>\n",
              "    </tr>\n",
              "    <tr>\n",
              "      <th>reviews_per_month</th>\n",
              "      <td>-0.048502</td>\n",
              "      <td>-0.217271</td>\n",
              "      <td>0.711768</td>\n",
              "      <td>1.000000</td>\n",
              "      <td>-0.073790</td>\n",
              "      <td>0.052251</td>\n",
              "    </tr>\n",
              "    <tr>\n",
              "      <th>calculated_host_listings_count</th>\n",
              "      <td>0.019636</td>\n",
              "      <td>0.218944</td>\n",
              "      <td>-0.086194</td>\n",
              "      <td>-0.073790</td>\n",
              "      <td>1.000000</td>\n",
              "      <td>0.121497</td>\n",
              "    </tr>\n",
              "    <tr>\n",
              "      <th>availability_365</th>\n",
              "      <td>0.054538</td>\n",
              "      <td>0.068474</td>\n",
              "      <td>0.092700</td>\n",
              "      <td>0.052251</td>\n",
              "      <td>0.121497</td>\n",
              "      <td>1.000000</td>\n",
              "    </tr>\n",
              "  </tbody>\n",
              "</table>\n",
              "</div>"
            ],
            "text/plain": [
              "                                   price  ...  availability_365\n",
              "price                           1.000000  ...          0.054538\n",
              "minimum_nights                 -0.005824  ...          0.068474\n",
              "number_of_reviews              -0.039147  ...          0.092700\n",
              "reviews_per_month              -0.048502  ...          0.052251\n",
              "calculated_host_listings_count  0.019636  ...          0.121497\n",
              "availability_365                0.054538  ...          1.000000\n",
              "\n",
              "[6 rows x 6 columns]"
            ]
          },
          "metadata": {
            "tags": []
          }
        }
      ]
    },
    {
      "cell_type": "code",
      "metadata": {
        "id": "91UujDr6ueqE",
        "colab_type": "code",
        "colab": {
          "base_uri": "https://localhost:8080/",
          "height": 411
        },
        "outputId": "713ad4bf-ad0d-4a77-f563-d3e6b742d64a"
      },
      "source": [
        "# plotar um heatmap a partir das correlações\n",
        "sns.heatmap(corr, cmap='RdBu', fmt='.2f', square=True, linecolor='white', annot=True);"
      ],
      "execution_count": 50,
      "outputs": [
        {
          "output_type": "display_data",
          "data": {
            "image/png": "[encoded data removed]",
            "text/plain": [
              "<Figure size 432x288 with 2 Axes>"
            ]
          },
          "metadata": {
            "tags": [],
            "needs_background": "light"
          }
        }
      ]
    },
    {
      "cell_type": "markdown",
      "metadata": {
        "id": "xdZejHRx_sr-",
        "colab_type": "text"
      },
      "source": [
        "Com o *Heatmap* podemos observar que existem correlações mais fortes entre as variáveis:\n",
        "\n",
        "* `calculated_host_listings_count\t` e `minimum_nights`\n",
        "* `reviews_per_month` e `number_of_reviews`\n",
        "* "
      ]
    },
    {
      "cell_type": "markdown",
      "metadata": {
        "id": "7b6RMWpuHKN-",
        "colab_type": "text"
      },
      "source": [
        "### **Q7. Qual o tipo de imóvel mais alugado no Airbnb?**\n",
        "\n",
        "A coluna da variável `room_type` indica o tipo de locação que está anunciada no Airbnb. Se você já alugou no site, sabe que existem opções de apartamentos/casas inteiras, apenas o aluguel de um quarto ou mesmo dividir o quarto com outras pessoas.\n",
        "\n",
        "Vamos contar a quantidade de ocorrências de cada tipo de aluguel, usando o método `value_counts()`."
      ]
    },
    {
      "cell_type": "code",
      "metadata": {
        "id": "ueLPNWvPHgfB",
        "colab_type": "code",
        "colab": {
          "base_uri": "https://localhost:8080/",
          "height": 102
        },
        "outputId": "1ae62f4e-3f59-4210-c387-112f5eb6f17d"
      },
      "source": [
        "# mostrar a quantidade de cada tipo de imóvel disponível\n",
        "df_clean.room_type.value_counts()"
      ],
      "execution_count": 51,
      "outputs": [
        {
          "output_type": "execute_result",
          "data": {
            "text/plain": [
              "Entire home/apt    18947\n",
              "Private room       11634\n",
              "Shared room         1173\n",
              "Hotel room           174\n",
              "Name: room_type, dtype: int64"
            ]
          },
          "metadata": {
            "tags": []
          },
          "execution_count": 51
        }
      ]
    },
    {
      "cell_type": "code",
      "metadata": {
        "id": "EvwoO-XAHhIm",
        "colab_type": "code",
        "colab": {
          "base_uri": "https://localhost:8080/",
          "height": 102
        },
        "outputId": "c15bd1f3-91f3-4e70-9eca-d0fb29f7ef8a"
      },
      "source": [
        "# mostrar a porcentagem de cada tipo de imóvel disponível\n",
        "df_clean.room_type.value_counts() / df_clean.shape[0]"
      ],
      "execution_count": 52,
      "outputs": [
        {
          "output_type": "execute_result",
          "data": {
            "text/plain": [
              "Entire home/apt    0.593429\n",
              "Private room       0.364382\n",
              "Shared room        0.036739\n",
              "Hotel room         0.005450\n",
              "Name: room_type, dtype: float64"
            ]
          },
          "metadata": {
            "tags": []
          },
          "execution_count": 52
        }
      ]
    },
    {
      "cell_type": "markdown",
      "metadata": {
        "id": "MFa5NbnLJMcd",
        "colab_type": "text"
      },
      "source": [
        "### **Q8. Qual a localidade mais cara de Los Angeles?**\n",
        "\n",
        "Uma maneira de se verificar uma variável em função da outra é usando `groupby()`. No caso, queremos comparar os bairros (*neighbourhoods*) a partir do preço de locação."
      ]
    },
    {
      "cell_type": "code",
      "metadata": {
        "id": "MD_xa143JZpi",
        "colab_type": "code",
        "colab": {
          "base_uri": "https://localhost:8080/",
          "height": 221
        },
        "outputId": "b59fb61e-a766-4c65-d37a-79832f938cce"
      },
      "source": [
        "# ver preços por bairros, na média\n",
        "df_clean.groupby(['neighbourhood']).price.mean().sort_values(ascending=False)[:10]"
      ],
      "execution_count": 53,
      "outputs": [
        {
          "output_type": "execute_result",
          "data": {
            "text/plain": [
              "neighbourhood\n",
              "Lake Hughes                              300.000000\n",
              "Malibu                                   265.652778\n",
              "North Whittier                           260.000000\n",
              "Avalon                                   250.285714\n",
              "Bel-Air                                  214.600000\n",
              "Manhattan Beach                          207.586667\n",
              "Beverly Crest                            206.131148\n",
              "Unincorporated Santa Monica Mountains    200.078947\n",
              "Castaic Canyons                          192.187500\n",
              "Topanga                                  187.483871\n",
              "Name: price, dtype: float64"
            ]
          },
          "metadata": {
            "tags": []
          },
          "execution_count": 53
        }
      ]
    },
    {
      "cell_type": "markdown",
      "metadata": {
        "id": "ccYpQvNkBYKy",
        "colab_type": "text"
      },
      "source": [
        "Acima, podemos identificar que os bairros de Lake Hughes, Malibu e North Whittier, são os bairros com as maiores médias de preço.\n",
        "\n",
        "Uma pessoa que não conhecesse Los Angeles poderia apresentar esses resultados sem se questionar. Só para dar um único exemplo de como uma amostra pode ser não-representativa, veja quantas entradas há para o Lake Hughes."
      ]
    },
    {
      "cell_type": "code",
      "metadata": {
        "id": "h-fJrewiBwQB",
        "colab_type": "code",
        "colab": {
          "base_uri": "https://localhost:8080/",
          "height": 168
        },
        "outputId": "ca6bc819-14d1-4f1c-b9b8-39d7ce377c85"
      },
      "source": [
        "# ver quantidade de imóveis em Lake Hughes\n",
        "print(df_clean[df_clean.neighbourhood == \"Lake Hughes\"].shape)\n",
        "\n",
        "# ver a única entrada em Lake hughes\n",
        "df_clean[df_clean.neighbourhood == \"Lake Hughes\"]"
      ],
      "execution_count": 56,
      "outputs": [
        {
          "output_type": "stream",
          "text": [
            "(1, 16)\n"
          ],
          "name": "stdout"
        },
        {
          "output_type": "execute_result",
          "data": {
            "text/html": [
              "<div>\n",
              "<style scoped>\n",
              "    .dataframe tbody tr th:only-of-type {\n",
              "        vertical-align: middle;\n",
              "    }\n",
              "\n",
              "    .dataframe tbody tr th {\n",
              "        vertical-align: top;\n",
              "    }\n",
              "\n",
              "    .dataframe thead th {\n",
              "        text-align: right;\n",
              "    }\n",
              "</style>\n",
              "<table border=\"1\" class=\"dataframe\">\n",
              "  <thead>\n",
              "    <tr style=\"text-align: right;\">\n",
              "      <th></th>\n",
              "      <th>id</th>\n",
              "      <th>name</th>\n",
              "      <th>host_id</th>\n",
              "      <th>host_name</th>\n",
              "      <th>neighbourhood_group</th>\n",
              "      <th>neighbourhood</th>\n",
              "      <th>latitude</th>\n",
              "      <th>longitude</th>\n",
              "      <th>room_type</th>\n",
              "      <th>price</th>\n",
              "      <th>minimum_nights</th>\n",
              "      <th>number_of_reviews</th>\n",
              "      <th>last_review</th>\n",
              "      <th>reviews_per_month</th>\n",
              "      <th>calculated_host_listings_count</th>\n",
              "      <th>availability_365</th>\n",
              "    </tr>\n",
              "  </thead>\n",
              "  <tbody>\n",
              "    <tr>\n",
              "      <th>31472</th>\n",
              "      <td>40030179</td>\n",
              "      <td>The Lake Hughes Inn</td>\n",
              "      <td>287826714</td>\n",
              "      <td>Jeannette</td>\n",
              "      <td>Unincorporated Areas</td>\n",
              "      <td>Lake Hughes</td>\n",
              "      <td>34.67238</td>\n",
              "      <td>-118.42953</td>\n",
              "      <td>Entire home/apt</td>\n",
              "      <td>300</td>\n",
              "      <td>2</td>\n",
              "      <td>1</td>\n",
              "      <td>2020-02-17</td>\n",
              "      <td>0.36</td>\n",
              "      <td>1</td>\n",
              "      <td>177</td>\n",
              "    </tr>\n",
              "  </tbody>\n",
              "</table>\n",
              "</div>"
            ],
            "text/plain": [
              "             id  ... availability_365\n",
              "31472  40030179  ...              177\n",
              "\n",
              "[1 rows x 16 columns]"
            ]
          },
          "metadata": {
            "tags": []
          },
          "execution_count": 56
        }
      ]
    },
    {
      "cell_type": "markdown",
      "metadata": {
        "id": "kpMWvr7UCW3e",
        "colab_type": "text"
      },
      "source": [
        "Usando o mesmo pensamento, vamos ver quantas entradas existem para o bairro que tem o valor mais próximo da média, que é Bel-Air."
      ]
    },
    {
      "cell_type": "code",
      "metadata": {
        "id": "fqyjFvqsCgjN",
        "colab_type": "code",
        "colab": {
          "base_uri": "https://localhost:8080/",
          "height": 1000
        },
        "outputId": "4a1e0a04-6d90-47ba-b7c3-9497ce440200"
      },
      "source": [
        "# ver quantidade de imóveis em Bel-Air\n",
        "print(df_clean[df_clean.neighbourhood == \"Bel-Air\"].shape)\n",
        "\n",
        "# ver as entradas em Bel-Air\n",
        "df_clean[df_clean.neighbourhood == \"Bel-Air\"]"
      ],
      "execution_count": 57,
      "outputs": [
        {
          "output_type": "stream",
          "text": [
            "(25, 16)\n"
          ],
          "name": "stdout"
        },
        {
          "output_type": "execute_result",
          "data": {
            "text/html": [
              "<div>\n",
              "<style scoped>\n",
              "    .dataframe tbody tr th:only-of-type {\n",
              "        vertical-align: middle;\n",
              "    }\n",
              "\n",
              "    .dataframe tbody tr th {\n",
              "        vertical-align: top;\n",
              "    }\n",
              "\n",
              "    .dataframe thead th {\n",
              "        text-align: right;\n",
              "    }\n",
              "</style>\n",
              "<table border=\"1\" class=\"dataframe\">\n",
              "  <thead>\n",
              "    <tr style=\"text-align: right;\">\n",
              "      <th></th>\n",
              "      <th>id</th>\n",
              "      <th>name</th>\n",
              "      <th>host_id</th>\n",
              "      <th>host_name</th>\n",
              "      <th>neighbourhood_group</th>\n",
              "      <th>neighbourhood</th>\n",
              "      <th>latitude</th>\n",
              "      <th>longitude</th>\n",
              "      <th>room_type</th>\n",
              "      <th>price</th>\n",
              "      <th>minimum_nights</th>\n",
              "      <th>number_of_reviews</th>\n",
              "      <th>last_review</th>\n",
              "      <th>reviews_per_month</th>\n",
              "      <th>calculated_host_listings_count</th>\n",
              "      <th>availability_365</th>\n",
              "    </tr>\n",
              "  </thead>\n",
              "  <tbody>\n",
              "    <tr>\n",
              "      <th>2014</th>\n",
              "      <td>2873621</td>\n",
              "      <td>Private Ensuite Room/Bath in Unique Serene Set...</td>\n",
              "      <td>14687073</td>\n",
              "      <td>Don</td>\n",
              "      <td>City of Los Angeles</td>\n",
              "      <td>Bel-Air</td>\n",
              "      <td>34.08840</td>\n",
              "      <td>-118.46123</td>\n",
              "      <td>Private room</td>\n",
              "      <td>140</td>\n",
              "      <td>3</td>\n",
              "      <td>39</td>\n",
              "      <td>2020-04-01</td>\n",
              "      <td>0.57</td>\n",
              "      <td>3</td>\n",
              "      <td>342</td>\n",
              "    </tr>\n",
              "    <tr>\n",
              "      <th>2109</th>\n",
              "      <td>3084267</td>\n",
              "      <td>Private Ensuite Room/Bath in Serene Setting #2</td>\n",
              "      <td>14687073</td>\n",
              "      <td>Don</td>\n",
              "      <td>City of Los Angeles</td>\n",
              "      <td>Bel-Air</td>\n",
              "      <td>34.09003</td>\n",
              "      <td>-118.46173</td>\n",
              "      <td>Private room</td>\n",
              "      <td>140</td>\n",
              "      <td>3</td>\n",
              "      <td>8</td>\n",
              "      <td>2019-09-16</td>\n",
              "      <td>0.17</td>\n",
              "      <td>3</td>\n",
              "      <td>1</td>\n",
              "    </tr>\n",
              "    <tr>\n",
              "      <th>2429</th>\n",
              "      <td>3684911</td>\n",
              "      <td>Nice Apartment in West LA</td>\n",
              "      <td>5672642</td>\n",
              "      <td>Franck</td>\n",
              "      <td>City of Los Angeles</td>\n",
              "      <td>Bel-Air</td>\n",
              "      <td>34.07731</td>\n",
              "      <td>-118.46650</td>\n",
              "      <td>Entire home/apt</td>\n",
              "      <td>105</td>\n",
              "      <td>30</td>\n",
              "      <td>1</td>\n",
              "      <td>2014-09-08</td>\n",
              "      <td>0.01</td>\n",
              "      <td>2</td>\n",
              "      <td>0</td>\n",
              "    </tr>\n",
              "    <tr>\n",
              "      <th>3346</th>\n",
              "      <td>5183225</td>\n",
              "      <td>3 BEDROOMS/2 BATH BEL AIR VILLA/VIEWS/CELEBS!</td>\n",
              "      <td>26808984</td>\n",
              "      <td>Nadia</td>\n",
              "      <td>City of Los Angeles</td>\n",
              "      <td>Bel-Air</td>\n",
              "      <td>34.11035</td>\n",
              "      <td>-118.46295</td>\n",
              "      <td>Entire home/apt</td>\n",
              "      <td>449</td>\n",
              "      <td>2</td>\n",
              "      <td>2</td>\n",
              "      <td>2015-12-30</td>\n",
              "      <td>0.03</td>\n",
              "      <td>1</td>\n",
              "      <td>363</td>\n",
              "    </tr>\n",
              "    <tr>\n",
              "      <th>6430</th>\n",
              "      <td>10784354</td>\n",
              "      <td>Bel Air Private &amp; Relaxing Modern Home w/ HotTub</td>\n",
              "      <td>4656446</td>\n",
              "      <td>A.C.</td>\n",
              "      <td>City of Los Angeles</td>\n",
              "      <td>Bel-Air</td>\n",
              "      <td>34.08920</td>\n",
              "      <td>-118.43771</td>\n",
              "      <td>Private room</td>\n",
              "      <td>300</td>\n",
              "      <td>30</td>\n",
              "      <td>60</td>\n",
              "      <td>2019-12-23</td>\n",
              "      <td>1.30</td>\n",
              "      <td>49</td>\n",
              "      <td>309</td>\n",
              "    </tr>\n",
              "    <tr>\n",
              "      <th>7692</th>\n",
              "      <td>13118084</td>\n",
              "      <td>BEL AIR MAJESTIC</td>\n",
              "      <td>1150474</td>\n",
              "      <td>Paolo</td>\n",
              "      <td>City of Los Angeles</td>\n",
              "      <td>Bel-Air</td>\n",
              "      <td>34.08430</td>\n",
              "      <td>-118.45766</td>\n",
              "      <td>Entire home/apt</td>\n",
              "      <td>400</td>\n",
              "      <td>10</td>\n",
              "      <td>0</td>\n",
              "      <td>NaN</td>\n",
              "      <td>NaN</td>\n",
              "      <td>1</td>\n",
              "      <td>0</td>\n",
              "    </tr>\n",
              "    <tr>\n",
              "      <th>8171</th>\n",
              "      <td>13688397</td>\n",
              "      <td>SEXY 3 BEDROOM/2BATH BEL AIR VILLA/ VIEWS/CELE...</td>\n",
              "      <td>79746176</td>\n",
              "      <td>Ray</td>\n",
              "      <td>City of Los Angeles</td>\n",
              "      <td>Bel-Air</td>\n",
              "      <td>34.12155</td>\n",
              "      <td>-118.46452</td>\n",
              "      <td>Entire home/apt</td>\n",
              "      <td>449</td>\n",
              "      <td>3</td>\n",
              "      <td>0</td>\n",
              "      <td>NaN</td>\n",
              "      <td>NaN</td>\n",
              "      <td>1</td>\n",
              "      <td>362</td>\n",
              "    </tr>\n",
              "    <tr>\n",
              "      <th>8753</th>\n",
              "      <td>14452904</td>\n",
              "      <td>Double room with great amenities in Bel Air</td>\n",
              "      <td>77189900</td>\n",
              "      <td>Philip</td>\n",
              "      <td>City of Los Angeles</td>\n",
              "      <td>Bel-Air</td>\n",
              "      <td>34.12983</td>\n",
              "      <td>-118.46573</td>\n",
              "      <td>Private room</td>\n",
              "      <td>150</td>\n",
              "      <td>2</td>\n",
              "      <td>10</td>\n",
              "      <td>2019-12-01</td>\n",
              "      <td>0.90</td>\n",
              "      <td>2</td>\n",
              "      <td>0</td>\n",
              "    </tr>\n",
              "    <tr>\n",
              "      <th>9888</th>\n",
              "      <td>16069621</td>\n",
              "      <td>Bel Air Charming Studio with a pool</td>\n",
              "      <td>64960627</td>\n",
              "      <td>Benton</td>\n",
              "      <td>City of Los Angeles</td>\n",
              "      <td>Bel-Air</td>\n",
              "      <td>34.07716</td>\n",
              "      <td>-118.46832</td>\n",
              "      <td>Entire home/apt</td>\n",
              "      <td>97</td>\n",
              "      <td>1</td>\n",
              "      <td>1</td>\n",
              "      <td>2017-12-14</td>\n",
              "      <td>0.03</td>\n",
              "      <td>1</td>\n",
              "      <td>0</td>\n",
              "    </tr>\n",
              "    <tr>\n",
              "      <th>14234</th>\n",
              "      <td>21394197</td>\n",
              "      <td>Explore Bel Air &amp; Beverly Hills from a Colorfu...</td>\n",
              "      <td>1106156</td>\n",
              "      <td>Allie</td>\n",
              "      <td>City of Los Angeles</td>\n",
              "      <td>Bel-Air</td>\n",
              "      <td>34.09407</td>\n",
              "      <td>-118.44153</td>\n",
              "      <td>Entire home/apt</td>\n",
              "      <td>220</td>\n",
              "      <td>1</td>\n",
              "      <td>113</td>\n",
              "      <td>2020-04-18</td>\n",
              "      <td>3.92</td>\n",
              "      <td>1</td>\n",
              "      <td>0</td>\n",
              "    </tr>\n",
              "    <tr>\n",
              "      <th>14358</th>\n",
              "      <td>21511349</td>\n",
              "      <td>Prime Bel Air 3-4BR Home with Garden</td>\n",
              "      <td>19076434</td>\n",
              "      <td>Samantha</td>\n",
              "      <td>City of Los Angeles</td>\n",
              "      <td>Bel-Air</td>\n",
              "      <td>34.09282</td>\n",
              "      <td>-118.44905</td>\n",
              "      <td>Entire home/apt</td>\n",
              "      <td>350</td>\n",
              "      <td>1</td>\n",
              "      <td>70</td>\n",
              "      <td>2020-03-15</td>\n",
              "      <td>2.36</td>\n",
              "      <td>1</td>\n",
              "      <td>156</td>\n",
              "    </tr>\n",
              "    <tr>\n",
              "      <th>17467</th>\n",
              "      <td>24808223</td>\n",
              "      <td>2 stops to UCLA/6 mins drive/walk to Getty</td>\n",
              "      <td>127071228</td>\n",
              "      <td>Maria</td>\n",
              "      <td>City of Los Angeles</td>\n",
              "      <td>Bel-Air</td>\n",
              "      <td>34.08406</td>\n",
              "      <td>-118.47342</td>\n",
              "      <td>Private room</td>\n",
              "      <td>60</td>\n",
              "      <td>30</td>\n",
              "      <td>3</td>\n",
              "      <td>2019-09-05</td>\n",
              "      <td>0.13</td>\n",
              "      <td>4</td>\n",
              "      <td>365</td>\n",
              "    </tr>\n",
              "    <tr>\n",
              "      <th>23848</th>\n",
              "      <td>32744129</td>\n",
              "      <td>Hilltop Bel Air Estate Guest House with Pool</td>\n",
              "      <td>246233593</td>\n",
              "      <td>Mark</td>\n",
              "      <td>City of Los Angeles</td>\n",
              "      <td>Bel-Air</td>\n",
              "      <td>34.08132</td>\n",
              "      <td>-118.46811</td>\n",
              "      <td>Entire home/apt</td>\n",
              "      <td>166</td>\n",
              "      <td>2</td>\n",
              "      <td>65</td>\n",
              "      <td>2020-03-14</td>\n",
              "      <td>4.58</td>\n",
              "      <td>11</td>\n",
              "      <td>66</td>\n",
              "    </tr>\n",
              "    <tr>\n",
              "      <th>23925</th>\n",
              "      <td>32808016</td>\n",
              "      <td>Small suite (separate entrance - mins to UCLA)</td>\n",
              "      <td>246801912</td>\n",
              "      <td>Maria</td>\n",
              "      <td>City of Los Angeles</td>\n",
              "      <td>Bel-Air</td>\n",
              "      <td>34.08252</td>\n",
              "      <td>-118.47306</td>\n",
              "      <td>Private room</td>\n",
              "      <td>60</td>\n",
              "      <td>30</td>\n",
              "      <td>0</td>\n",
              "      <td>NaN</td>\n",
              "      <td>NaN</td>\n",
              "      <td>3</td>\n",
              "      <td>365</td>\n",
              "    </tr>\n",
              "    <tr>\n",
              "      <th>23940</th>\n",
              "      <td>32816060</td>\n",
              "      <td>Private room with direct separate entrance</td>\n",
              "      <td>246801912</td>\n",
              "      <td>Maria</td>\n",
              "      <td>City of Los Angeles</td>\n",
              "      <td>Bel-Air</td>\n",
              "      <td>34.08070</td>\n",
              "      <td>-118.47191</td>\n",
              "      <td>Private room</td>\n",
              "      <td>65</td>\n",
              "      <td>30</td>\n",
              "      <td>0</td>\n",
              "      <td>NaN</td>\n",
              "      <td>NaN</td>\n",
              "      <td>3</td>\n",
              "      <td>365</td>\n",
              "    </tr>\n",
              "    <tr>\n",
              "      <th>24176</th>\n",
              "      <td>33040303</td>\n",
              "      <td>Bel Air Home w/pool, March-April rate reduction</td>\n",
              "      <td>28884695</td>\n",
              "      <td>Sy</td>\n",
              "      <td>City of Los Angeles</td>\n",
              "      <td>Bel-Air</td>\n",
              "      <td>34.08330</td>\n",
              "      <td>-118.46199</td>\n",
              "      <td>Entire home/apt</td>\n",
              "      <td>400</td>\n",
              "      <td>1</td>\n",
              "      <td>9</td>\n",
              "      <td>2020-03-08</td>\n",
              "      <td>0.75</td>\n",
              "      <td>1</td>\n",
              "      <td>351</td>\n",
              "    </tr>\n",
              "    <tr>\n",
              "      <th>24591</th>\n",
              "      <td>33488696</td>\n",
              "      <td>Bel Air Sanctuary</td>\n",
              "      <td>2382230</td>\n",
              "      <td>Timothy</td>\n",
              "      <td>City of Los Angeles</td>\n",
              "      <td>Bel-Air</td>\n",
              "      <td>34.08301</td>\n",
              "      <td>-118.47377</td>\n",
              "      <td>Entire home/apt</td>\n",
              "      <td>275</td>\n",
              "      <td>2</td>\n",
              "      <td>5</td>\n",
              "      <td>2020-02-29</td>\n",
              "      <td>0.55</td>\n",
              "      <td>1</td>\n",
              "      <td>0</td>\n",
              "    </tr>\n",
              "    <tr>\n",
              "      <th>25017</th>\n",
              "      <td>33941217</td>\n",
              "      <td>Secluded Spacious Bel Air 5BR Home Amazing Views!</td>\n",
              "      <td>4656446</td>\n",
              "      <td>A.C.</td>\n",
              "      <td>City of Los Angeles</td>\n",
              "      <td>Bel-Air</td>\n",
              "      <td>34.07573</td>\n",
              "      <td>-118.46479</td>\n",
              "      <td>Entire home/apt</td>\n",
              "      <td>405</td>\n",
              "      <td>2</td>\n",
              "      <td>18</td>\n",
              "      <td>2020-04-30</td>\n",
              "      <td>1.52</td>\n",
              "      <td>49</td>\n",
              "      <td>149</td>\n",
              "    </tr>\n",
              "    <tr>\n",
              "      <th>28518</th>\n",
              "      <td>37660750</td>\n",
              "      <td>Cosy 1 Bedroom in Bel Air/near UCLA</td>\n",
              "      <td>187307365</td>\n",
              "      <td>Hailey</td>\n",
              "      <td>City of Los Angeles</td>\n",
              "      <td>Bel-Air</td>\n",
              "      <td>34.08640</td>\n",
              "      <td>-118.46935</td>\n",
              "      <td>Entire home/apt</td>\n",
              "      <td>235</td>\n",
              "      <td>3</td>\n",
              "      <td>3</td>\n",
              "      <td>2020-02-17</td>\n",
              "      <td>0.49</td>\n",
              "      <td>5</td>\n",
              "      <td>269</td>\n",
              "    </tr>\n",
              "    <tr>\n",
              "      <th>29155</th>\n",
              "      <td>38192920</td>\n",
              "      <td>Small private room minutes from Ucla</td>\n",
              "      <td>127071228</td>\n",
              "      <td>Maria</td>\n",
              "      <td>City of Los Angeles</td>\n",
              "      <td>Bel-Air</td>\n",
              "      <td>34.08131</td>\n",
              "      <td>-118.47191</td>\n",
              "      <td>Private room</td>\n",
              "      <td>70</td>\n",
              "      <td>30</td>\n",
              "      <td>2</td>\n",
              "      <td>2020-01-31</td>\n",
              "      <td>0.25</td>\n",
              "      <td>4</td>\n",
              "      <td>359</td>\n",
              "    </tr>\n",
              "    <tr>\n",
              "      <th>29518</th>\n",
              "      <td>38549836</td>\n",
              "      <td>1B/R house in Bel Air,close to UCLA,Beverly Hills</td>\n",
              "      <td>187307365</td>\n",
              "      <td>Hailey</td>\n",
              "      <td>City of Los Angeles</td>\n",
              "      <td>Bel-Air</td>\n",
              "      <td>34.08564</td>\n",
              "      <td>-118.46943</td>\n",
              "      <td>Entire home/apt</td>\n",
              "      <td>180</td>\n",
              "      <td>2</td>\n",
              "      <td>1</td>\n",
              "      <td>2019-11-10</td>\n",
              "      <td>0.17</td>\n",
              "      <td>5</td>\n",
              "      <td>179</td>\n",
              "    </tr>\n",
              "    <tr>\n",
              "      <th>29843</th>\n",
              "      <td>38847083</td>\n",
              "      <td>Separate entrance -Private bedroom (en-suite b...</td>\n",
              "      <td>127071228</td>\n",
              "      <td>Maria</td>\n",
              "      <td>City of Los Angeles</td>\n",
              "      <td>Bel-Air</td>\n",
              "      <td>34.08500</td>\n",
              "      <td>-118.47343</td>\n",
              "      <td>Private room</td>\n",
              "      <td>80</td>\n",
              "      <td>30</td>\n",
              "      <td>0</td>\n",
              "      <td>NaN</td>\n",
              "      <td>NaN</td>\n",
              "      <td>4</td>\n",
              "      <td>365</td>\n",
              "    </tr>\n",
              "    <tr>\n",
              "      <th>30654</th>\n",
              "      <td>39442791</td>\n",
              "      <td>3BR|4BD's| 3BA Bel Air Home w/Jacuzzi&amp;Large Patio</td>\n",
              "      <td>75431354</td>\n",
              "      <td>La</td>\n",
              "      <td>City of Los Angeles</td>\n",
              "      <td>Bel-Air</td>\n",
              "      <td>34.09358</td>\n",
              "      <td>-118.43994</td>\n",
              "      <td>Entire home/apt</td>\n",
              "      <td>349</td>\n",
              "      <td>2</td>\n",
              "      <td>2</td>\n",
              "      <td>2019-12-31</td>\n",
              "      <td>0.45</td>\n",
              "      <td>12</td>\n",
              "      <td>365</td>\n",
              "    </tr>\n",
              "    <tr>\n",
              "      <th>31455</th>\n",
              "      <td>40016414</td>\n",
              "      <td>Spacious 2BR/2BA w/ Breathtaking Views in Bel Air</td>\n",
              "      <td>33519646</td>\n",
              "      <td>Fizah</td>\n",
              "      <td>City of Los Angeles</td>\n",
              "      <td>Bel-Air</td>\n",
              "      <td>34.11921</td>\n",
              "      <td>-118.46415</td>\n",
              "      <td>Entire home/apt</td>\n",
              "      <td>150</td>\n",
              "      <td>30</td>\n",
              "      <td>0</td>\n",
              "      <td>NaN</td>\n",
              "      <td>NaN</td>\n",
              "      <td>1</td>\n",
              "      <td>365</td>\n",
              "    </tr>\n",
              "    <tr>\n",
              "      <th>31992</th>\n",
              "      <td>40365204</td>\n",
              "      <td>Furnished or unfurnished House (short/long term)</td>\n",
              "      <td>127071228</td>\n",
              "      <td>Maria</td>\n",
              "      <td>City of Los Angeles</td>\n",
              "      <td>Bel-Air</td>\n",
              "      <td>34.08115</td>\n",
              "      <td>-118.47178</td>\n",
              "      <td>Entire home/apt</td>\n",
              "      <td>70</td>\n",
              "      <td>14</td>\n",
              "      <td>0</td>\n",
              "      <td>NaN</td>\n",
              "      <td>NaN</td>\n",
              "      <td>4</td>\n",
              "      <td>365</td>\n",
              "    </tr>\n",
              "  </tbody>\n",
              "</table>\n",
              "</div>"
            ],
            "text/plain": [
              "             id  ... availability_365\n",
              "2014    2873621  ...              342\n",
              "2109    3084267  ...                1\n",
              "2429    3684911  ...                0\n",
              "3346    5183225  ...              363\n",
              "6430   10784354  ...              309\n",
              "7692   13118084  ...                0\n",
              "8171   13688397  ...              362\n",
              "8753   14452904  ...                0\n",
              "9888   16069621  ...                0\n",
              "14234  21394197  ...                0\n",
              "14358  21511349  ...              156\n",
              "17467  24808223  ...              365\n",
              "23848  32744129  ...               66\n",
              "23925  32808016  ...              365\n",
              "23940  32816060  ...              365\n",
              "24176  33040303  ...              351\n",
              "24591  33488696  ...                0\n",
              "25017  33941217  ...              149\n",
              "28518  37660750  ...              269\n",
              "29155  38192920  ...              359\n",
              "29518  38549836  ...              179\n",
              "29843  38847083  ...              365\n",
              "30654  39442791  ...              365\n",
              "31455  40016414  ...              365\n",
              "31992  40365204  ...              365\n",
              "\n",
              "[25 rows x 16 columns]"
            ]
          },
          "metadata": {
            "tags": []
          },
          "execution_count": 57
        }
      ]
    },
    {
      "cell_type": "markdown",
      "metadata": {
        "id": "6alCDjRKDALd",
        "colab_type": "text"
      },
      "source": [
        "Como são fornecidas as Latitudes e Longitudes para os imóveis, é possível plotar cada ponto. Para isso, considera-se `x=longitude` e `y=latitude`."
      ]
    },
    {
      "cell_type": "code",
      "metadata": {
        "id": "UxVJqJ_3W59I",
        "colab_type": "code",
        "colab": {
          "base_uri": "https://localhost:8080/",
          "height": 472
        },
        "outputId": "8c2ad291-42be-4ef8-ab58-d8ce689c556b"
      },
      "source": [
        "# plotar os imóveis pela latitude-longitude\n",
        "df_clean.plot(kind=\"scatter\", x='longitude', y='latitude', alpha=0.4, c=df_clean['price'], s=8,\n",
        "              cmap=plt.get_cmap('jet'), figsize=(12,8));"
      ],
      "execution_count": 58,
      "outputs": [
        {
          "output_type": "display_data",
          "data": {
            "image/png": "[encoded data removed]",
            "text/plain": [
              "<Figure size 864x576 with 2 Axes>"
            ]
          },
          "metadata": {
            "tags": [],
            "needs_background": "light"
          }
        }
      ]
    },
    {
      "cell_type": "markdown",
      "metadata": {
        "id": "vTneAMRUYvr1",
        "colab_type": "text"
      },
      "source": [
        "### **Q9. Qual é a média do mínimo de noites para aluguel (minimum_nights)?**"
      ]
    },
    {
      "cell_type": "code",
      "metadata": {
        "id": "_VzNhrEgY82N",
        "colab_type": "code",
        "colab": {
          "base_uri": "https://localhost:8080/",
          "height": 297
        },
        "outputId": "064bd0c0-2de1-4f4f-e470-7c6c0ac9a0ef"
      },
      "source": [
        "# ver a média da coluna `minimum_nights`\n",
        "df[['minimum_nights']].describe()"
      ],
      "execution_count": 59,
      "outputs": [
        {
          "output_type": "execute_result",
          "data": {
            "text/html": [
              "<div>\n",
              "<style scoped>\n",
              "    .dataframe tbody tr th:only-of-type {\n",
              "        vertical-align: middle;\n",
              "    }\n",
              "\n",
              "    .dataframe tbody tr th {\n",
              "        vertical-align: top;\n",
              "    }\n",
              "\n",
              "    .dataframe thead th {\n",
              "        text-align: right;\n",
              "    }\n",
              "</style>\n",
              "<table border=\"1\" class=\"dataframe\">\n",
              "  <thead>\n",
              "    <tr style=\"text-align: right;\">\n",
              "      <th></th>\n",
              "      <th>minimum_nights</th>\n",
              "    </tr>\n",
              "  </thead>\n",
              "  <tbody>\n",
              "    <tr>\n",
              "      <th>count</th>\n",
              "      <td>37048.000000</td>\n",
              "    </tr>\n",
              "    <tr>\n",
              "      <th>mean</th>\n",
              "      <td>12.715369</td>\n",
              "    </tr>\n",
              "    <tr>\n",
              "      <th>std</th>\n",
              "      <td>26.759290</td>\n",
              "    </tr>\n",
              "    <tr>\n",
              "      <th>min</th>\n",
              "      <td>1.000000</td>\n",
              "    </tr>\n",
              "    <tr>\n",
              "      <th>25%</th>\n",
              "      <td>1.000000</td>\n",
              "    </tr>\n",
              "    <tr>\n",
              "      <th>50%</th>\n",
              "      <td>3.000000</td>\n",
              "    </tr>\n",
              "    <tr>\n",
              "      <th>75%</th>\n",
              "      <td>30.000000</td>\n",
              "    </tr>\n",
              "    <tr>\n",
              "      <th>max</th>\n",
              "      <td>1125.000000</td>\n",
              "    </tr>\n",
              "  </tbody>\n",
              "</table>\n",
              "</div>"
            ],
            "text/plain": [
              "       minimum_nights\n",
              "count    37048.000000\n",
              "mean        12.715369\n",
              "std         26.759290\n",
              "min          1.000000\n",
              "25%          1.000000\n",
              "50%          3.000000\n",
              "75%         30.000000\n",
              "max       1125.000000"
            ]
          },
          "metadata": {
            "tags": []
          },
          "execution_count": 59
        }
      ]
    },
    {
      "cell_type": "markdown",
      "metadata": {
        "id": "FXBE_d2CDb2n",
        "colab_type": "text"
      },
      "source": [
        "Em média, os imóveis são alugados por 12 noites e no mínimo por 1 noite."
      ]
    },
    {
      "cell_type": "markdown",
      "metadata": {
        "id": "GkvAg623RjoR",
        "colab_type": "text"
      },
      "source": [
        "## Conclusões\n"
      ]
    },
    {
      "cell_type": "markdown",
      "metadata": {
        "id": "rbZ3Hsy9Ypw8",
        "colab_type": "text"
      },
      "source": [
        "Esta foi apenas uma análise superficial na base de dados do Airbnb, porém já se percebeu que existem *outliers* em algumas das variáveis. \n",
        "\n",
        "Também se notou que em algumas localidades há poucos imóveis disponíveis, o que pode distorcer as informações estatísticas de alguns atributos.\n",
        "\n",
        "Por fim, lembra-se que este *dataset* é uma versão resumida, ideal apenas para uma abordagem inicial. Recomenda-se que seja usado, em uma próxima análise exploratória, o conjunto de dados completos."
      ]
    }
  ]
}