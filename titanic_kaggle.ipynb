{
  "nbformat": 4,
  "nbformat_minor": 0,
  "metadata": {
    "colab": {
      "name": "titanic_kaggle.ipynb",
      "provenance": [],
      "mount_file_id": "13DiRPHguvCxP9atEO4YBj5UeDzit7xRp",
      "authorship_tag": "ABX9TyM6CdNWbCQO6CoGaKo44pIY",
      "include_colab_link": true
    },
    "kernelspec": {
      "name": "python3",
      "display_name": "Python 3"
    }
  },
  "cells": [
    {
      "cell_type": "markdown",
      "metadata": {
        "id": "view-in-github",
        "colab_type": "text"
      },
      "source": [
        "<a href=\"https://colab.research.google.com/github/Giovannisb/Portfolio_data_science/blob/master/titanic_kaggle.ipynb\" target=\"_parent\"><img src=\"https://colab.research.google.com/assets/colab-badge.svg\" alt=\"Open In Colab\"/></a>"
      ]
    },
    {
      "cell_type": "markdown",
      "metadata": {
        "id": "wAB-xqq6qdWz",
        "colab_type": "text"
      },
      "source": [
        "<center><img src='https://image.freepik.com/vetores-gratis/acidente-de-naufragio-navio-encalhado-pia-no-oceano_33099-2210.jpg'></center>\n",
        "\n",
        "# Investigando o Titanic com Data Science\n",
        "\n",
        "Operado pela White Star Line, empresa britânica de navegação, o Titanic foi criado para saciar a demanda por viagens de luxo entre a Europa e a América. A construção do navio teve início em março de 1909, em Belfast, na Irlanda. \n",
        "\n",
        "Quando foi enviado à Inglaterra para ser abastecido, o Titanic era um dos maiores navios de sua época. Possuia 53 metros de altura, 28 metros de largura e 266 metros de comprimento, o tamanho de quase três campos de futebol americano. \n",
        "\n",
        "O Titanic também contava com novos recursos de segurança, como 16 compartimentos feitos para impedir que o casco inundasse. Isso fez muitos acreditarem que o navio era inafundável. Esse excesso de confiança levou a infeliz decisão de cortar pela metade o número de botes salva-vidas a bordo para o convés ficar mais ordenado e elegante. \n",
        "\n",
        "Em 10 de abril de 1912, o Titanic deixou o porto de Southampton, na Inglaterra e embarcou em sua primeira e última viagem. Suas primeiras escalas foram na França e na Irlanda, depois partiu em uma longa jornada pelo mar, em direção a Nova York, com cerca de 2200 pessoas a bordo.\n",
        "\n",
        "Em 14 de abril, em plena noite, foram emitidos alertas aos operadores de rádio do Titanic referentes a campos de gelo, nunca transmitidos à ponte de comando. A cerca de 800km da costa de Newfoundland, no Canadá, a tripulação de vigia do Titanic avistou um iceberg na rota do navio e avisou a ponte de comando, mas era tarde demais. \n",
        "\n",
        "O iceberg rasgou a lateral direita do navio, fazendo seus compartimentos, originalmente considerados impermeáveis, encherem de água. Os operadores de rádio do Titanic começaram a enviar sinais de socorro. Após um tempo, o navio Carpathia, alí próximo, recebeu um dos sinais de socorro e traçou seu rumo em direção ao Titanic. Ao mesmo tempo, a tripulação começou a por mulheres e crianças nos poucos botes salva-vidas a bordo.\n",
        "\n",
        "Além da falta de salva-vidas, alguns dos que foram usados não foram ocupados até sua capacidade total, fazendo com que mais pessoas ficassem presas no navio. Em algumas horas, a proa do navio começou a afundar e erguer a popa. Poucos minutos depois o navio se partiu em dois fanzendo com que o navio naufragasse. \n",
        "\n",
        "Algumas horas depois de receber o aviso de socorro, o Carpathia chegou para socorrer os passageiros. Das 2200 pessoas a bordo do Titanic, apenas 705 sobreviveram.\n",
        "\n",
        "O desafio do Kaggle, plataforma de datasets e competições de data science e machine learning, se dá em desenvolver um modelo de machine learning para prever, atravez dos dados dos passageiros do Titanic, quem teria sobrevivido ou não. \n"
      ]
    },
    {
      "cell_type": "markdown",
      "metadata": {
        "id": "FJb6f3ak_ROg",
        "colab_type": "text"
      },
      "source": [
        "## Obtenção dos Dados\n",
        "\n",
        "Os dados da competição podem ser acessados[aqui](https://www.kaggle.com/c/titanic/overview).\n",
        "\n",
        "Os dados estão divididos em dois arquivos **.csv**. O arquivo `train.csv` contém os dados para construir e treinar o modelo de machine learning e o arquivo `test.csv` é o conjunto de dados que iremos utilizar para testar o modelo."
      ]
    },
    {
      "cell_type": "code",
      "metadata": {
        "id": "f1cDm-PGia1T",
        "colab_type": "code",
        "colab": {}
      },
      "source": [
        "import pandas as pd\n",
        "import matplotlib.pyplot as plt\n",
        "import seaborn as sns"
      ],
      "execution_count": 145,
      "outputs": []
    },
    {
      "cell_type": "code",
      "metadata": {
        "id": "qSCUTzU5n0sm",
        "colab_type": "code",
        "colab": {
          "base_uri": "https://localhost:8080/",
          "height": 195
        },
        "outputId": "4ccd6bf8-0ac2-4467-f088-785ed62db279"
      },
      "source": [
        "df_train = pd.read_csv('path/train.csv')\n",
        "df_train.head()"
      ],
      "execution_count": 146,
      "outputs": [
        {
          "output_type": "execute_result",
          "data": {
            "text/html": [
              "<div>\n",
              "<style scoped>\n",
              "    .dataframe tbody tr th:only-of-type {\n",
              "        vertical-align: middle;\n",
              "    }\n",
              "\n",
              "    .dataframe tbody tr th {\n",
              "        vertical-align: top;\n",
              "    }\n",
              "\n",
              "    .dataframe thead th {\n",
              "        text-align: right;\n",
              "    }\n",
              "</style>\n",
              "<table border=\"1\" class=\"dataframe\">\n",
              "  <thead>\n",
              "    <tr style=\"text-align: right;\">\n",
              "      <th></th>\n",
              "      <th>PassengerId</th>\n",
              "      <th>Survived</th>\n",
              "      <th>Pclass</th>\n",
              "      <th>Name</th>\n",
              "      <th>Sex</th>\n",
              "      <th>Age</th>\n",
              "      <th>SibSp</th>\n",
              "      <th>Parch</th>\n",
              "      <th>Ticket</th>\n",
              "      <th>Fare</th>\n",
              "      <th>Cabin</th>\n",
              "      <th>Embarked</th>\n",
              "    </tr>\n",
              "  </thead>\n",
              "  <tbody>\n",
              "    <tr>\n",
              "      <th>0</th>\n",
              "      <td>1</td>\n",
              "      <td>0</td>\n",
              "      <td>3</td>\n",
              "      <td>Braund, Mr. Owen Harris</td>\n",
              "      <td>male</td>\n",
              "      <td>22.0</td>\n",
              "      <td>1</td>\n",
              "      <td>0</td>\n",
              "      <td>A/5 21171</td>\n",
              "      <td>7.2500</td>\n",
              "      <td>NaN</td>\n",
              "      <td>S</td>\n",
              "    </tr>\n",
              "    <tr>\n",
              "      <th>1</th>\n",
              "      <td>2</td>\n",
              "      <td>1</td>\n",
              "      <td>1</td>\n",
              "      <td>Cumings, Mrs. John Bradley (Florence Briggs Th...</td>\n",
              "      <td>female</td>\n",
              "      <td>38.0</td>\n",
              "      <td>1</td>\n",
              "      <td>0</td>\n",
              "      <td>PC 17599</td>\n",
              "      <td>71.2833</td>\n",
              "      <td>C85</td>\n",
              "      <td>C</td>\n",
              "    </tr>\n",
              "    <tr>\n",
              "      <th>2</th>\n",
              "      <td>3</td>\n",
              "      <td>1</td>\n",
              "      <td>3</td>\n",
              "      <td>Heikkinen, Miss. Laina</td>\n",
              "      <td>female</td>\n",
              "      <td>26.0</td>\n",
              "      <td>0</td>\n",
              "      <td>0</td>\n",
              "      <td>STON/O2. 3101282</td>\n",
              "      <td>7.9250</td>\n",
              "      <td>NaN</td>\n",
              "      <td>S</td>\n",
              "    </tr>\n",
              "    <tr>\n",
              "      <th>3</th>\n",
              "      <td>4</td>\n",
              "      <td>1</td>\n",
              "      <td>1</td>\n",
              "      <td>Futrelle, Mrs. Jacques Heath (Lily May Peel)</td>\n",
              "      <td>female</td>\n",
              "      <td>35.0</td>\n",
              "      <td>1</td>\n",
              "      <td>0</td>\n",
              "      <td>113803</td>\n",
              "      <td>53.1000</td>\n",
              "      <td>C123</td>\n",
              "      <td>S</td>\n",
              "    </tr>\n",
              "    <tr>\n",
              "      <th>4</th>\n",
              "      <td>5</td>\n",
              "      <td>0</td>\n",
              "      <td>3</td>\n",
              "      <td>Allen, Mr. William Henry</td>\n",
              "      <td>male</td>\n",
              "      <td>35.0</td>\n",
              "      <td>0</td>\n",
              "      <td>0</td>\n",
              "      <td>373450</td>\n",
              "      <td>8.0500</td>\n",
              "      <td>NaN</td>\n",
              "      <td>S</td>\n",
              "    </tr>\n",
              "  </tbody>\n",
              "</table>\n",
              "</div>"
            ],
            "text/plain": [
              "   PassengerId  Survived  Pclass  ...     Fare Cabin  Embarked\n",
              "0            1         0       3  ...   7.2500   NaN         S\n",
              "1            2         1       1  ...  71.2833   C85         C\n",
              "2            3         1       3  ...   7.9250   NaN         S\n",
              "3            4         1       1  ...  53.1000  C123         S\n",
              "4            5         0       3  ...   8.0500   NaN         S\n",
              "\n",
              "[5 rows x 12 columns]"
            ]
          },
          "metadata": {
            "tags": []
          },
          "execution_count": 146
        }
      ]
    },
    {
      "cell_type": "code",
      "metadata": {
        "id": "4t3zNBdnoGfg",
        "colab_type": "code",
        "colab": {
          "base_uri": "https://localhost:8080/",
          "height": 195
        },
        "outputId": "74aa05a1-8d90-47ca-9e7f-8566be671ede"
      },
      "source": [
        "df_test = pd.read_csv('path/test.csv')\n",
        "df_test.head()"
      ],
      "execution_count": 147,
      "outputs": [
        {
          "output_type": "execute_result",
          "data": {
            "text/html": [
              "<div>\n",
              "<style scoped>\n",
              "    .dataframe tbody tr th:only-of-type {\n",
              "        vertical-align: middle;\n",
              "    }\n",
              "\n",
              "    .dataframe tbody tr th {\n",
              "        vertical-align: top;\n",
              "    }\n",
              "\n",
              "    .dataframe thead th {\n",
              "        text-align: right;\n",
              "    }\n",
              "</style>\n",
              "<table border=\"1\" class=\"dataframe\">\n",
              "  <thead>\n",
              "    <tr style=\"text-align: right;\">\n",
              "      <th></th>\n",
              "      <th>PassengerId</th>\n",
              "      <th>Pclass</th>\n",
              "      <th>Name</th>\n",
              "      <th>Sex</th>\n",
              "      <th>Age</th>\n",
              "      <th>SibSp</th>\n",
              "      <th>Parch</th>\n",
              "      <th>Ticket</th>\n",
              "      <th>Fare</th>\n",
              "      <th>Cabin</th>\n",
              "      <th>Embarked</th>\n",
              "    </tr>\n",
              "  </thead>\n",
              "  <tbody>\n",
              "    <tr>\n",
              "      <th>0</th>\n",
              "      <td>892</td>\n",
              "      <td>3</td>\n",
              "      <td>Kelly, Mr. James</td>\n",
              "      <td>male</td>\n",
              "      <td>34.5</td>\n",
              "      <td>0</td>\n",
              "      <td>0</td>\n",
              "      <td>330911</td>\n",
              "      <td>7.8292</td>\n",
              "      <td>NaN</td>\n",
              "      <td>Q</td>\n",
              "    </tr>\n",
              "    <tr>\n",
              "      <th>1</th>\n",
              "      <td>893</td>\n",
              "      <td>3</td>\n",
              "      <td>Wilkes, Mrs. James (Ellen Needs)</td>\n",
              "      <td>female</td>\n",
              "      <td>47.0</td>\n",
              "      <td>1</td>\n",
              "      <td>0</td>\n",
              "      <td>363272</td>\n",
              "      <td>7.0000</td>\n",
              "      <td>NaN</td>\n",
              "      <td>S</td>\n",
              "    </tr>\n",
              "    <tr>\n",
              "      <th>2</th>\n",
              "      <td>894</td>\n",
              "      <td>2</td>\n",
              "      <td>Myles, Mr. Thomas Francis</td>\n",
              "      <td>male</td>\n",
              "      <td>62.0</td>\n",
              "      <td>0</td>\n",
              "      <td>0</td>\n",
              "      <td>240276</td>\n",
              "      <td>9.6875</td>\n",
              "      <td>NaN</td>\n",
              "      <td>Q</td>\n",
              "    </tr>\n",
              "    <tr>\n",
              "      <th>3</th>\n",
              "      <td>895</td>\n",
              "      <td>3</td>\n",
              "      <td>Wirz, Mr. Albert</td>\n",
              "      <td>male</td>\n",
              "      <td>27.0</td>\n",
              "      <td>0</td>\n",
              "      <td>0</td>\n",
              "      <td>315154</td>\n",
              "      <td>8.6625</td>\n",
              "      <td>NaN</td>\n",
              "      <td>S</td>\n",
              "    </tr>\n",
              "    <tr>\n",
              "      <th>4</th>\n",
              "      <td>896</td>\n",
              "      <td>3</td>\n",
              "      <td>Hirvonen, Mrs. Alexander (Helga E Lindqvist)</td>\n",
              "      <td>female</td>\n",
              "      <td>22.0</td>\n",
              "      <td>1</td>\n",
              "      <td>1</td>\n",
              "      <td>3101298</td>\n",
              "      <td>12.2875</td>\n",
              "      <td>NaN</td>\n",
              "      <td>S</td>\n",
              "    </tr>\n",
              "  </tbody>\n",
              "</table>\n",
              "</div>"
            ],
            "text/plain": [
              "   PassengerId  Pclass  ... Cabin Embarked\n",
              "0          892       3  ...   NaN        Q\n",
              "1          893       3  ...   NaN        S\n",
              "2          894       2  ...   NaN        Q\n",
              "3          895       3  ...   NaN        S\n",
              "4          896       3  ...   NaN        S\n",
              "\n",
              "[5 rows x 11 columns]"
            ]
          },
          "metadata": {
            "tags": []
          },
          "execution_count": 147
        }
      ]
    },
    {
      "cell_type": "markdown",
      "metadata": {
        "id": "zSaFhz6IBYRJ",
        "colab_type": "text"
      },
      "source": [
        "## Exploração dos Dados\n",
        "\n",
        "Nessa etapa iremos explorar alguns aspectos dos dados fornecidos, como aspectos estatisticos, outliers, valores nulos e outros."
      ]
    },
    {
      "cell_type": "code",
      "metadata": {
        "id": "TNLi2WLBRPcZ",
        "colab_type": "code",
        "colab": {
          "base_uri": "https://localhost:8080/",
          "height": 195
        },
        "outputId": "01c82e39-b49f-4c41-ed8a-cd8a6c3022b1"
      },
      "source": [
        "df_train.head()"
      ],
      "execution_count": 148,
      "outputs": [
        {
          "output_type": "execute_result",
          "data": {
            "text/html": [
              "<div>\n",
              "<style scoped>\n",
              "    .dataframe tbody tr th:only-of-type {\n",
              "        vertical-align: middle;\n",
              "    }\n",
              "\n",
              "    .dataframe tbody tr th {\n",
              "        vertical-align: top;\n",
              "    }\n",
              "\n",
              "    .dataframe thead th {\n",
              "        text-align: right;\n",
              "    }\n",
              "</style>\n",
              "<table border=\"1\" class=\"dataframe\">\n",
              "  <thead>\n",
              "    <tr style=\"text-align: right;\">\n",
              "      <th></th>\n",
              "      <th>PassengerId</th>\n",
              "      <th>Survived</th>\n",
              "      <th>Pclass</th>\n",
              "      <th>Name</th>\n",
              "      <th>Sex</th>\n",
              "      <th>Age</th>\n",
              "      <th>SibSp</th>\n",
              "      <th>Parch</th>\n",
              "      <th>Ticket</th>\n",
              "      <th>Fare</th>\n",
              "      <th>Cabin</th>\n",
              "      <th>Embarked</th>\n",
              "    </tr>\n",
              "  </thead>\n",
              "  <tbody>\n",
              "    <tr>\n",
              "      <th>0</th>\n",
              "      <td>1</td>\n",
              "      <td>0</td>\n",
              "      <td>3</td>\n",
              "      <td>Braund, Mr. Owen Harris</td>\n",
              "      <td>male</td>\n",
              "      <td>22.0</td>\n",
              "      <td>1</td>\n",
              "      <td>0</td>\n",
              "      <td>A/5 21171</td>\n",
              "      <td>7.2500</td>\n",
              "      <td>NaN</td>\n",
              "      <td>S</td>\n",
              "    </tr>\n",
              "    <tr>\n",
              "      <th>1</th>\n",
              "      <td>2</td>\n",
              "      <td>1</td>\n",
              "      <td>1</td>\n",
              "      <td>Cumings, Mrs. John Bradley (Florence Briggs Th...</td>\n",
              "      <td>female</td>\n",
              "      <td>38.0</td>\n",
              "      <td>1</td>\n",
              "      <td>0</td>\n",
              "      <td>PC 17599</td>\n",
              "      <td>71.2833</td>\n",
              "      <td>C85</td>\n",
              "      <td>C</td>\n",
              "    </tr>\n",
              "    <tr>\n",
              "      <th>2</th>\n",
              "      <td>3</td>\n",
              "      <td>1</td>\n",
              "      <td>3</td>\n",
              "      <td>Heikkinen, Miss. Laina</td>\n",
              "      <td>female</td>\n",
              "      <td>26.0</td>\n",
              "      <td>0</td>\n",
              "      <td>0</td>\n",
              "      <td>STON/O2. 3101282</td>\n",
              "      <td>7.9250</td>\n",
              "      <td>NaN</td>\n",
              "      <td>S</td>\n",
              "    </tr>\n",
              "    <tr>\n",
              "      <th>3</th>\n",
              "      <td>4</td>\n",
              "      <td>1</td>\n",
              "      <td>1</td>\n",
              "      <td>Futrelle, Mrs. Jacques Heath (Lily May Peel)</td>\n",
              "      <td>female</td>\n",
              "      <td>35.0</td>\n",
              "      <td>1</td>\n",
              "      <td>0</td>\n",
              "      <td>113803</td>\n",
              "      <td>53.1000</td>\n",
              "      <td>C123</td>\n",
              "      <td>S</td>\n",
              "    </tr>\n",
              "    <tr>\n",
              "      <th>4</th>\n",
              "      <td>5</td>\n",
              "      <td>0</td>\n",
              "      <td>3</td>\n",
              "      <td>Allen, Mr. William Henry</td>\n",
              "      <td>male</td>\n",
              "      <td>35.0</td>\n",
              "      <td>0</td>\n",
              "      <td>0</td>\n",
              "      <td>373450</td>\n",
              "      <td>8.0500</td>\n",
              "      <td>NaN</td>\n",
              "      <td>S</td>\n",
              "    </tr>\n",
              "  </tbody>\n",
              "</table>\n",
              "</div>"
            ],
            "text/plain": [
              "   PassengerId  Survived  Pclass  ...     Fare Cabin  Embarked\n",
              "0            1         0       3  ...   7.2500   NaN         S\n",
              "1            2         1       1  ...  71.2833   C85         C\n",
              "2            3         1       3  ...   7.9250   NaN         S\n",
              "3            4         1       1  ...  53.1000  C123         S\n",
              "4            5         0       3  ...   8.0500   NaN         S\n",
              "\n",
              "[5 rows x 12 columns]"
            ]
          },
          "metadata": {
            "tags": []
          },
          "execution_count": 148
        }
      ]
    },
    {
      "cell_type": "markdown",
      "metadata": {
        "id": "l5_vIhqHRcO2",
        "colab_type": "text"
      },
      "source": [
        "Podemos observar de imediato alguns aspectos como:\n",
        "* A nossa variável alvo é a colunas `Survived`\n",
        "* `PassagerId` é o id do passageiro\n",
        "* A coluna `Pclass` referencia qual a classe do passageiro\n",
        "    * 1 = 1ª Classe\n",
        "    * 2 = 2ª Classe\n",
        "    * 3 = 3ª Classe\n",
        "* `SibSp`: Quantidade de cônjuges e irmãos a bordo\n",
        "* `Parch`: Quantidade de pais e filhos a bordo \n",
        "* `Fare`: Quanto foi pago pela passagem\n",
        "*`Embarked`: Porto no qual o passageiro embarcou\n",
        "    * C = Cherbourg\n",
        "    * Q = Queenstown\n",
        "    * S = Southampton"
      ]
    },
    {
      "cell_type": "code",
      "metadata": {
        "id": "TjXZA7Y5RT5b",
        "colab_type": "code",
        "colab": {
          "base_uri": "https://localhost:8080/",
          "height": 235
        },
        "outputId": "6c7b9b3d-8197-40ed-9c97-ef7e8e001ae6"
      },
      "source": [
        "display((df_train.isnull().sum() / df_train.shape[0]) * 100)"
      ],
      "execution_count": 149,
      "outputs": [
        {
          "output_type": "display_data",
          "data": {
            "text/plain": [
              "PassengerId     0.000000\n",
              "Survived        0.000000\n",
              "Pclass          0.000000\n",
              "Name            0.000000\n",
              "Sex             0.000000\n",
              "Age            19.865320\n",
              "SibSp           0.000000\n",
              "Parch           0.000000\n",
              "Ticket          0.000000\n",
              "Fare            0.000000\n",
              "Cabin          77.104377\n",
              "Embarked        0.224467\n",
              "dtype: float64"
            ]
          },
          "metadata": {
            "tags": []
          }
        }
      ]
    },
    {
      "cell_type": "markdown",
      "metadata": {
        "id": "DhYy-zKjTidt",
        "colab_type": "text"
      },
      "source": [
        "Duas variáveis tem uma quantidade significante de valores faltantes, são elas a variável `Age` com 19.8% e `Cabin` com 77.1%, já a coluna Embarked tem apenas 0.22% de valores faltantes."
      ]
    },
    {
      "cell_type": "code",
      "metadata": {
        "id": "E0tAT_FHUCmx",
        "colab_type": "code",
        "colab": {
          "base_uri": "https://localhost:8080/",
          "height": 284
        },
        "outputId": "eca703ea-8fd5-4250-feed-f17c6fd3c9e6"
      },
      "source": [
        "df_train.describe()"
      ],
      "execution_count": 150,
      "outputs": [
        {
          "output_type": "execute_result",
          "data": {
            "text/html": [
              "<div>\n",
              "<style scoped>\n",
              "    .dataframe tbody tr th:only-of-type {\n",
              "        vertical-align: middle;\n",
              "    }\n",
              "\n",
              "    .dataframe tbody tr th {\n",
              "        vertical-align: top;\n",
              "    }\n",
              "\n",
              "    .dataframe thead th {\n",
              "        text-align: right;\n",
              "    }\n",
              "</style>\n",
              "<table border=\"1\" class=\"dataframe\">\n",
              "  <thead>\n",
              "    <tr style=\"text-align: right;\">\n",
              "      <th></th>\n",
              "      <th>PassengerId</th>\n",
              "      <th>Survived</th>\n",
              "      <th>Pclass</th>\n",
              "      <th>Age</th>\n",
              "      <th>SibSp</th>\n",
              "      <th>Parch</th>\n",
              "      <th>Fare</th>\n",
              "    </tr>\n",
              "  </thead>\n",
              "  <tbody>\n",
              "    <tr>\n",
              "      <th>count</th>\n",
              "      <td>891.000000</td>\n",
              "      <td>891.000000</td>\n",
              "      <td>891.000000</td>\n",
              "      <td>714.000000</td>\n",
              "      <td>891.000000</td>\n",
              "      <td>891.000000</td>\n",
              "      <td>891.000000</td>\n",
              "    </tr>\n",
              "    <tr>\n",
              "      <th>mean</th>\n",
              "      <td>446.000000</td>\n",
              "      <td>0.383838</td>\n",
              "      <td>2.308642</td>\n",
              "      <td>29.699118</td>\n",
              "      <td>0.523008</td>\n",
              "      <td>0.381594</td>\n",
              "      <td>32.204208</td>\n",
              "    </tr>\n",
              "    <tr>\n",
              "      <th>std</th>\n",
              "      <td>257.353842</td>\n",
              "      <td>0.486592</td>\n",
              "      <td>0.836071</td>\n",
              "      <td>14.526497</td>\n",
              "      <td>1.102743</td>\n",
              "      <td>0.806057</td>\n",
              "      <td>49.693429</td>\n",
              "    </tr>\n",
              "    <tr>\n",
              "      <th>min</th>\n",
              "      <td>1.000000</td>\n",
              "      <td>0.000000</td>\n",
              "      <td>1.000000</td>\n",
              "      <td>0.420000</td>\n",
              "      <td>0.000000</td>\n",
              "      <td>0.000000</td>\n",
              "      <td>0.000000</td>\n",
              "    </tr>\n",
              "    <tr>\n",
              "      <th>25%</th>\n",
              "      <td>223.500000</td>\n",
              "      <td>0.000000</td>\n",
              "      <td>2.000000</td>\n",
              "      <td>20.125000</td>\n",
              "      <td>0.000000</td>\n",
              "      <td>0.000000</td>\n",
              "      <td>7.910400</td>\n",
              "    </tr>\n",
              "    <tr>\n",
              "      <th>50%</th>\n",
              "      <td>446.000000</td>\n",
              "      <td>0.000000</td>\n",
              "      <td>3.000000</td>\n",
              "      <td>28.000000</td>\n",
              "      <td>0.000000</td>\n",
              "      <td>0.000000</td>\n",
              "      <td>14.454200</td>\n",
              "    </tr>\n",
              "    <tr>\n",
              "      <th>75%</th>\n",
              "      <td>668.500000</td>\n",
              "      <td>1.000000</td>\n",
              "      <td>3.000000</td>\n",
              "      <td>38.000000</td>\n",
              "      <td>1.000000</td>\n",
              "      <td>0.000000</td>\n",
              "      <td>31.000000</td>\n",
              "    </tr>\n",
              "    <tr>\n",
              "      <th>max</th>\n",
              "      <td>891.000000</td>\n",
              "      <td>1.000000</td>\n",
              "      <td>3.000000</td>\n",
              "      <td>80.000000</td>\n",
              "      <td>8.000000</td>\n",
              "      <td>6.000000</td>\n",
              "      <td>512.329200</td>\n",
              "    </tr>\n",
              "  </tbody>\n",
              "</table>\n",
              "</div>"
            ],
            "text/plain": [
              "       PassengerId    Survived      Pclass  ...       SibSp       Parch        Fare\n",
              "count   891.000000  891.000000  891.000000  ...  891.000000  891.000000  891.000000\n",
              "mean    446.000000    0.383838    2.308642  ...    0.523008    0.381594   32.204208\n",
              "std     257.353842    0.486592    0.836071  ...    1.102743    0.806057   49.693429\n",
              "min       1.000000    0.000000    1.000000  ...    0.000000    0.000000    0.000000\n",
              "25%     223.500000    0.000000    2.000000  ...    0.000000    0.000000    7.910400\n",
              "50%     446.000000    0.000000    3.000000  ...    0.000000    0.000000   14.454200\n",
              "75%     668.500000    1.000000    3.000000  ...    1.000000    0.000000   31.000000\n",
              "max     891.000000    1.000000    3.000000  ...    8.000000    6.000000  512.329200\n",
              "\n",
              "[8 rows x 7 columns]"
            ]
          },
          "metadata": {
            "tags": []
          },
          "execution_count": 150
        }
      ]
    },
    {
      "cell_type": "code",
      "metadata": {
        "id": "qU-V2tJbULvS",
        "colab_type": "code",
        "colab": {
          "base_uri": "https://localhost:8080/",
          "height": 607
        },
        "outputId": "df16f4b2-985e-4c5e-e9b3-2ab5a7e94840"
      },
      "source": [
        "df_train.hist(figsize=(12,10));"
      ],
      "execution_count": 151,
      "outputs": [
        {
          "output_type": "display_data",
          "data": {
            "image/png": "[encoded data removed]",
            "text/plain": [
              "<Figure size 864x720 with 9 Axes>"
            ]
          },
          "metadata": {
            "tags": [],
            "needs_background": "light"
          }
        }
      ]
    },
    {
      "cell_type": "code",
      "metadata": {
        "id": "Y6wAByn_UgUG",
        "colab_type": "code",
        "colab": {
          "base_uri": "https://localhost:8080/",
          "height": 50
        },
        "outputId": "a7f55b09-f489-403a-f018-48b6a782be12"
      },
      "source": [
        "print('Idade média dos passageiros: {:.0f}'.format(df_train.Age.mean()))\n",
        "print('Valor médio pago no ticket: {:.2f}'.format(df_train.Fare.mean()))"
      ],
      "execution_count": 152,
      "outputs": [
        {
          "output_type": "stream",
          "text": [
            "Idade média dos passageiros: 30\n",
            "Valor médio pago no ticket: 32.20\n"
          ],
          "name": "stdout"
        }
      ]
    },
    {
      "cell_type": "markdown",
      "metadata": {
        "id": "uXrH3rD0VUkp",
        "colab_type": "text"
      },
      "source": [
        "A idade média dos passageiros no Titanic era de 30 anos e o valor médio pago na passagem foi de 32.20 dólares."
      ]
    },
    {
      "cell_type": "markdown",
      "metadata": {
        "id": "94d14MyNVino",
        "colab_type": "text"
      },
      "source": [
        "### Quem tinha mais chances de sobreviver ao naufrágio?"
      ]
    },
    {
      "cell_type": "code",
      "metadata": {
        "id": "tpzOcJpOVx4q",
        "colab_type": "code",
        "colab": {
          "base_uri": "https://localhost:8080/",
          "height": 334
        },
        "outputId": "b630d933-a286-4c0c-d3af-38b178a7c075"
      },
      "source": [
        "fig, (ax1, ax2, ax3) = plt.subplots(1, 3, figsize=(12,5))\n",
        "\n",
        "sns.barplot(x='Sex', y='Survived', data=df_train, ax=ax1)\n",
        "sns.barplot(x='Pclass', y='Survived', data=df_train, ax=ax2)\n",
        "sns.barplot(x='Embarked', y='Survived', data=df_train, ax=ax3);"
      ],
      "execution_count": 153,
      "outputs": [
        {
          "output_type": "display_data",
          "data": {
            "image/png": "[encoded data removed]",
            "text/plain": [
              "<Figure size 864x360 with 3 Axes>"
            ]
          },
          "metadata": {
            "tags": [],
            "needs_background": "light"
          }
        }
      ]
    },
    {
      "cell_type": "code",
      "metadata": {
        "id": "dbw01hFVW33R",
        "colab_type": "code",
        "colab": {
          "base_uri": "https://localhost:8080/",
          "height": 225
        },
        "outputId": "269e92fe-aebd-46f3-e1b4-e44b78b70f6b"
      },
      "source": [
        "age_surv = sns.FacetGrid(df_train, col='Survived')\n",
        "age_surv.map(sns.distplot, 'Age');"
      ],
      "execution_count": 154,
      "outputs": [
        {
          "output_type": "display_data",
          "data": {
            "image/png": "[encoded data removed]",
            "text/plain": [
              "<Figure size 432x216 with 2 Axes>"
            ]
          },
          "metadata": {
            "tags": [],
            "needs_background": "light"
          }
        }
      ]
    },
    {
      "cell_type": "markdown",
      "metadata": {
        "id": "kY4SZ0DIWNcV",
        "colab_type": "text"
      },
      "source": [
        "Naquela época, tinha-se a ordem de salvar primeiro mulheres e crianças nos botes salva-vidas. Tendo como verdadeira essa premissa, podemos observar que isso realmente acontecia. Como podemos observar, um número muito superior de mulheres e crianças sobreviveram ao naufrágio em comparação ao de homens, assim como pessoas de primeira classe em comparação as demais. A maioria dos não sobreviventes tinham idade entre 20 e 30 anos."
      ]
    },
    {
      "cell_type": "code",
      "metadata": {
        "id": "-nUhVb0fuTxM",
        "colab_type": "code",
        "colab": {
          "base_uri": "https://localhost:8080/",
          "height": 609
        },
        "outputId": "1f6562c2-fb8f-43ca-a4cc-dbc2f170c9c8"
      },
      "source": [
        "columns = ['Parch', 'Age', 'Pclass', 'SibSp']\n",
        "pd.plotting.scatter_matrix(df_train[columns], figsize=(12,10));"
      ],
      "execution_count": 155,
      "outputs": [
        {
          "output_type": "display_data",
          "data": {
            "image/png": "[encoded data removed]",
            "text/plain": [
              "<Figure size 864x720 with 16 Axes>"
            ]
          },
          "metadata": {
            "tags": [],
            "needs_background": "light"
          }
        }
      ]
    },
    {
      "cell_type": "markdown",
      "metadata": {
        "id": "MSAA1pi_v9QN",
        "colab_type": "text"
      },
      "source": [
        "Rapidamente a gente consegue ver coisas como, o fato de que pessoas mais velhas estão mais concentradas na 1ª Classe e pessoas mais jovens na 3ª classe."
      ]
    },
    {
      "cell_type": "code",
      "metadata": {
        "id": "o69gEerwvKUG",
        "colab_type": "code",
        "colab": {
          "base_uri": "https://localhost:8080/",
          "height": 282
        },
        "outputId": "34195a30-2cfa-473d-f2d1-ac9797b43ec4"
      },
      "source": [
        "df_train.boxplot()"
      ],
      "execution_count": 156,
      "outputs": [
        {
          "output_type": "execute_result",
          "data": {
            "text/plain": [
              "<matplotlib.axes._subplots.AxesSubplot at 0x7fbd3a746668>"
            ]
          },
          "metadata": {
            "tags": []
          },
          "execution_count": 156
        },
        {
          "output_type": "display_data",
          "data": {
            "image/png": "[encoded data removed]",
            "text/plain": [
              "<Figure size 432x288 with 1 Axes>"
            ]
          },
          "metadata": {
            "tags": [],
            "needs_background": "light"
          }
        }
      ]
    },
    {
      "cell_type": "code",
      "metadata": {
        "id": "Km5AcL2koQSc",
        "colab_type": "code",
        "colab": {
          "base_uri": "https://localhost:8080/",
          "height": 336
        },
        "outputId": "2f7dcf25-e4f8-4c10-c58c-ac799174e1cd"
      },
      "source": [
        "fig1, ax1 = plt.subplots(figsize=(4,5))\n",
        "ax1.set_title('Basic Plot')\n",
        "ax1.boxplot(df_train.Fare);"
      ],
      "execution_count": 157,
      "outputs": [
        {
          "output_type": "display_data",
          "data": {
            "image/png": "[encoded data removed]",
            "text/plain": [
              "<Figure size 288x360 with 1 Axes>"
            ]
          },
          "metadata": {
            "tags": [],
            "needs_background": "light"
          }
        }
      ]
    },
    {
      "cell_type": "code",
      "metadata": {
        "id": "FB_YgV7dsXHZ",
        "colab_type": "code",
        "colab": {
          "base_uri": "https://localhost:8080/",
          "height": 50
        },
        "outputId": "4ddf8b0e-dd79-4cd1-f642-b8444d4615a3"
      },
      "source": [
        "qtd = df_train.Fare.loc[df_train.Fare > 70].value_counts().sum()\n",
        "print(qtd)\n",
        "print(\"qtd: {:.2f}%\".format((qtd / df_train.shape[0])))"
      ],
      "execution_count": 158,
      "outputs": [
        {
          "output_type": "stream",
          "text": [
            "105\n",
            "qtd: 0.12%\n"
          ],
          "name": "stdout"
        }
      ]
    },
    {
      "cell_type": "markdown",
      "metadata": {
        "id": "D0sYz64ksVza",
        "colab_type": "text"
      },
      "source": [
        "A coluna `Fare` é referente ao quanto a pessoa pagou pela passagem, e como podemos observar temos alguns outliers. Levando em consideração o valor máximo dentro do gráfico *boxplot*, temos quase apenas 0.12% dos valores acima do máximo, que consideramos `outliers`, um número bastante baixo que podemos desconsiderar a remoção deles do dataframe.\n",
        "\n",
        "Outros valores como `SibSp` e `Parch`, não apresentam valores discrepantes que sejam considerados outliers."
      ]
    },
    {
      "cell_type": "markdown",
      "metadata": {
        "id": "0eV2NVqQx6rN",
        "colab_type": "text"
      },
      "source": [
        "## Preparando os dados\n",
        "\n",
        "Iremos iniciar a preparação dos dados para a criação do modelo de machine learning. Nessa etapa iremos fazer o pré processamento das variáveis e fazer a estruturação do dataframe para que possamos obter o melhor modelo.\n",
        "\n",
        "Iremos unir os dataframes de treino e teste para estrutura-los e depois separamos de volta. Desta forma economizamos tempo e trabalho pois, se formos fazer separados, além de levar mais tempo e fazer trabalho dobrado, poderiamos esquecer de algum detalhe de um para o outro."
      ]
    },
    {
      "cell_type": "code",
      "metadata": {
        "id": "xF23OXeZyABm",
        "colab_type": "code",
        "colab": {
          "base_uri": "https://localhost:8080/",
          "height": 34
        },
        "outputId": "82a9ea4d-5763-4a70-83ca-8d9bfb53783b"
      },
      "source": [
        "train_idx = df_train.shape[0]\n",
        "test_idx = df_test.shape[0]\n",
        "\n",
        "PassagerId = df_test.PassengerId\n",
        "\n",
        "target = df_train.Survived.copy()\n",
        "df_train.drop(['Survived'], axis=1, inplace=True)\n",
        "\n",
        "df = pd.concat(objs=[df_train, df_test], axis=0).reset_index(drop=True)\n",
        "\n",
        "print(\"dimonssões do dataframe unido: ({} x {})\".format(df.shape[0], df.shape[1]))"
      ],
      "execution_count": 159,
      "outputs": [
        {
          "output_type": "stream",
          "text": [
            "dimonssões do dataframe unido: (1309 x 11)\n"
          ],
          "name": "stdout"
        }
      ]
    },
    {
      "cell_type": "code",
      "metadata": {
        "id": "3dap91899kHX",
        "colab_type": "code",
        "colab": {}
      },
      "source": [
        "df.drop(['PassengerId', 'Name', 'Ticket', 'Cabin'], axis=1, inplace=True)"
      ],
      "execution_count": 160,
      "outputs": []
    },
    {
      "cell_type": "markdown",
      "metadata": {
        "id": "DHs6aYo89jRU",
        "colab_type": "text"
      },
      "source": [
        "Algumas variáveis do dataset não são úteis para nosso modelo, como por exemplo, `PassengerId`, `Name`, `Ticket`, `Cabin`. São variáveis que representam dados como nome, número da passagem, número da cabine, que são irrelevantes para treinar o modelo de machine learning."
      ]
    },
    {
      "cell_type": "markdown",
      "metadata": {
        "id": "uKoAJLVR-XRO",
        "colab_type": "text"
      },
      "source": [
        "### Valores faltantes\n",
        "\n",
        "Nem sempre é correto deletar informações de uma linha inteira só porque tem um dado faltante. O mais correto, dependendo do caso, é preencher esse dado faltante com a média ou a mediana dos dados presentes."
      ]
    },
    {
      "cell_type": "code",
      "metadata": {
        "id": "3gWSDBq_Dyqi",
        "colab_type": "code",
        "colab": {
          "base_uri": "https://localhost:8080/",
          "height": 151
        },
        "outputId": "e46559e5-3dc2-402a-fc9f-5317ac19b753"
      },
      "source": [
        "df.isnull().sum()"
      ],
      "execution_count": 161,
      "outputs": [
        {
          "output_type": "execute_result",
          "data": {
            "text/plain": [
              "Pclass        0\n",
              "Sex           0\n",
              "Age         263\n",
              "SibSp         0\n",
              "Parch         0\n",
              "Fare          1\n",
              "Embarked      2\n",
              "dtype: int64"
            ]
          },
          "metadata": {
            "tags": []
          },
          "execution_count": 161
        }
      ]
    },
    {
      "cell_type": "markdown",
      "metadata": {
        "id": "uc7vgXk_D86j",
        "colab_type": "text"
      },
      "source": [
        "Para as variáveis idade e tarifa, vou colocar o valor da mediana; e para a variável do porto de embarque, vou colocar o valor com maior frequência."
      ]
    },
    {
      "cell_type": "code",
      "metadata": {
        "id": "XgAH0r_9D_IU",
        "colab_type": "code",
        "colab": {}
      },
      "source": [
        "age_med = df.Age.median()\n",
        "df.Age.fillna(age_med, inplace=True)\n",
        "\n",
        "fare_med = df.Fare.median()\n",
        "df.Fare.fillna(fare_med, inplace=True)\n",
        "\n",
        "embarked_frq = df.Embarked.value_counts()[0]\n",
        "df.Embarked.fillna(embarked_frq, inplace=True)"
      ],
      "execution_count": 162,
      "outputs": []
    },
    {
      "cell_type": "markdown",
      "metadata": {
        "id": "pcyckXrDIBOt",
        "colab_type": "text"
      },
      "source": [
        "O modelo matemático exige que trabalhemos com variáveis numéricas, ou seja, temos transformar os dados de entrada que estão em formato categoria para números. Irei converter os valores da variável `sex` em um binário, atribuindo 0 para *male* e 1 para *female*. Já a variável Embarked, apliquei o conceito de variáveis dummies. As variáveis dummies assumem apenas valores 0 e 1, criando uma nova coluna para cada valor possível da variável. "
      ]
    },
    {
      "cell_type": "code",
      "metadata": {
        "id": "VOjHChqLH54a",
        "colab_type": "code",
        "colab": {}
      },
      "source": [
        "df.Sex = df.Sex.map({'male': 0, 'female':1})\n",
        "\n",
        "embarked_dum = pd.get_dummies(df.Embarked, prefix='Embarked')\n",
        "df = pd.concat([df, embarked_dum], axis=1)\n",
        "df.drop('Embarked', axis=1, inplace=True)"
      ],
      "execution_count": 163,
      "outputs": []
    },
    {
      "cell_type": "code",
      "metadata": {
        "id": "MyjwoPZjJGVC",
        "colab_type": "code",
        "colab": {
          "base_uri": "https://localhost:8080/",
          "height": 195
        },
        "outputId": "abd21796-d7f0-4399-a530-6a7e8184118a"
      },
      "source": [
        "df.head()"
      ],
      "execution_count": 164,
      "outputs": [
        {
          "output_type": "execute_result",
          "data": {
            "text/html": [
              "<div>\n",
              "<style scoped>\n",
              "    .dataframe tbody tr th:only-of-type {\n",
              "        vertical-align: middle;\n",
              "    }\n",
              "\n",
              "    .dataframe tbody tr th {\n",
              "        vertical-align: top;\n",
              "    }\n",
              "\n",
              "    .dataframe thead th {\n",
              "        text-align: right;\n",
              "    }\n",
              "</style>\n",
              "<table border=\"1\" class=\"dataframe\">\n",
              "  <thead>\n",
              "    <tr style=\"text-align: right;\">\n",
              "      <th></th>\n",
              "      <th>Pclass</th>\n",
              "      <th>Sex</th>\n",
              "      <th>Age</th>\n",
              "      <th>SibSp</th>\n",
              "      <th>Parch</th>\n",
              "      <th>Fare</th>\n",
              "      <th>Embarked_914</th>\n",
              "      <th>Embarked_C</th>\n",
              "      <th>Embarked_Q</th>\n",
              "      <th>Embarked_S</th>\n",
              "    </tr>\n",
              "  </thead>\n",
              "  <tbody>\n",
              "    <tr>\n",
              "      <th>0</th>\n",
              "      <td>3</td>\n",
              "      <td>0</td>\n",
              "      <td>22.0</td>\n",
              "      <td>1</td>\n",
              "      <td>0</td>\n",
              "      <td>7.2500</td>\n",
              "      <td>0</td>\n",
              "      <td>0</td>\n",
              "      <td>0</td>\n",
              "      <td>1</td>\n",
              "    </tr>\n",
              "    <tr>\n",
              "      <th>1</th>\n",
              "      <td>1</td>\n",
              "      <td>1</td>\n",
              "      <td>38.0</td>\n",
              "      <td>1</td>\n",
              "      <td>0</td>\n",
              "      <td>71.2833</td>\n",
              "      <td>0</td>\n",
              "      <td>1</td>\n",
              "      <td>0</td>\n",
              "      <td>0</td>\n",
              "    </tr>\n",
              "    <tr>\n",
              "      <th>2</th>\n",
              "      <td>3</td>\n",
              "      <td>1</td>\n",
              "      <td>26.0</td>\n",
              "      <td>0</td>\n",
              "      <td>0</td>\n",
              "      <td>7.9250</td>\n",
              "      <td>0</td>\n",
              "      <td>0</td>\n",
              "      <td>0</td>\n",
              "      <td>1</td>\n",
              "    </tr>\n",
              "    <tr>\n",
              "      <th>3</th>\n",
              "      <td>1</td>\n",
              "      <td>1</td>\n",
              "      <td>35.0</td>\n",
              "      <td>1</td>\n",
              "      <td>0</td>\n",
              "      <td>53.1000</td>\n",
              "      <td>0</td>\n",
              "      <td>0</td>\n",
              "      <td>0</td>\n",
              "      <td>1</td>\n",
              "    </tr>\n",
              "    <tr>\n",
              "      <th>4</th>\n",
              "      <td>3</td>\n",
              "      <td>0</td>\n",
              "      <td>35.0</td>\n",
              "      <td>0</td>\n",
              "      <td>0</td>\n",
              "      <td>8.0500</td>\n",
              "      <td>0</td>\n",
              "      <td>0</td>\n",
              "      <td>0</td>\n",
              "      <td>1</td>\n",
              "    </tr>\n",
              "  </tbody>\n",
              "</table>\n",
              "</div>"
            ],
            "text/plain": [
              "   Pclass  Sex   Age  SibSp  ...  Embarked_914  Embarked_C  Embarked_Q  Embarked_S\n",
              "0       3    0  22.0      1  ...             0           0           0           1\n",
              "1       1    1  38.0      1  ...             0           1           0           0\n",
              "2       3    1  26.0      0  ...             0           0           0           1\n",
              "3       1    1  35.0      1  ...             0           0           0           1\n",
              "4       3    0  35.0      0  ...             0           0           0           1\n",
              "\n",
              "[5 rows x 10 columns]"
            ]
          },
          "metadata": {
            "tags": []
          },
          "execution_count": 164
        }
      ]
    },
    {
      "cell_type": "markdown",
      "metadata": {
        "id": "JHYNelcDJMgM",
        "colab_type": "text"
      },
      "source": [
        "### Preparando os datasets de treino e test\n",
        "\n",
        "Agora que preparamos o dataset com todos os dados, iremos separar novamente os dados para treino e para testes. "
      ]
    },
    {
      "cell_type": "code",
      "metadata": {
        "id": "xdgRO4RQJoFi",
        "colab_type": "code",
        "colab": {}
      },
      "source": [
        "df_train = df.iloc[:train_idx]\n",
        "df_test = df.iloc[:test_idx]"
      ],
      "execution_count": 165,
      "outputs": []
    },
    {
      "cell_type": "markdown",
      "metadata": {
        "id": "FJ0Jkxh6J1wg",
        "colab_type": "text"
      },
      "source": [
        "## Construindo o modelo\n",
        "\n",
        "Iremos iniciar nossa construção do modelo de machine learning. Iremos testar algumas abordagens como regressão logística, arvore de decisão, XGBoost e votting classifier. Dessa forma, podemos ver qual modelo tem a melhor acurácia e daremos prosseguimento a criação do modelo."
      ]
    },
    {
      "cell_type": "code",
      "metadata": {
        "id": "HzeF0J45Km5Q",
        "colab_type": "code",
        "colab": {}
      },
      "source": [
        "from sklearn.linear_model import LogisticRegression\n",
        "from sklearn.tree import DecisionTreeClassifier\n",
        "from sklearn.ensemble import VotingClassifier\n",
        "from xgboost import XGBClassifier\n",
        "\n",
        "from sklearn.model_selection import train_test_split\n",
        "from sklearn.model_selection import cross_val_score\n",
        "!pip install scikit-plot -q\n",
        "from sklearn.metrics import roc_auc_score, accuracy_score, f1_score, confusion_matrix, classification_report\n",
        "from scikitplot.metrics import plot_confusion_matrix, plot_roc"
      ],
      "execution_count": 166,
      "outputs": []
    },
    {
      "cell_type": "code",
      "metadata": {
        "id": "fZkzZ-xALIAV",
        "colab_type": "code",
        "colab": {
          "base_uri": "https://localhost:8080/",
          "height": 569
        },
        "outputId": "a5df77a7-7472-484f-f553-c3bb8bdcb475"
      },
      "source": [
        "model_lr = LogisticRegression()\n",
        "model_dt = DecisionTreeClassifier()\n",
        "model_xgb = XGBClassifier()\n",
        "voting = VotingClassifier(estimators=[('lr', model_lr), ('dt', model_dt), ('xgb', model_xgb)])\n",
        "\n",
        "# 3. Separar os dados entre feature matrix e target vector \n",
        "X = df_train\n",
        "y = target\n",
        "\n",
        "# 3.1 Dividir o dataset entre treino e teste\n",
        "X_train, X_test, y_train, y_test = train_test_split(X, y)\n",
        "\n",
        "# 4. Fit do modelo (treinar)\n",
        "for model in (model_lr, model_xgb, model_dt, voting):\n",
        "    model.fit(X_train, y_train)\n",
        "\n",
        "# 5. Fazer previsões em cima de novos dados\n",
        "model = []\n",
        "accuracy = []\n",
        "for clf in (model_lr, model_xgb, model_dt, voting):\n",
        "    y_pred = clf.predict(X_test)\n",
        "    model.append(clf.__class__.__name__)\n",
        "    accuracy.append(accuracy_score(y_test,y_pred))\n",
        "    print(\"AUC: {:.4f}\\n\".format(roc_auc_score(y_test, y_pred)))\n",
        "\n",
        "# Verificar a acurácia\n",
        "col = ['Acurácia']\n",
        "ac = pd.DataFrame(data=accuracy, index = model,columns=col)\n",
        "ac"
      ],
      "execution_count": 167,
      "outputs": [
        {
          "output_type": "stream",
          "text": [
            "AUC: 0.8121\n",
            "\n",
            "AUC: 0.7936\n",
            "\n",
            "AUC: 0.7356\n",
            "\n",
            "AUC: 0.8086\n",
            "\n"
          ],
          "name": "stdout"
        },
        {
          "output_type": "stream",
          "text": [
            "/usr/local/lib/python3.6/dist-packages/sklearn/linear_model/_logistic.py:940: ConvergenceWarning: lbfgs failed to converge (status=1):\n",
            "STOP: TOTAL NO. of ITERATIONS REACHED LIMIT.\n",
            "\n",
            "Increase the number of iterations (max_iter) or scale the data as shown in:\n",
            "    https://scikit-learn.org/stable/modules/preprocessing.html\n",
            "Please also refer to the documentation for alternative solver options:\n",
            "    https://scikit-learn.org/stable/modules/linear_model.html#logistic-regression\n",
            "  extra_warning_msg=_LOGISTIC_SOLVER_CONVERGENCE_MSG)\n",
            "/usr/local/lib/python3.6/dist-packages/sklearn/linear_model/_logistic.py:940: ConvergenceWarning: lbfgs failed to converge (status=1):\n",
            "STOP: TOTAL NO. of ITERATIONS REACHED LIMIT.\n",
            "\n",
            "Increase the number of iterations (max_iter) or scale the data as shown in:\n",
            "    https://scikit-learn.org/stable/modules/preprocessing.html\n",
            "Please also refer to the documentation for alternative solver options:\n",
            "    https://scikit-learn.org/stable/modules/linear_model.html#logistic-regression\n",
            "  extra_warning_msg=_LOGISTIC_SOLVER_CONVERGENCE_MSG)\n"
          ],
          "name": "stderr"
        },
        {
          "output_type": "execute_result",
          "data": {
            "text/html": [
              "<div>\n",
              "<style scoped>\n",
              "    .dataframe tbody tr th:only-of-type {\n",
              "        vertical-align: middle;\n",
              "    }\n",
              "\n",
              "    .dataframe tbody tr th {\n",
              "        vertical-align: top;\n",
              "    }\n",
              "\n",
              "    .dataframe thead th {\n",
              "        text-align: right;\n",
              "    }\n",
              "</style>\n",
              "<table border=\"1\" class=\"dataframe\">\n",
              "  <thead>\n",
              "    <tr style=\"text-align: right;\">\n",
              "      <th></th>\n",
              "      <th>Acurácia</th>\n",
              "    </tr>\n",
              "  </thead>\n",
              "  <tbody>\n",
              "    <tr>\n",
              "      <th>LogisticRegression</th>\n",
              "      <td>0.825112</td>\n",
              "    </tr>\n",
              "    <tr>\n",
              "      <th>XGBClassifier</th>\n",
              "      <td>0.811659</td>\n",
              "    </tr>\n",
              "    <tr>\n",
              "      <th>DecisionTreeClassifier</th>\n",
              "      <td>0.748879</td>\n",
              "    </tr>\n",
              "    <tr>\n",
              "      <th>VotingClassifier</th>\n",
              "      <td>0.829596</td>\n",
              "    </tr>\n",
              "  </tbody>\n",
              "</table>\n",
              "</div>"
            ],
            "text/plain": [
              "                        Acurácia\n",
              "LogisticRegression      0.825112\n",
              "XGBClassifier           0.811659\n",
              "DecisionTreeClassifier  0.748879\n",
              "VotingClassifier        0.829596"
            ]
          },
          "metadata": {
            "tags": []
          },
          "execution_count": 167
        }
      ]
    },
    {
      "cell_type": "code",
      "metadata": {
        "id": "jVVl8mrEOU65",
        "colab_type": "code",
        "colab": {
          "base_uri": "https://localhost:8080/",
          "height": 665
        },
        "outputId": "05f292a5-ae14-48c1-afd2-228593505979"
      },
      "source": [
        "import scikitplot as skplt\n",
        "\n",
        "model = VotingClassifier(estimators=[('lr', model_lr), ('dt', model_dt), ('xgb', model_xgb)])\n",
        "model.fit(X_train, y_train)\n",
        "\n",
        "# fazer as previsões em cima dos dados de teste\n",
        "y_pred_res = model.predict(X_test)\n",
        "# y_proba_res = model.predict_proba(X_test)\n",
        "\n",
        "# plotar a matrix de confusão\n",
        "skplt.metrics.plot_confusion_matrix(y_test, y_pred_res, normalize=True)\n",
        "\n",
        "# imprimir relatório de classificação\n",
        "print(\"Relatório de Classificação:\\n\", classification_report(y_test, y_pred_res, digits=4))\n",
        "\n",
        "# imprimir a acurácia do modelo\n",
        "print(\"Acurácia: {:.4f}\\n\".format(accuracy_score(y_test, y_pred_res)))\n",
        "print(\"AUC: {:.4f}\\n\".format(roc_auc_score(y_test, y_pred)))"
      ],
      "execution_count": 168,
      "outputs": [
        {
          "output_type": "stream",
          "text": [
            "Relatório de Classificação:\n",
            "               precision    recall  f1-score   support\n",
            "\n",
            "           0     0.8188    0.9173    0.8652       133\n",
            "           1     0.8514    0.7000    0.7683        90\n",
            "\n",
            "    accuracy                         0.8296       223\n",
            "   macro avg     0.8351    0.8086    0.8168       223\n",
            "weighted avg     0.8319    0.8296    0.8261       223\n",
            "\n",
            "Acurácia: 0.8296\n",
            "\n",
            "AUC: 0.8086\n",
            "\n"
          ],
          "name": "stdout"
        },
        {
          "output_type": "stream",
          "text": [
            "/usr/local/lib/python3.6/dist-packages/sklearn/linear_model/_logistic.py:940: ConvergenceWarning: lbfgs failed to converge (status=1):\n",
            "STOP: TOTAL NO. of ITERATIONS REACHED LIMIT.\n",
            "\n",
            "Increase the number of iterations (max_iter) or scale the data as shown in:\n",
            "    https://scikit-learn.org/stable/modules/preprocessing.html\n",
            "Please also refer to the documentation for alternative solver options:\n",
            "    https://scikit-learn.org/stable/modules/linear_model.html#logistic-regression\n",
            "  extra_warning_msg=_LOGISTIC_SOLVER_CONVERGENCE_MSG)\n"
          ],
          "name": "stderr"
        },
        {
          "output_type": "display_data",
          "data": {
            "image/png": "[encoded data removed]",
            "text/plain": [
              "<Figure size 432x288 with 2 Axes>"
            ]
          },
          "metadata": {
            "tags": [],
            "needs_background": "light"
          }
        }
      ]
    },
    {
      "cell_type": "markdown",
      "metadata": {
        "id": "sSi-miceOFpi",
        "colab_type": "text"
      },
      "source": [
        "Como podemos observar, o modelo VotingClassifier teve a melhor acurácia(82%)  e o melhor valor AUC(80%). Iremos agora submeter o modelo para a avaliação na competição."
      ]
    },
    {
      "cell_type": "code",
      "metadata": {
        "id": "0SzK6hpPjMC0",
        "colab_type": "code",
        "colab": {}
      },
      "source": [
        "\n",
        "y_pred_xgb = model.predict(df_test)\n",
        "\n",
        "submission = pd.DataFrame({\"PassengerId\": PassagerId,\n",
        "                           \"Survived\": y_pred_xgb\n",
        "})\n",
        "\n",
        "submission.to_csv('./submission.csv', index=False)"
      ],
      "execution_count": 169,
      "outputs": []
    },
    {
      "cell_type": "markdown",
      "metadata": {
        "id": "mL--xXn5Cf9J",
        "colab_type": "text"
      },
      "source": [
        "Com este modelo, obtivemos um score de 0.55, um bom score para um primeiro modelo para competição. [link](https://www.kaggle.com/c/titanic/submissions)"
      ]
    }
  ]
}