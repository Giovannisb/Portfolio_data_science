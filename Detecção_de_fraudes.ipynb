{
  "nbformat": 4,
  "nbformat_minor": 0,
  "metadata": {
    "colab": {
      "name": "Detecção de fraudes.ipynb",
      "provenance": [],
      "collapsed_sections": [],
      "authorship_tag": "ABX9TyM3Yziq3t2ECHaNoK7bhxs8",
      "include_colab_link": true
    },
    "kernelspec": {
      "name": "python3",
      "display_name": "Python 3"
    }
  },
  "cells": [
    {
      "cell_type": "markdown",
      "metadata": {
        "id": "view-in-github",
        "colab_type": "text"
      },
      "source": [
        "<a href=\"https://colab.research.google.com/github/Giovannisb/Portfolio_data_science/blob/master/Detec%C3%A7%C3%A3o_de_fraudes.ipynb\" target=\"_parent\"><img src=\"https://colab.research.google.com/assets/colab-badge.svg\" alt=\"Open In Colab\"/></a>"
      ]
    },
    {
      "cell_type": "markdown",
      "metadata": {
        "id": "2EWljDEt_OdD",
        "colab_type": "text"
      },
      "source": [
        "#Detecção de fraudes em cartões de crédito"
      ]
    },
    {
      "cell_type": "markdown",
      "metadata": {
        "id": "NMRXFpWb_U2b",
        "colab_type": "text"
      },
      "source": [
        "<center><img src='https://image.freepik.com/fotos-gratis/cartoes-de-credito_144627-16725.jpg'></center>\n",
        "\n",
        "Sucessor do dinheiro em espécie, os cartões de crédito se tornaram os queridinhos das pessoas. Fácil de guardar na carteira, você evitava de levar quantias de dinheiro em espécie, com isso, ganhava um pouco de segurança pois, caso você fosse assaltado ou coisa do tipo, é só fazer uma ligação para o banco e bloquea-lo. \n",
        "\n",
        "Além da facilidade de transporte, também veio a facilidade para gastar, como é mais fácil passar um cartão na maquineta, o consumismo desenfreado cresceu bastante nas ultimas décadas. Todos os dias, todas as horas são feitas transações efetuadas por cartões de crédito e os criminosos de alguma forma, tentam fraudar essas transações.\n",
        "\n",
        "<center><img src='https://image.freepik.com/vetores-gratis/cartoes-de-credito-de-hackers-de-personagens_23-2148537999.jpg'></center>\n",
        "\n",
        "Com o advento de avanço nos estudos de data science e da tecnologia, a área de machine learning está presente no combate a esse tipo de crime. Bancos e emissoras de cartões, se ultilizam do `machine learning` para identificar de forma mais fácil e rápido, se determinada transação é fraudulenta ou não.\n",
        "\n",
        "Nesta análise, vou abordar alguns conceitos introdutórios ao machine learning."
      ]
    },
    {
      "cell_type": "markdown",
      "metadata": {
        "id": "4TBudkI-H69A",
        "colab_type": "text"
      },
      "source": [
        "##Importando dados"
      ]
    },
    {
      "cell_type": "markdown",
      "metadata": {
        "id": "bBKSD9B6H63o",
        "colab_type": "text"
      },
      "source": [
        "No site do `Kaggle`, uma das maiores plataformas de datasets abertos hoje, irei utilizar um dataset de fraudes de cartões de crédito na Europa.\n",
        "\n",
        "Como de costume, inicio importando algumas bibliotecas para facilitar minha análise, como o `Pandas`, `Matplotlib` e `Seaborn`."
      ]
    },
    {
      "cell_type": "code",
      "metadata": {
        "id": "R1cZn_X2x3zm",
        "colab_type": "code",
        "colab": {}
      },
      "source": [
        "# importar os pacotes necessários\n",
        "import pandas as pd\n",
        "import matplotlib.pyplot as plt\n",
        "import seaborn as sns\n"
      ],
      "execution_count": null,
      "outputs": []
    },
    {
      "cell_type": "code",
      "metadata": {
        "id": "jDPlWwDW4f9o",
        "colab_type": "code",
        "colab": {
          "base_uri": "https://localhost:8080/",
          "height": 224
        },
        "outputId": "286da7cd-d4fb-479f-f597-cccd9fb388fd"
      },
      "source": [
        "file_path = \"https://www.dropbox.com/s/b44o3t3ehmnx2b7/creditcard.csv?dl=1\"\n",
        "\n",
        "# importar os dados para um dataframe\n",
        "df = pd.read_csv(file_path)\n",
        "df.head()"
      ],
      "execution_count": 2,
      "outputs": [
        {
          "output_type": "execute_result",
          "data": {
            "text/html": [
              "<div>\n",
              "<style scoped>\n",
              "    .dataframe tbody tr th:only-of-type {\n",
              "        vertical-align: middle;\n",
              "    }\n",
              "\n",
              "    .dataframe tbody tr th {\n",
              "        vertical-align: top;\n",
              "    }\n",
              "\n",
              "    .dataframe thead th {\n",
              "        text-align: right;\n",
              "    }\n",
              "</style>\n",
              "<table border=\"1\" class=\"dataframe\">\n",
              "  <thead>\n",
              "    <tr style=\"text-align: right;\">\n",
              "      <th></th>\n",
              "      <th>Time</th>\n",
              "      <th>V1</th>\n",
              "      <th>V2</th>\n",
              "      <th>V3</th>\n",
              "      <th>V4</th>\n",
              "      <th>V5</th>\n",
              "      <th>V6</th>\n",
              "      <th>V7</th>\n",
              "      <th>V8</th>\n",
              "      <th>V9</th>\n",
              "      <th>V10</th>\n",
              "      <th>V11</th>\n",
              "      <th>V12</th>\n",
              "      <th>V13</th>\n",
              "      <th>V14</th>\n",
              "      <th>V15</th>\n",
              "      <th>V16</th>\n",
              "      <th>V17</th>\n",
              "      <th>V18</th>\n",
              "      <th>V19</th>\n",
              "      <th>V20</th>\n",
              "      <th>V21</th>\n",
              "      <th>V22</th>\n",
              "      <th>V23</th>\n",
              "      <th>V24</th>\n",
              "      <th>V25</th>\n",
              "      <th>V26</th>\n",
              "      <th>V27</th>\n",
              "      <th>V28</th>\n",
              "      <th>Amount</th>\n",
              "      <th>Class</th>\n",
              "    </tr>\n",
              "  </thead>\n",
              "  <tbody>\n",
              "    <tr>\n",
              "      <th>0</th>\n",
              "      <td>0.0</td>\n",
              "      <td>-1.359807</td>\n",
              "      <td>-0.072781</td>\n",
              "      <td>2.536347</td>\n",
              "      <td>1.378155</td>\n",
              "      <td>-0.338321</td>\n",
              "      <td>0.462388</td>\n",
              "      <td>0.239599</td>\n",
              "      <td>0.098698</td>\n",
              "      <td>0.363787</td>\n",
              "      <td>0.090794</td>\n",
              "      <td>-0.551600</td>\n",
              "      <td>-0.617801</td>\n",
              "      <td>-0.991390</td>\n",
              "      <td>-0.311169</td>\n",
              "      <td>1.468177</td>\n",
              "      <td>-0.470401</td>\n",
              "      <td>0.207971</td>\n",
              "      <td>0.025791</td>\n",
              "      <td>0.403993</td>\n",
              "      <td>0.251412</td>\n",
              "      <td>-0.018307</td>\n",
              "      <td>0.277838</td>\n",
              "      <td>-0.110474</td>\n",
              "      <td>0.066928</td>\n",
              "      <td>0.128539</td>\n",
              "      <td>-0.189115</td>\n",
              "      <td>0.133558</td>\n",
              "      <td>-0.021053</td>\n",
              "      <td>149.62</td>\n",
              "      <td>0</td>\n",
              "    </tr>\n",
              "    <tr>\n",
              "      <th>1</th>\n",
              "      <td>0.0</td>\n",
              "      <td>1.191857</td>\n",
              "      <td>0.266151</td>\n",
              "      <td>0.166480</td>\n",
              "      <td>0.448154</td>\n",
              "      <td>0.060018</td>\n",
              "      <td>-0.082361</td>\n",
              "      <td>-0.078803</td>\n",
              "      <td>0.085102</td>\n",
              "      <td>-0.255425</td>\n",
              "      <td>-0.166974</td>\n",
              "      <td>1.612727</td>\n",
              "      <td>1.065235</td>\n",
              "      <td>0.489095</td>\n",
              "      <td>-0.143772</td>\n",
              "      <td>0.635558</td>\n",
              "      <td>0.463917</td>\n",
              "      <td>-0.114805</td>\n",
              "      <td>-0.183361</td>\n",
              "      <td>-0.145783</td>\n",
              "      <td>-0.069083</td>\n",
              "      <td>-0.225775</td>\n",
              "      <td>-0.638672</td>\n",
              "      <td>0.101288</td>\n",
              "      <td>-0.339846</td>\n",
              "      <td>0.167170</td>\n",
              "      <td>0.125895</td>\n",
              "      <td>-0.008983</td>\n",
              "      <td>0.014724</td>\n",
              "      <td>2.69</td>\n",
              "      <td>0</td>\n",
              "    </tr>\n",
              "    <tr>\n",
              "      <th>2</th>\n",
              "      <td>1.0</td>\n",
              "      <td>-1.358354</td>\n",
              "      <td>-1.340163</td>\n",
              "      <td>1.773209</td>\n",
              "      <td>0.379780</td>\n",
              "      <td>-0.503198</td>\n",
              "      <td>1.800499</td>\n",
              "      <td>0.791461</td>\n",
              "      <td>0.247676</td>\n",
              "      <td>-1.514654</td>\n",
              "      <td>0.207643</td>\n",
              "      <td>0.624501</td>\n",
              "      <td>0.066084</td>\n",
              "      <td>0.717293</td>\n",
              "      <td>-0.165946</td>\n",
              "      <td>2.345865</td>\n",
              "      <td>-2.890083</td>\n",
              "      <td>1.109969</td>\n",
              "      <td>-0.121359</td>\n",
              "      <td>-2.261857</td>\n",
              "      <td>0.524980</td>\n",
              "      <td>0.247998</td>\n",
              "      <td>0.771679</td>\n",
              "      <td>0.909412</td>\n",
              "      <td>-0.689281</td>\n",
              "      <td>-0.327642</td>\n",
              "      <td>-0.139097</td>\n",
              "      <td>-0.055353</td>\n",
              "      <td>-0.059752</td>\n",
              "      <td>378.66</td>\n",
              "      <td>0</td>\n",
              "    </tr>\n",
              "    <tr>\n",
              "      <th>3</th>\n",
              "      <td>1.0</td>\n",
              "      <td>-0.966272</td>\n",
              "      <td>-0.185226</td>\n",
              "      <td>1.792993</td>\n",
              "      <td>-0.863291</td>\n",
              "      <td>-0.010309</td>\n",
              "      <td>1.247203</td>\n",
              "      <td>0.237609</td>\n",
              "      <td>0.377436</td>\n",
              "      <td>-1.387024</td>\n",
              "      <td>-0.054952</td>\n",
              "      <td>-0.226487</td>\n",
              "      <td>0.178228</td>\n",
              "      <td>0.507757</td>\n",
              "      <td>-0.287924</td>\n",
              "      <td>-0.631418</td>\n",
              "      <td>-1.059647</td>\n",
              "      <td>-0.684093</td>\n",
              "      <td>1.965775</td>\n",
              "      <td>-1.232622</td>\n",
              "      <td>-0.208038</td>\n",
              "      <td>-0.108300</td>\n",
              "      <td>0.005274</td>\n",
              "      <td>-0.190321</td>\n",
              "      <td>-1.175575</td>\n",
              "      <td>0.647376</td>\n",
              "      <td>-0.221929</td>\n",
              "      <td>0.062723</td>\n",
              "      <td>0.061458</td>\n",
              "      <td>123.50</td>\n",
              "      <td>0</td>\n",
              "    </tr>\n",
              "    <tr>\n",
              "      <th>4</th>\n",
              "      <td>2.0</td>\n",
              "      <td>-1.158233</td>\n",
              "      <td>0.877737</td>\n",
              "      <td>1.548718</td>\n",
              "      <td>0.403034</td>\n",
              "      <td>-0.407193</td>\n",
              "      <td>0.095921</td>\n",
              "      <td>0.592941</td>\n",
              "      <td>-0.270533</td>\n",
              "      <td>0.817739</td>\n",
              "      <td>0.753074</td>\n",
              "      <td>-0.822843</td>\n",
              "      <td>0.538196</td>\n",
              "      <td>1.345852</td>\n",
              "      <td>-1.119670</td>\n",
              "      <td>0.175121</td>\n",
              "      <td>-0.451449</td>\n",
              "      <td>-0.237033</td>\n",
              "      <td>-0.038195</td>\n",
              "      <td>0.803487</td>\n",
              "      <td>0.408542</td>\n",
              "      <td>-0.009431</td>\n",
              "      <td>0.798278</td>\n",
              "      <td>-0.137458</td>\n",
              "      <td>0.141267</td>\n",
              "      <td>-0.206010</td>\n",
              "      <td>0.502292</td>\n",
              "      <td>0.219422</td>\n",
              "      <td>0.215153</td>\n",
              "      <td>69.99</td>\n",
              "      <td>0</td>\n",
              "    </tr>\n",
              "  </tbody>\n",
              "</table>\n",
              "</div>"
            ],
            "text/plain": [
              "   Time        V1        V2        V3  ...       V27       V28  Amount  Class\n",
              "0   0.0 -1.359807 -0.072781  2.536347  ...  0.133558 -0.021053  149.62      0\n",
              "1   0.0  1.191857  0.266151  0.166480  ... -0.008983  0.014724    2.69      0\n",
              "2   1.0 -1.358354 -1.340163  1.773209  ... -0.055353 -0.059752  378.66      0\n",
              "3   1.0 -0.966272 -0.185226  1.792993  ...  0.062723  0.061458  123.50      0\n",
              "4   2.0 -1.158233  0.877737  1.548718  ...  0.219422  0.215153   69.99      0\n",
              "\n",
              "[5 rows x 31 columns]"
            ]
          },
          "metadata": {
            "tags": []
          },
          "execution_count": 2
        }
      ]
    },
    {
      "cell_type": "code",
      "metadata": {
        "id": "RZ7opb_Y4lzw",
        "colab_type": "code",
        "colab": {
          "base_uri": "https://localhost:8080/",
          "height": 561
        },
        "outputId": "da387b74-84eb-4c3b-f0ca-161a36cc8200"
      },
      "source": [
        "df.isnull().sum()"
      ],
      "execution_count": 3,
      "outputs": [
        {
          "output_type": "execute_result",
          "data": {
            "text/plain": [
              "Time      0\n",
              "V1        0\n",
              "V2        0\n",
              "V3        0\n",
              "V4        0\n",
              "V5        0\n",
              "V6        0\n",
              "V7        0\n",
              "V8        0\n",
              "V9        0\n",
              "V10       0\n",
              "V11       0\n",
              "V12       0\n",
              "V13       0\n",
              "V14       0\n",
              "V15       0\n",
              "V16       0\n",
              "V17       0\n",
              "V18       0\n",
              "V19       0\n",
              "V20       0\n",
              "V21       0\n",
              "V22       0\n",
              "V23       0\n",
              "V24       0\n",
              "V25       0\n",
              "V26       0\n",
              "V27       0\n",
              "V28       0\n",
              "Amount    0\n",
              "Class     0\n",
              "dtype: int64"
            ]
          },
          "metadata": {
            "tags": []
          },
          "execution_count": 3
        }
      ]
    },
    {
      "cell_type": "markdown",
      "metadata": {
        "id": "gnJY5kzLIoZZ",
        "colab_type": "text"
      },
      "source": [
        "Como podemos observar nas cinco primeiras entradas do DataFrame, a maioria dos dados estão salvos de forma para que não exponha nenhum tipo de dado para identificar a transação. Apenas as colunas de `Time`, `Amount` e `Class` que podemos identificar não estando criptografadas as informações. E uma coisa muito interessante e boa para quem analisa os dados, não existe valor nulo em todo DAtaFrame.\n",
        "\n",
        "A coluna `Class` é o nosso indicador se a transação é fraudulenta ou não, o gráfico a seguir, identificamos a proporções de cada classificação. Como podemos observar, de mais de 284 mil transações, apenas 492 são identificadas como fraudes, representando apenas 0.17% do DataFrame, isso nos mostra o quão desbalanceado ele está."
      ]
    },
    {
      "cell_type": "code",
      "metadata": {
        "id": "KkO2cSfE4n5P",
        "colab_type": "code",
        "colab": {
          "base_uri": "https://localhost:8080/",
          "height": 381
        },
        "outputId": "fde22d5d-d7e0-4995-eb9a-dedeb3daf738"
      },
      "source": [
        "print(df.Class.value_counts())\n",
        "print(\"\\nFraudes representam {:.4f}% do dataset.\\n\".format((df[df.Class == 1].shape[0] / df.shape[0]) * 100))\n",
        "\n",
        "sns.countplot('Class', data=df);"
      ],
      "execution_count": 4,
      "outputs": [
        {
          "output_type": "stream",
          "text": [
            "0    284315\n",
            "1       492\n",
            "Name: Class, dtype: int64\n",
            "\n",
            "Fraudes representam 0.1727% do dataset.\n",
            "\n"
          ],
          "name": "stdout"
        },
        {
          "output_type": "display_data",
          "data": {
            "image/png": "[encoded data removed]",
            "text/plain": [
              "<Figure size 432x288 with 1 Axes>"
            ]
          },
          "metadata": {
            "tags": [],
            "needs_background": "light"
          }
        }
      ]
    },
    {
      "cell_type": "code",
      "metadata": {
        "id": "dANPEyFm4vQv",
        "colab_type": "code",
        "colab": {
          "base_uri": "https://localhost:8080/",
          "height": 513
        },
        "outputId": "77fc8f8b-8b4f-43da-deff-206b0dfced57"
      },
      "source": [
        "fig, ax = plt.subplots(nrows=2, ncols=1, figsize=(16,8))\n",
        "\n",
        "ax[0].hist(df.Time[df.Class == 0], bins=100)\n",
        "ax[0].set_title(\"Normal\")\n",
        "\n",
        "ax[1].hist(df.Time[df.Class == 1], bins=100)\n",
        "ax[1].set_title(\"Fraude\")\n",
        "\n",
        "plt.xlabel(\"Tempo(s)\")\n",
        "plt.ylabel(\"Transações\")\n",
        "\n",
        "plt.show()"
      ],
      "execution_count": 5,
      "outputs": [
        {
          "output_type": "display_data",
          "data": {
            "image/png": "[encoded data removed]",
            "text/plain": [
              "<Figure size 1152x576 with 2 Axes>"
            ]
          },
          "metadata": {
            "tags": [],
            "needs_background": "light"
          }
        }
      ]
    },
    {
      "cell_type": "markdown",
      "metadata": {
        "id": "6w3LH6gZJi2z",
        "colab_type": "text"
      },
      "source": [
        "Para visualizarmos melhor esses dados, plotei dois histogramas para podermos ter a visão de tempo x transações, quantas transações são fraudulentas ou não, em um determinado tempo. E como podemos ver, o maior valor de transações fraudulentas em 1 segundo, não chegou a 30 transações."
      ]
    },
    {
      "cell_type": "code",
      "metadata": {
        "id": "8Oz_tRBC4yV8",
        "colab_type": "code",
        "colab": {
          "base_uri": "https://localhost:8080/",
          "height": 625
        },
        "outputId": "453bd723-b5cc-44f5-944f-f644f70f4ecb"
      },
      "source": [
        "plt.figure(figsize=(12,10))\n",
        "sns.heatmap(data=df.corr());"
      ],
      "execution_count": 6,
      "outputs": [
        {
          "output_type": "display_data",
          "data": {
            "image/png": "[encoded data removed]",
            "text/plain": [
              "<Figure size 864x720 with 2 Axes>"
            ]
          },
          "metadata": {
            "tags": [],
            "needs_background": "light"
          }
        }
      ]
    },
    {
      "cell_type": "markdown",
      "metadata": {
        "id": "ccyQKHjBLko3",
        "colab_type": "text"
      },
      "source": [
        "Com o `heatmap` ou `mapa de calor`, nós analisamos a correlação das variáveis. Podemos identificar, por exemplo, que a coluna `Amount` tem uma correlação mais forte com a coluna `V7` e `V20`. E a coluna `Class` com a coluna `V11`. Como não temos ideia do que representam esses dados das colunas `V1` até a `V28`, não podemos afirmar como ocorre essa correlação."
      ]
    },
    {
      "cell_type": "markdown",
      "metadata": {
        "id": "_CUD9HAHMYCJ",
        "colab_type": "text"
      },
      "source": [
        "<center><img src='https://image.freepik.com/vetores-gratis/conjunto-de-robo-bonito-ai-personagem-analisar-e-observar-a-acao_99413-151.jpg'></center>\n",
        "\n",
        "#Modelo de machine learning"
      ]
    },
    {
      "cell_type": "markdown",
      "metadata": {
        "id": "-0RK34SyM4Zl",
        "colab_type": "text"
      },
      "source": [
        "##Afinal, o que é machine learning?"
      ]
    },
    {
      "cell_type": "markdown",
      "metadata": {
        "id": "Ie0PCAY0i30p",
        "colab_type": "text"
      },
      "source": [
        "Machine learning ou aprendizado de máquinas é um subcampoda ciência da computação que evoluiu dos estudos de reconhecimento de padrões e aprendizado computacional em inteligência artificial. Machine learning explora o estudo e construção de algoritmos que podem aprender de seus erros e fazer previsões sobre dados. Tais algoritmos operam construindo um modelo a partir de inputs amostrais a fim de fazer previsões ou decisões guiadas pelos dados ao invés de simplesmente seguindo inflexíveis e estáticas instruções programadas.\n",
        "\n",
        "Para essa parte da análise dos dados, irei utilizar uma biblioteca chamada `scikit-learn`, que nos ajuda a criar, treinar e testar os modelos de predição dos dados."
      ]
    },
    {
      "cell_type": "code",
      "metadata": {
        "id": "kKfV6krQeUqc",
        "colab_type": "code",
        "colab": {}
      },
      "source": [
        "from sklearn.linear_model import LogisticRegression\n",
        "from sklearn.metrics import classification_report\n",
        "from sklearn.metrics import confusion_matrix\n",
        "from sklearn.model_selection import train_test_split\n",
        "from sklearn.metrics import roc_auc_score, roc_curve, accuracy_score\n",
        "from imblearn.under_sampling import RandomUnderSampler\n",
        "from sklearn.preprocessing import StandardScaler"
      ],
      "execution_count": null,
      "outputs": []
    },
    {
      "cell_type": "markdown",
      "metadata": {
        "id": "aymMjVSAxgVs",
        "colab_type": "text"
      },
      "source": [
        "Irei criar um modelo de classificação chamado `logistc regression`. Como procedimento de boa prática, deveriamos balancear e normalizar os dados, mas antes, vou executar o modelo sem esses procedimentos para comparar-mos as diferenças."
      ]
    },
    {
      "cell_type": "code",
      "metadata": {
        "id": "9oUFJGVRggd2",
        "colab_type": "code",
        "colab": {
          "base_uri": "https://localhost:8080/",
          "height": 669
        },
        "outputId": "3765eb4b-0d25-4ad3-9661-e0a1cac7306f"
      },
      "source": [
        "#Treino e teste desbalanceado\n",
        "X = df.drop('Class', axis=1)\n",
        "y = df['Class']\n",
        " \n",
        "# dividir o dataset entre treino e teste\n",
        "X_train, X_test, y_train, y_test = train_test_split(X, y, stratify=y, shuffle=True)\n",
        " \n",
        "# instanciar e treinar um modelo de Regressão Logística\n",
        "model = LogisticRegression()\n",
        "model.fit(X_train, y_train)\n",
        " \n",
        "# fazer as previsões em cima dos dados de teste\n",
        "y_pred = model.predict(X_test)\n",
        "y_proba = model.predict_proba(X_test)\n",
        " \n",
        "# plotar a matrix de confusão\n",
        "fig, ax = plt.subplots()\n",
        "sns.heatmap(confusion_matrix(y_test, y_pred), annot=True, ax=ax);\n",
        "\n",
        "ax.set_title(\"Matriz de Confusão\")\n",
        "ax.set_ylabel(\"Verdadeiro\")\n",
        "ax.set_xlabel(\"Previsto\")\n",
        "\n",
        "plt.show()\n",
        " \n",
        "# imprimir relatório de classificação\n",
        "print(\"Relatório de Classificação:\\n\", classification_report(y_test, y_pred, digits=4))\n",
        " \n",
        "# imprimir a acurácia do modelo\n",
        "print(\"Acurácia: {:.4f}\\n\".format(accuracy_score(y_test, y_pred)))\n",
        " \n",
        "# imprimir a área sob a curva\n",
        "print(\"AUC: {:.4f}\\n\".format(roc_auc_score(y_test, y_pred)))"
      ],
      "execution_count": 8,
      "outputs": [
        {
          "output_type": "stream",
          "text": [
            "/usr/local/lib/python3.6/dist-packages/sklearn/linear_model/_logistic.py:940: ConvergenceWarning: lbfgs failed to converge (status=1):\n",
            "STOP: TOTAL NO. of ITERATIONS REACHED LIMIT.\n",
            "\n",
            "Increase the number of iterations (max_iter) or scale the data as shown in:\n",
            "    https://scikit-learn.org/stable/modules/preprocessing.html\n",
            "Please also refer to the documentation for alternative solver options:\n",
            "    https://scikit-learn.org/stable/modules/linear_model.html#logistic-regression\n",
            "  extra_warning_msg=_LOGISTIC_SOLVER_CONVERGENCE_MSG)\n"
          ],
          "name": "stderr"
        },
        {
          "output_type": "display_data",
          "data": {
            "image/png": "[encoded data removed]",
            "text/plain": [
              "<Figure size 432x288 with 2 Axes>"
            ]
          },
          "metadata": {
            "tags": [],
            "needs_background": "light"
          }
        },
        {
          "output_type": "stream",
          "text": [
            "Relatório de Classificação:\n",
            "               precision    recall  f1-score   support\n",
            "\n",
            "           0     0.9994    0.9995    0.9995     71079\n",
            "           1     0.7155    0.6748    0.6946       123\n",
            "\n",
            "    accuracy                         0.9990     71202\n",
            "   macro avg     0.8575    0.8372    0.8470     71202\n",
            "weighted avg     0.9989    0.9990    0.9990     71202\n",
            "\n",
            "Acurácia: 0.9990\n",
            "\n",
            "AUC: 0.8372\n",
            "\n"
          ],
          "name": "stdout"
        }
      ]
    },
    {
      "cell_type": "markdown",
      "metadata": {
        "id": "DZ6RknjL0Pba",
        "colab_type": "text"
      },
      "source": [
        "Observamos uma acurácia altíssima, de 99.88% porem, quando comparado com o AUC, há uma diferença de quase 20%. AUC é a probabilidade de que um exemplo positivo aleatório seja pontuado acima de um exemplo negativo aleatório. \n",
        "\n",
        "Para corrigirmos isso, precisamos balancear os dados. Para isso, utilizei a técnica de under-sampling, que consiste em  reduzir o desbalanceamento do dataset focando na classe majoritária. Ou seja, elimina aleatoriamente entradas da classe com maior número de ocorrências.\n",
        "\n",
        "Observando o `heatmap`, podemos ver que temos bastante falso-negativos e queremos o menor número disso, então, iremos balancear nossos dados."
      ]
    },
    {
      "cell_type": "code",
      "metadata": {
        "id": "KDLXAcYo51fm",
        "colab_type": "code",
        "colab": {
          "base_uri": "https://localhost:8080/",
          "height": 370
        },
        "outputId": "48b7ad22-a56f-4ddf-b487-324151b8e380"
      },
      "source": [
        "# usar técnica under-sampling\n",
        "rus = RandomUnderSampler()\n",
        "X_res, y_res = rus.fit_sample(X_train, y_train)\n",
        "\n",
        "# ver o balanceamento das classes\n",
        "print(pd.Series(y_res).value_counts())\n",
        "\n",
        "# plotar a nova distribuição de classes\n",
        "sns.countplot(y_res);"
      ],
      "execution_count": 9,
      "outputs": [
        {
          "output_type": "stream",
          "text": [
            "1    369\n",
            "0    369\n",
            "dtype: int64\n"
          ],
          "name": "stdout"
        },
        {
          "output_type": "stream",
          "text": [
            "/usr/local/lib/python3.6/dist-packages/sklearn/utils/deprecation.py:87: FutureWarning: Function safe_indexing is deprecated; safe_indexing is deprecated in version 0.22 and will be removed in version 0.24.\n",
            "  warnings.warn(msg, category=FutureWarning)\n"
          ],
          "name": "stderr"
        },
        {
          "output_type": "display_data",
          "data": {
            "image/png": "[encoded data removed]",
            "text/plain": [
              "<Figure size 432x288 with 1 Axes>"
            ]
          },
          "metadata": {
            "tags": [],
            "needs_background": "light"
          }
        }
      ]
    },
    {
      "cell_type": "markdown",
      "metadata": {
        "id": "5_kbqtRi5C-n",
        "colab_type": "text"
      },
      "source": [
        "Agora temos nossos dados balanceados. Vamos treinar de novo o modelo com os dados balanceados e vamos ver o resultado."
      ]
    },
    {
      "cell_type": "code",
      "metadata": {
        "id": "feEJ_4EZ6DwV",
        "colab_type": "code",
        "colab": {
          "base_uri": "https://localhost:8080/",
          "height": 533
        },
        "outputId": "386bbf33-0b7f-446b-91fb-cad7f0acb82f"
      },
      "source": [
        "# instanciar e treinar um modelo de Regressão Logística\n",
        "model_res = LogisticRegression()\n",
        "\n",
        "#Padronizando os dados de treino\n",
        "scaler = StandardScaler().fit(X_train)\n",
        "X_train = scaler.transform(X_train)\n",
        "model_res.fit(X_res, y_res)\n",
        "\n",
        "# fazer as previsões em cima dos dados de teste\n",
        "y_pred_res = model_res.predict(X_test)\n",
        "y_proba_res = model_res.predict_proba(X_test)\n",
        "\n",
        "# plotar a matrix de confusão\n",
        "fig, ax = plt.subplots()\n",
        "sns.heatmap(confusion_matrix(y_test, y_pred_res), annot=True, ax=ax);\n",
        "\n",
        "ax.set_title(\"Matriz de Confusão\")\n",
        "ax.set_ylabel(\"Verdadeiro\")\n",
        "ax.set_xlabel(\"Previsto\")\n",
        "\n",
        "plt.show()\n",
        "\n",
        "# imprimir relatório de classificação\n",
        "print(\"Relatório de Classificação:\\n\", classification_report(y_test, y_pred_res, digits=4))\n",
        "\n",
        "# imprimir a acurácia do modelo\n",
        "print(\"Acurácia: {:.4f}\\n\".format(accuracy_score(y_test, y_pred_res)))\n",
        "\n",
        "# imprimir a área sob da curva\n",
        "print(\"AUC: {:.4f}\\n\".format(roc_auc_score(y_test, y_pred_res)))"
      ],
      "execution_count": 10,
      "outputs": [
        {
          "output_type": "display_data",
          "data": {
            "image/png": "[encoded data removed]",
            "text/plain": [
              "<Figure size 432x288 with 2 Axes>"
            ]
          },
          "metadata": {
            "tags": [],
            "needs_background": "light"
          }
        },
        {
          "output_type": "stream",
          "text": [
            "Relatório de Classificação:\n",
            "               precision    recall  f1-score   support\n",
            "\n",
            "           0     0.9998    0.9632    0.9811     71079\n",
            "           1     0.0400    0.8862    0.0765       123\n",
            "\n",
            "    accuracy                         0.9630     71202\n",
            "   macro avg     0.5199    0.9247    0.5288     71202\n",
            "weighted avg     0.9981    0.9630    0.9796     71202\n",
            "\n",
            "Acurácia: 0.9630\n",
            "\n",
            "AUC: 0.9247\n",
            "\n"
          ],
          "name": "stdout"
        }
      ]
    },
    {
      "cell_type": "markdown",
      "metadata": {
        "id": "wSYFVLdv6FVz",
        "colab_type": "text"
      },
      "source": [
        "Observamos que a acurácia diminuiu para 96%, mas o AUC aumentou para 92%, uma diferença de apenas 4% e podemos ver que os falsos-negativos diminuiram.\n",
        "\n",
        "Agora vamos normalizar nossos dados."
      ]
    },
    {
      "cell_type": "code",
      "metadata": {
        "id": "znKP8OQI9F3d",
        "colab_type": "code",
        "colab": {
          "base_uri": "https://localhost:8080/",
          "height": 533
        },
        "outputId": "e52b6538-2873-4b18-a44b-a822d3cbf604"
      },
      "source": [
        "#instanciando modelo\n",
        "model = LogisticRegression()\n",
        "\n",
        "# dividir o dataset entre treino e teste\n",
        "X_train, X_test, y_train, y_test = train_test_split(X, y, stratify=y, shuffle=True)\n",
        " \n",
        "#Padronizando os dados de treino\n",
        "scaler = StandardScaler().fit(X_res)\n",
        "X_train = scaler.transform(X_res)\n",
        "\n",
        "# treinando o modelo de Regressão Logística\n",
        "model.fit(X_train, y_res)\n",
        " \n",
        "# fazer as previsões em cima dos dados de teste\n",
        "X_test = scaler.transform(X_test)\n",
        "y_pred = model.predict(X_test)\n",
        "\n",
        "# plotar a matrix de confusão\n",
        "fig, ax = plt.subplots()\n",
        "sns.heatmap(confusion_matrix(y_test, y_pred), annot=True, ax=ax);\n",
        "\n",
        "ax.set_title(\"Matriz de Confusão\")\n",
        "ax.set_ylabel(\"Verdadeiro\")\n",
        "ax.set_xlabel(\"Previsto\")\n",
        "\n",
        "plt.show()\n",
        " \n",
        "# imprimir relatório de classificação\n",
        "print(\"Relatório de Classificação:\\n\", classification_report(y_test, y_pred, digits=4))\n",
        " \n",
        "# imprimir a acurácia do modelo\n",
        "print(\"Acurácia: {:.4f}\\n\".format(accuracy_score(y_test, y_pred)))\n",
        " \n",
        "# imprimir a área sob a curva\n",
        "print(\"AUC: {:.4f}\\n\".format(roc_auc_score(y_test, y_pred)))"
      ],
      "execution_count": 12,
      "outputs": [
        {
          "output_type": "display_data",
          "data": {
            "image/png": "[encoded data removed]",
            "text/plain": [
              "<Figure size 432x288 with 2 Axes>"
            ]
          },
          "metadata": {
            "tags": [],
            "needs_background": "light"
          }
        },
        {
          "output_type": "stream",
          "text": [
            "Relatório de Classificação:\n",
            "               precision    recall  f1-score   support\n",
            "\n",
            "           0     0.9999    0.9728    0.9862     71079\n",
            "           1     0.0574    0.9593    0.1084       123\n",
            "\n",
            "    accuracy                         0.9727     71202\n",
            "   macro avg     0.5287    0.9661    0.5473     71202\n",
            "weighted avg     0.9983    0.9727    0.9846     71202\n",
            "\n",
            "Acurácia: 0.9727\n",
            "\n",
            "AUC: 0.9661\n",
            "\n"
          ],
          "name": "stdout"
        }
      ]
    },
    {
      "cell_type": "markdown",
      "metadata": {
        "id": "sDUmECTxCFPZ",
        "colab_type": "text"
      },
      "source": [
        "Com os dados normalizados e balanceados, podemos ver que a acurácia chegou a 97% e o AUC em 96%. Quanto mais próximos eles estiverem, mais preciso é o nosso modelo de predição dos dados. Podemos observar no heatmap o baixo número de falsos-negativos."
      ]
    },
    {
      "cell_type": "markdown",
      "metadata": {
        "id": "HT8i5eW4DRX2",
        "colab_type": "text"
      },
      "source": [
        "#Conclusão"
      ]
    },
    {
      "cell_type": "markdown",
      "metadata": {
        "id": "XCanHB-TDTjz",
        "colab_type": "text"
      },
      "source": [
        "Devemos ter bastante cuidado com os dados quando estamos desenvolvendo um modelo de machine learning, principalmente no balanceamento e na normalização. O índe AUC que usamos, é bastante utilizado nas principais competições, como as do Kaggle por exemplo. Apenas a acurácia não avalia se o seu modelo é bom ou não pois, uma alta acurácia pode significar um overfitting(quando o modelo é muito bom nos dados de treino mais não consegue classificar corretamente os dados de teste. Quanto mais próximo o valor da acurácia estiver do AUC, melhor é o nosso modelo e podemos ver isso nos três modelos que treinamos."
      ]
    }
  ]
}